{
  "nbformat": 4,
  "nbformat_minor": 0,
  "metadata": {
    "colab": {
      "name": "exoplanetas_hands_on_5.ipynb",
      "provenance": [],
      "collapsed_sections": [
        "Zk_TTyApfWx3",
        "8AvB1dbHuaqc"
      ]
    },
    "kernelspec": {
      "name": "python3",
      "display_name": "Python 3"
    },
    "language_info": {
      "name": "python"
    },
    "accelerator": "GPU"
  },
  "cells": [
    {
      "cell_type": "markdown",
      "source": [
        " # TRABAJO DETECCIÓN ANOMALIAS. \n",
        " ### DEEP LEARNING\n",
        " #####   MANEL SOLER SANZ"
      ],
      "metadata": {
        "id": "Jny6EgC3VOJl"
      }
    },
    {
      "cell_type": "code",
      "execution_count": null,
      "metadata": {
        "id": "QrrBWeZPSwFP"
      },
      "outputs": [],
      "source": [
        "import numpy as np\n",
        "import matplotlib.pyplot as plt\n",
        "import math\n",
        "from sklearn.decomposition import PCA\n",
        "%matplotlib inline\n",
        "from sklearn import datasets\n",
        "import pandas as pd\n",
        "from pandas.api.types import is_string_dtype\n",
        "from pandas.api.types import is_numeric_dtype\n",
        "from sklearn.preprocessing import StandardScaler\n",
        "from sklearn.model_selection import train_test_split\n",
        "from sklearn.preprocessing import MinMaxScaler\n",
        "import tensorflow as tf\n",
        "from keras.layers import Input, Dense , Conv2D, MaxPooling2D, UpSampling2D,Dropout\n",
        "from keras.models import Model\n",
        "#SciPy: scientific tools\n",
        "import scipy.io.matlab as matlab\n",
        "import librosa, librosa.display\n",
        "\n"
      ]
    },
    {
      "cell_type": "code",
      "source": [
        ""
      ],
      "metadata": {
        "id": "MlezmgrASw6z"
      },
      "execution_count": null,
      "outputs": []
    },
    {
      "cell_type": "markdown",
      "source": [
        "# Data set : \n",
        "\n",
        "This repository contains the PHL-EC dataset used in the classification problem for exoplanets. The data set is used in the manuscript \"Habitability Classification of Exoplanets: A Machine Learning Insight\""
      ],
      "metadata": {
        "id": "gAsSObOQVTN2"
      }
    },
    {
      "cell_type": "code",
      "source": [
        "url = \"https://raw.githubusercontent.com/mathurarchana77/Habitability-PHL-EC-Dataset/main/PHL-EC.csv\"\n",
        "data = pd.read_csv(url) \n",
        "data.head()"
      ],
      "metadata": {
        "colab": {
          "base_uri": "https://localhost:8080/",
          "height": 439
        },
        "id": "TZPScthQTmZi",
        "outputId": "68536dba-5e67-47dd-f663-d3c608ff1a80"
      },
      "execution_count": null,
      "outputs": [
        {
          "output_type": "execute_result",
          "data": {
            "text/plain": [
              "            P. Name P. Name Kepler  P. Name KOI P. Zone Class P. Mass Class  \\\n",
              "0       1RXS 1609 b            NaN          NaN          Cold        Jovian   \n",
              "1    1SWASP J1407 b            NaN          NaN          Cold        Jovian   \n",
              "2  2M 0103-55(AB) b            NaN          NaN          Cold        Jovian   \n",
              "3      2M 0122-24 b            NaN          NaN          Cold        Jovian   \n",
              "4      2M 0219-39 b            NaN          NaN          Cold        Jovian   \n",
              "\n",
              "  P. Composition Class P. Atmosphere Class P. Habitable Class  \\\n",
              "0                  gas       hydrogen-rich      non-habitable   \n",
              "1                  gas       hydrogen-rich      non-habitable   \n",
              "2                  gas       hydrogen-rich      non-habitable   \n",
              "3                  gas       hydrogen-rich      non-habitable   \n",
              "4                  gas       hydrogen-rich      non-habitable   \n",
              "\n",
              "   P. Min Mass (EU)  P. Mass (EU)  ...  P. Int ESI  P. Surf ESI  P. ESI  \\\n",
              "0               NaN       4451.16  ...           0            0    0.05   \n",
              "1           6358.80       6358.80  ...           0            0    0.07   \n",
              "2           4133.22       4133.22  ...           0            0    0.06   \n",
              "3               NaN       6358.80  ...           0            0    0.08   \n",
              "4               NaN       4419.37  ...           0            0    0.06   \n",
              "\n",
              "   S. HabCat  P. Habitable P. Hab Moon P. Confirmed  P. Disc. Method  \\\n",
              "0          0             0           0            1          Imaging   \n",
              "1          0             0           0            1  Primary Transit   \n",
              "2          0             0           0            1          Imaging   \n",
              "3          0             0           0            1          Imaging   \n",
              "4          0             0           0            1          Imaging   \n",
              "\n",
              "   P. Disc. Year  Unnamed: 68  \n",
              "0           2008          NaN  \n",
              "1           2012          NaN  \n",
              "2           2013          NaN  \n",
              "3           2013          NaN  \n",
              "4           2015          NaN  \n",
              "\n",
              "[5 rows x 69 columns]"
            ],
            "text/html": [
              "\n",
              "  <div id=\"df-70cb3da3-8a72-4519-ab34-4ea414848a7a\">\n",
              "    <div class=\"colab-df-container\">\n",
              "      <div>\n",
              "<style scoped>\n",
              "    .dataframe tbody tr th:only-of-type {\n",
              "        vertical-align: middle;\n",
              "    }\n",
              "\n",
              "    .dataframe tbody tr th {\n",
              "        vertical-align: top;\n",
              "    }\n",
              "\n",
              "    .dataframe thead th {\n",
              "        text-align: right;\n",
              "    }\n",
              "</style>\n",
              "<table border=\"1\" class=\"dataframe\">\n",
              "  <thead>\n",
              "    <tr style=\"text-align: right;\">\n",
              "      <th></th>\n",
              "      <th>P. Name</th>\n",
              "      <th>P. Name Kepler</th>\n",
              "      <th>P. Name KOI</th>\n",
              "      <th>P. Zone Class</th>\n",
              "      <th>P. Mass Class</th>\n",
              "      <th>P. Composition Class</th>\n",
              "      <th>P. Atmosphere Class</th>\n",
              "      <th>P. Habitable Class</th>\n",
              "      <th>P. Min Mass (EU)</th>\n",
              "      <th>P. Mass (EU)</th>\n",
              "      <th>...</th>\n",
              "      <th>P. Int ESI</th>\n",
              "      <th>P. Surf ESI</th>\n",
              "      <th>P. ESI</th>\n",
              "      <th>S. HabCat</th>\n",
              "      <th>P. Habitable</th>\n",
              "      <th>P. Hab Moon</th>\n",
              "      <th>P. Confirmed</th>\n",
              "      <th>P. Disc. Method</th>\n",
              "      <th>P. Disc. Year</th>\n",
              "      <th>Unnamed: 68</th>\n",
              "    </tr>\n",
              "  </thead>\n",
              "  <tbody>\n",
              "    <tr>\n",
              "      <th>0</th>\n",
              "      <td>1RXS 1609 b</td>\n",
              "      <td>NaN</td>\n",
              "      <td>NaN</td>\n",
              "      <td>Cold</td>\n",
              "      <td>Jovian</td>\n",
              "      <td>gas</td>\n",
              "      <td>hydrogen-rich</td>\n",
              "      <td>non-habitable</td>\n",
              "      <td>NaN</td>\n",
              "      <td>4451.16</td>\n",
              "      <td>...</td>\n",
              "      <td>0</td>\n",
              "      <td>0</td>\n",
              "      <td>0.05</td>\n",
              "      <td>0</td>\n",
              "      <td>0</td>\n",
              "      <td>0</td>\n",
              "      <td>1</td>\n",
              "      <td>Imaging</td>\n",
              "      <td>2008</td>\n",
              "      <td>NaN</td>\n",
              "    </tr>\n",
              "    <tr>\n",
              "      <th>1</th>\n",
              "      <td>1SWASP J1407 b</td>\n",
              "      <td>NaN</td>\n",
              "      <td>NaN</td>\n",
              "      <td>Cold</td>\n",
              "      <td>Jovian</td>\n",
              "      <td>gas</td>\n",
              "      <td>hydrogen-rich</td>\n",
              "      <td>non-habitable</td>\n",
              "      <td>6358.80</td>\n",
              "      <td>6358.80</td>\n",
              "      <td>...</td>\n",
              "      <td>0</td>\n",
              "      <td>0</td>\n",
              "      <td>0.07</td>\n",
              "      <td>0</td>\n",
              "      <td>0</td>\n",
              "      <td>0</td>\n",
              "      <td>1</td>\n",
              "      <td>Primary Transit</td>\n",
              "      <td>2012</td>\n",
              "      <td>NaN</td>\n",
              "    </tr>\n",
              "    <tr>\n",
              "      <th>2</th>\n",
              "      <td>2M 0103-55(AB) b</td>\n",
              "      <td>NaN</td>\n",
              "      <td>NaN</td>\n",
              "      <td>Cold</td>\n",
              "      <td>Jovian</td>\n",
              "      <td>gas</td>\n",
              "      <td>hydrogen-rich</td>\n",
              "      <td>non-habitable</td>\n",
              "      <td>4133.22</td>\n",
              "      <td>4133.22</td>\n",
              "      <td>...</td>\n",
              "      <td>0</td>\n",
              "      <td>0</td>\n",
              "      <td>0.06</td>\n",
              "      <td>0</td>\n",
              "      <td>0</td>\n",
              "      <td>0</td>\n",
              "      <td>1</td>\n",
              "      <td>Imaging</td>\n",
              "      <td>2013</td>\n",
              "      <td>NaN</td>\n",
              "    </tr>\n",
              "    <tr>\n",
              "      <th>3</th>\n",
              "      <td>2M 0122-24 b</td>\n",
              "      <td>NaN</td>\n",
              "      <td>NaN</td>\n",
              "      <td>Cold</td>\n",
              "      <td>Jovian</td>\n",
              "      <td>gas</td>\n",
              "      <td>hydrogen-rich</td>\n",
              "      <td>non-habitable</td>\n",
              "      <td>NaN</td>\n",
              "      <td>6358.80</td>\n",
              "      <td>...</td>\n",
              "      <td>0</td>\n",
              "      <td>0</td>\n",
              "      <td>0.08</td>\n",
              "      <td>0</td>\n",
              "      <td>0</td>\n",
              "      <td>0</td>\n",
              "      <td>1</td>\n",
              "      <td>Imaging</td>\n",
              "      <td>2013</td>\n",
              "      <td>NaN</td>\n",
              "    </tr>\n",
              "    <tr>\n",
              "      <th>4</th>\n",
              "      <td>2M 0219-39 b</td>\n",
              "      <td>NaN</td>\n",
              "      <td>NaN</td>\n",
              "      <td>Cold</td>\n",
              "      <td>Jovian</td>\n",
              "      <td>gas</td>\n",
              "      <td>hydrogen-rich</td>\n",
              "      <td>non-habitable</td>\n",
              "      <td>NaN</td>\n",
              "      <td>4419.37</td>\n",
              "      <td>...</td>\n",
              "      <td>0</td>\n",
              "      <td>0</td>\n",
              "      <td>0.06</td>\n",
              "      <td>0</td>\n",
              "      <td>0</td>\n",
              "      <td>0</td>\n",
              "      <td>1</td>\n",
              "      <td>Imaging</td>\n",
              "      <td>2015</td>\n",
              "      <td>NaN</td>\n",
              "    </tr>\n",
              "  </tbody>\n",
              "</table>\n",
              "<p>5 rows × 69 columns</p>\n",
              "</div>\n",
              "      <button class=\"colab-df-convert\" onclick=\"convertToInteractive('df-70cb3da3-8a72-4519-ab34-4ea414848a7a')\"\n",
              "              title=\"Convert this dataframe to an interactive table.\"\n",
              "              style=\"display:none;\">\n",
              "        \n",
              "  <svg xmlns=\"http://www.w3.org/2000/svg\" height=\"24px\"viewBox=\"0 0 24 24\"\n",
              "       width=\"24px\">\n",
              "    <path d=\"M0 0h24v24H0V0z\" fill=\"none\"/>\n",
              "    <path d=\"M18.56 5.44l.94 2.06.94-2.06 2.06-.94-2.06-.94-.94-2.06-.94 2.06-2.06.94zm-11 1L8.5 8.5l.94-2.06 2.06-.94-2.06-.94L8.5 2.5l-.94 2.06-2.06.94zm10 10l.94 2.06.94-2.06 2.06-.94-2.06-.94-.94-2.06-.94 2.06-2.06.94z\"/><path d=\"M17.41 7.96l-1.37-1.37c-.4-.4-.92-.59-1.43-.59-.52 0-1.04.2-1.43.59L10.3 9.45l-7.72 7.72c-.78.78-.78 2.05 0 2.83L4 21.41c.39.39.9.59 1.41.59.51 0 1.02-.2 1.41-.59l7.78-7.78 2.81-2.81c.8-.78.8-2.07 0-2.86zM5.41 20L4 18.59l7.72-7.72 1.47 1.35L5.41 20z\"/>\n",
              "  </svg>\n",
              "      </button>\n",
              "      \n",
              "  <style>\n",
              "    .colab-df-container {\n",
              "      display:flex;\n",
              "      flex-wrap:wrap;\n",
              "      gap: 12px;\n",
              "    }\n",
              "\n",
              "    .colab-df-convert {\n",
              "      background-color: #E8F0FE;\n",
              "      border: none;\n",
              "      border-radius: 50%;\n",
              "      cursor: pointer;\n",
              "      display: none;\n",
              "      fill: #1967D2;\n",
              "      height: 32px;\n",
              "      padding: 0 0 0 0;\n",
              "      width: 32px;\n",
              "    }\n",
              "\n",
              "    .colab-df-convert:hover {\n",
              "      background-color: #E2EBFA;\n",
              "      box-shadow: 0px 1px 2px rgba(60, 64, 67, 0.3), 0px 1px 3px 1px rgba(60, 64, 67, 0.15);\n",
              "      fill: #174EA6;\n",
              "    }\n",
              "\n",
              "    [theme=dark] .colab-df-convert {\n",
              "      background-color: #3B4455;\n",
              "      fill: #D2E3FC;\n",
              "    }\n",
              "\n",
              "    [theme=dark] .colab-df-convert:hover {\n",
              "      background-color: #434B5C;\n",
              "      box-shadow: 0px 1px 3px 1px rgba(0, 0, 0, 0.15);\n",
              "      filter: drop-shadow(0px 1px 2px rgba(0, 0, 0, 0.3));\n",
              "      fill: #FFFFFF;\n",
              "    }\n",
              "  </style>\n",
              "\n",
              "      <script>\n",
              "        const buttonEl =\n",
              "          document.querySelector('#df-70cb3da3-8a72-4519-ab34-4ea414848a7a button.colab-df-convert');\n",
              "        buttonEl.style.display =\n",
              "          google.colab.kernel.accessAllowed ? 'block' : 'none';\n",
              "\n",
              "        async function convertToInteractive(key) {\n",
              "          const element = document.querySelector('#df-70cb3da3-8a72-4519-ab34-4ea414848a7a');\n",
              "          const dataTable =\n",
              "            await google.colab.kernel.invokeFunction('convertToInteractive',\n",
              "                                                     [key], {});\n",
              "          if (!dataTable) return;\n",
              "\n",
              "          const docLinkHtml = 'Like what you see? Visit the ' +\n",
              "            '<a target=\"_blank\" href=https://colab.research.google.com/notebooks/data_table.ipynb>data table notebook</a>'\n",
              "            + ' to learn more about interactive tables.';\n",
              "          element.innerHTML = '';\n",
              "          dataTable['output_type'] = 'display_data';\n",
              "          await google.colab.output.renderOutput(dataTable, element);\n",
              "          const docLink = document.createElement('div');\n",
              "          docLink.innerHTML = docLinkHtml;\n",
              "          element.appendChild(docLink);\n",
              "        }\n",
              "      </script>\n",
              "    </div>\n",
              "  </div>\n",
              "  "
            ]
          },
          "metadata": {},
          "execution_count": 112
        }
      ]
    },
    {
      "cell_type": "code",
      "source": [
        "data.shape\n"
      ],
      "metadata": {
        "id": "yZao8TqZTxAC",
        "colab": {
          "base_uri": "https://localhost:8080/"
        },
        "outputId": "7a61c08d-556b-40b3-8455-e947fa5e3e87"
      },
      "execution_count": null,
      "outputs": [
        {
          "output_type": "execute_result",
          "data": {
            "text/plain": [
              "(3875, 69)"
            ]
          },
          "metadata": {},
          "execution_count": 113
        }
      ]
    },
    {
      "cell_type": "markdown",
      "source": [
        "## Pre-procesado de los datos\n",
        "\n",
        "No podemos utilizar el data set en nuestros autoendocers sin antes preprocesar los datos y adecuarlos para nuestro objetivo: *Detectar planetas habitables como anomalias.*"
      ],
      "metadata": {
        "id": "Yadqpb6uHn3b"
      }
    },
    {
      "cell_type": "markdown",
      "source": [
        "Primeramente vamos a analizar los datos no númericos:"
      ],
      "metadata": {
        "id": "p9AjmBGZB-O1"
      }
    },
    {
      "cell_type": "code",
      "source": [
        "for y in data.columns:\n",
        "    if (is_string_dtype(data[y])):\n",
        "        #num_data.drop(y, axis=1, inplace=True)\n",
        "        print(y)\n",
        "    #elif (is_numeric_dtype(num_data[y])):\n",
        "        #print(y,\"numeric\")\n"
      ],
      "metadata": {
        "colab": {
          "base_uri": "https://localhost:8080/"
        },
        "id": "h0J5YTbGA2pG",
        "outputId": "5b32c88d-d1b6-48b6-bee3-e0c3b5e4aa2f"
      },
      "execution_count": null,
      "outputs": [
        {
          "output_type": "stream",
          "name": "stdout",
          "text": [
            "P. Name\n",
            "P. Name Kepler\n",
            "P. Zone Class\n",
            "P. Mass Class\n",
            "P. Composition Class\n",
            "P. Atmosphere Class\n",
            "P. Habitable Class\n",
            "P. SFlux Min (EU)\n",
            "P. SFlux Mean (EU)\n",
            "P. SFlux Max (EU)\n",
            "S. Name\n",
            "S. Name HD\n",
            "S. Name HIP\n",
            "S. Constellation\n",
            "S. Type\n",
            "P. Disc. Method\n",
            "P. Disc. Year\n"
          ]
        }
      ]
    },
    {
      "cell_type": "code",
      "source": [
        "data[\"P. Zone Class\"]"
      ],
      "metadata": {
        "colab": {
          "base_uri": "https://localhost:8080/"
        },
        "id": "Jx004wXx3yxR",
        "outputId": "542a5c54-1263-4222-b546-71975f9b84ac"
      },
      "execution_count": null,
      "outputs": [
        {
          "output_type": "execute_result",
          "data": {
            "text/plain": [
              "0       Cold\n",
              "1       Cold\n",
              "2       Cold\n",
              "3       Cold\n",
              "4       Cold\n",
              "        ... \n",
              "3870     Hot\n",
              "3871     Hot\n",
              "3872     Hot\n",
              "3873     Hot\n",
              "3874     Hot\n",
              "Name: P. Zone Class, Length: 3875, dtype: object"
            ]
          },
          "metadata": {},
          "execution_count": 115
        }
      ]
    },
    {
      "cell_type": "markdown",
      "source": [
        "Las variables de flujo deberian ser númericas : "
      ],
      "metadata": {
        "id": "VaPmrMbUVIxd"
      }
    },
    {
      "cell_type": "code",
      "source": [
        "data[\"P. SFlux Min (EU)\"] = pd.to_numeric(data[\"P. SFlux Min (EU)\"],errors='coerce')\n",
        "data[\"P. SFlux Mean (EU)\"] = pd.to_numeric(data[\"P. SFlux Mean (EU)\"],errors='coerce')\n",
        "data[\"P. SFlux Max (EU)\"] = pd.to_numeric(data[\"P. SFlux Max (EU)\"],errors='coerce')"
      ],
      "metadata": {
        "id": "00hCJeM5B4j2"
      },
      "execution_count": null,
      "outputs": []
    },
    {
      "cell_type": "markdown",
      "source": [
        "Vamos a codificar algunad variables que son categóricas como númericas, porque creemos que es informcación útil para abordar el problema. Para ello utilizaremos la funcion se sklearn : `OrdinalEncoder`"
      ],
      "metadata": {
        "id": "pGwEEYKZIOY3"
      }
    },
    {
      "cell_type": "code",
      "source": [
        "from sklearn.preprocessing import OrdinalEncoder\n",
        "\n",
        "ord_enc = OrdinalEncoder()\n",
        "data[\"P. Atmosphere Class_code\"] = ord_enc.fit_transform(data[[\"P. Atmosphere Class\"]])\n",
        "ord_enc = OrdinalEncoder()\n",
        "data[\"P. Mass Class_code\"] = ord_enc.fit_transform(data[[\"P. Mass Class\"]])\n",
        "ord_enc = OrdinalEncoder()\n",
        "data[\"P. Composition Class_code\"] = ord_enc.fit_transform(data[[\"P. Composition Class\"]])\n",
        "\n",
        "ord_enc = OrdinalEncoder()\n",
        "data[\"P. Zone Class_code\"] = ord_enc.fit_transform(data[[\"P. Zone Class\"]])\n",
        "\n"
      ],
      "metadata": {
        "id": "ivc5HUzoV5dX"
      },
      "execution_count": null,
      "outputs": []
    },
    {
      "cell_type": "markdown",
      "source": [
        "Nos quedamos con los númericos\n",
        "\n",
        "---\n",
        "Una vez hemos codificado los categóricos elegidos  como númericos, vamos a eliminar todos los categóricos, ya que estos no vamos a poder utilizarlos en nuestro autoencoder\n",
        "\n",
        "\n",
        "---\n",
        "\n",
        "\n",
        "\n"
      ],
      "metadata": {
        "id": "6JY2GtEkV59e"
      }
    },
    {
      "cell_type": "code",
      "source": [
        "num_data = data.copy()\n",
        "\n",
        "for y in num_data.columns:\n",
        "    if (is_string_dtype(num_data[y])):\n",
        "        num_data.drop(y, axis=1, inplace=True)\n",
        "\n",
        "    elif (is_numeric_dtype(num_data[y])):\n",
        "        print(y,\"numeric\")"
      ],
      "metadata": {
        "id": "FdT2QUmjECEi",
        "colab": {
          "base_uri": "https://localhost:8080/"
        },
        "outputId": "b3679716-9e47-4d1e-ccd2-940f0ba2bf7d"
      },
      "execution_count": null,
      "outputs": [
        {
          "output_type": "stream",
          "name": "stdout",
          "text": [
            "P. Name KOI numeric\n",
            "P. Min Mass (EU) numeric\n",
            "P. Mass (EU) numeric\n",
            "P. Max Mass (EU) numeric\n",
            "P. Radius (EU) numeric\n",
            "P. Density (EU) numeric\n",
            "P. Gravity (EU) numeric\n",
            "P. Esc Vel (EU) numeric\n",
            "P. SFlux Min (EU) numeric\n",
            "P. SFlux Mean (EU) numeric\n",
            "P. SFlux Max (EU) numeric\n",
            "P. Teq Min (K) numeric\n",
            "P. Teq Mean (K) numeric\n",
            "P. Teq Max (K) numeric\n",
            "P. Ts Min (K) numeric\n",
            "P. Ts Mean (K) numeric\n",
            "P. Ts Max (K) numeric\n",
            "P. Surf Press (EU) numeric\n",
            "P. Mag numeric\n",
            "P. Appar Size (deg) numeric\n",
            "P. Period (days) numeric\n",
            "P. Sem Major Axis (AU) numeric\n",
            "P. Eccentricity numeric\n",
            "P. Mean Distance (AU) numeric\n",
            "P. Inclination (deg) numeric\n",
            "P. Omega (deg) numeric\n",
            "S. Mass (SU) numeric\n",
            "S. Radius (SU) numeric\n",
            "S. Teff (K) numeric\n",
            "S. Luminosity (SU) numeric\n",
            "S. [Fe/H] numeric\n",
            "S. Age (Gyrs) numeric\n",
            "S. Appar Mag numeric\n",
            "S. Distance (pc) numeric\n",
            "S. RA (hrs) numeric\n",
            "S. DEC (deg) numeric\n",
            "S. Mag from Planet numeric\n",
            "S. Size from Planet (deg) numeric\n",
            "S. No. Planets numeric\n",
            "S. No. Planets HZ numeric\n",
            "S. Hab Zone Min (AU) numeric\n",
            "S. Hab Zone Max (AU) numeric\n",
            "P. HZD numeric\n",
            "P. HZC numeric\n",
            "P. HZA numeric\n",
            "P. HZI numeric\n",
            "P. SPH numeric\n",
            "P. Int ESI numeric\n",
            "P. Surf ESI numeric\n",
            "P. ESI numeric\n",
            "S. HabCat numeric\n",
            "P. Habitable numeric\n",
            "P. Hab Moon numeric\n",
            "P. Confirmed numeric\n",
            "Unnamed: 68 numeric\n",
            "P. Atmosphere Class_code numeric\n",
            "P. Mass Class_code numeric\n",
            "P. Composition Class_code numeric\n",
            "P. Zone Class_code numeric\n"
          ]
        }
      ]
    },
    {
      "cell_type": "code",
      "source": [
        "print(\"Nans en total\", data.isnull().sum().sum()) # Nans en total\n",
        "\n",
        "\n",
        "print( \"Numero e planetas habitables\", np.sum(num_data[\"P. Habitable\"][num_data[\"P. Habitable\"]==1]))\n",
        "print( \"Numero de planetas NO habitables\",(np.sum(num_data[\"P. Habitable\"]==0)))\n",
        "\n",
        "num_data.shape"
      ],
      "metadata": {
        "id": "GoigWv1_TxLb",
        "colab": {
          "base_uri": "https://localhost:8080/"
        },
        "outputId": "7d714468-a933-47ba-8813-ef25733525df"
      },
      "execution_count": null,
      "outputs": [
        {
          "output_type": "stream",
          "name": "stdout",
          "text": [
            "Nans en total 40930\n",
            "Numero e planetas habitables 55\n",
            "Numero de planetas NO habitables 3820\n"
          ]
        },
        {
          "output_type": "execute_result",
          "data": {
            "text/plain": [
              "(3875, 59)"
            ]
          },
          "metadata": {},
          "execution_count": 55
        }
      ]
    },
    {
      "cell_type": "code",
      "source": [
        "df =num_data.copy()\n",
        "\n",
        "## borramos esta columna porque no nos sirve\n",
        "df.drop(\"Unnamed: 68\", axis=1, inplace=True)"
      ],
      "metadata": {
        "id": "xRYs9qFC-gUX"
      },
      "execution_count": null,
      "outputs": []
    },
    {
      "cell_type": "markdown",
      "source": [
        "Tenemos columnas donde tenemos todo zeros o NaNs:\n",
        "\n",
        "\n",
        "\n",
        "> Estas columnas las eliminaremos\n"
      ],
      "metadata": {
        "id": "XCktkZBZW8bO"
      }
    },
    {
      "cell_type": "code",
      "source": [
        "print(df[~df['P. Max Mass (EU)'].isnull()])\n",
        "\n",
        "print(np.sum(df['P. Int ESI']))\n",
        "\n",
        "print(np.sum(df['P. Surf ESI']))"
      ],
      "metadata": {
        "colab": {
          "base_uri": "https://localhost:8080/"
        },
        "id": "t0qrBOA7XuSk",
        "outputId": "a7debaf8-1481-447b-d401-e002c31ffd85"
      },
      "execution_count": null,
      "outputs": [
        {
          "output_type": "stream",
          "name": "stdout",
          "text": [
            "Empty DataFrame\n",
            "Columns: [P. Name KOI, P. Min Mass (EU), P. Mass (EU), P. Max Mass (EU), P. Radius (EU), P. Density (EU), P. Gravity (EU), P. Esc Vel (EU), P. SFlux Min (EU), P. SFlux Mean (EU), P. SFlux Max (EU), P. Teq Min (K), P. Teq Mean (K), P. Teq Max (K), P. Ts Min (K), P. Ts Mean (K), P. Ts Max (K), P. Surf Press (EU), P. Mag, P. Appar Size (deg), P. Period (days), P. Sem Major Axis (AU), P. Eccentricity, P. Mean Distance (AU), P. Inclination (deg), P. Omega (deg), S. Mass (SU), S. Radius (SU), S. Teff (K), S. Luminosity (SU), S. [Fe/H], S. Age (Gyrs), S. Appar Mag, S. Distance (pc), S. RA (hrs), S. DEC (deg), S. Mag from Planet, S. Size from Planet (deg), S. No. Planets, S. No. Planets HZ, S. Hab Zone Min (AU), S. Hab Zone Max (AU), P. HZD, P. HZC, P. HZA, P. HZI, P. SPH, P. Int ESI, P. Surf ESI, P. ESI, S. HabCat, P. Habitable, P. Hab Moon, P. Confirmed, P. Atmosphere Class_code, P. Mass Class_code, P. Composition Class_code, P. Zone Class_code]\n",
            "Index: []\n",
            "\n",
            "[0 rows x 58 columns]\n",
            "0\n",
            "0\n"
          ]
        }
      ]
    },
    {
      "cell_type": "code",
      "source": [
        "# lo borramos\n",
        "\n",
        "\n",
        "for y in df.columns:\n",
        "  if(np.mean(df[y]) == 0 or np.isnan(np.mean(df[y])) == True):\n",
        "    df.drop(y, axis=1, inplace=True)\n",
        "\n",
        "df.shape"
      ],
      "metadata": {
        "id": "sCyxLvUK-gcA",
        "colab": {
          "base_uri": "https://localhost:8080/"
        },
        "outputId": "44d5042e-cfc4-4e79-ae3d-afe4c5472a20"
      },
      "execution_count": null,
      "outputs": [
        {
          "output_type": "execute_result",
          "data": {
            "text/plain": [
              "(3875, 55)"
            ]
          },
          "metadata": {},
          "execution_count": 58
        }
      ]
    },
    {
      "cell_type": "markdown",
      "source": [
        "Borramos todas las columnas que tengans más de 800 NaNs:"
      ],
      "metadata": {
        "id": "IZsjFeqIJ2eI"
      }
    },
    {
      "cell_type": "code",
      "source": [
        "\n",
        "print(\"columnas sin NaN: \",48-np.sum(df.isnull().any()))\n",
        "\n",
        "df.isnull().any()\n",
        "df2 = df.copy()\n",
        "for y in df.columns:\n",
        "  if(np.sum(df[y].isnull()) > 800 ):  # tengamos menos de 800 NaNs\n",
        "    df2.drop(y, axis=1, inplace=True)\n",
        "print(\"Nuestro data set actual tiene las siguientes dimesiones:\", df2.shape)"
      ],
      "metadata": {
        "colab": {
          "base_uri": "https://localhost:8080/"
        },
        "id": "zxWF47eAEvN6",
        "outputId": "2bd6a84f-9a9c-4a15-ad30-9a8d7a5831f8"
      },
      "execution_count": null,
      "outputs": [
        {
          "output_type": "stream",
          "name": "stdout",
          "text": [
            "columnas sin NaN:  3\n",
            "Nuestro data set actual tiene las siguientes dimesiones: (3875, 44)\n"
          ]
        }
      ]
    },
    {
      "cell_type": "code",
      "source": [
        ""
      ],
      "metadata": {
        "id": "TvJ2mbtkYagG"
      },
      "execution_count": null,
      "outputs": []
    },
    {
      "cell_type": "markdown",
      "source": [
        "Borramos los datos de plantetas que contengan NaN:"
      ],
      "metadata": {
        "id": "ilBqhaANJqiB"
      }
    },
    {
      "cell_type": "code",
      "source": [
        "df2 = df2.dropna(axis = 0)\n",
        "df2.shape\n",
        "df2.isnull().any()\n"
      ],
      "metadata": {
        "colab": {
          "base_uri": "https://localhost:8080/"
        },
        "id": "C4bkTT3uKQEh",
        "outputId": "729d8ca1-7b67-4cbe-f35c-2a6c74fc267f"
      },
      "execution_count": null,
      "outputs": [
        {
          "output_type": "execute_result",
          "data": {
            "text/plain": [
              "P. Mass (EU)                 False\n",
              "P. Radius (EU)               False\n",
              "P. Density (EU)              False\n",
              "P. Gravity (EU)              False\n",
              "P. Esc Vel (EU)              False\n",
              "P. SFlux Min (EU)            False\n",
              "P. SFlux Mean (EU)           False\n",
              "P. SFlux Max (EU)            False\n",
              "P. Teq Min (K)               False\n",
              "P. Teq Mean (K)              False\n",
              "P. Teq Max (K)               False\n",
              "P. Surf Press (EU)           False\n",
              "P. Mag                       False\n",
              "P. Appar Size (deg)          False\n",
              "P. Period (days)             False\n",
              "P. Sem Major Axis (AU)       False\n",
              "P. Eccentricity              False\n",
              "P. Mean Distance (AU)        False\n",
              "P. Omega (deg)               False\n",
              "S. Mass (SU)                 False\n",
              "S. Radius (SU)               False\n",
              "S. Teff (K)                  False\n",
              "S. Luminosity (SU)           False\n",
              "S. RA (hrs)                  False\n",
              "S. DEC (deg)                 False\n",
              "S. Mag from Planet           False\n",
              "S. Size from Planet (deg)    False\n",
              "S. No. Planets               False\n",
              "S. No. Planets HZ            False\n",
              "S. Hab Zone Min (AU)         False\n",
              "S. Hab Zone Max (AU)         False\n",
              "P. HZD                       False\n",
              "P. HZC                       False\n",
              "P. HZA                       False\n",
              "P. HZI                       False\n",
              "P. ESI                       False\n",
              "S. HabCat                    False\n",
              "P. Habitable                 False\n",
              "P. Hab Moon                  False\n",
              "P. Confirmed                 False\n",
              "P. Atmosphere Class_code     False\n",
              "P. Mass Class_code           False\n",
              "P. Composition Class_code    False\n",
              "P. Zone Class_code           False\n",
              "dtype: bool"
            ]
          },
          "metadata": {},
          "execution_count": 60
        }
      ]
    },
    {
      "cell_type": "markdown",
      "source": [
        "Ya tenemos nuestro data set sin valores perdidos. Ahora ya podemos pasar a constuir nuestros detectores de anomalias\n",
        "\n",
        "---\n",
        "\n",
        "\n",
        "\n",
        "---\n",
        "\n",
        "## Autoencoders\n",
        "\n",
        "---\n",
        "\n",
        "Preparamos los datos:"
      ],
      "metadata": {
        "id": "5vodb5jDTlfU"
      }
    },
    {
      "cell_type": "code",
      "source": [
        " # Esta serà nuestra varibles respuesta : \n",
        "\n",
        " df2[\"P. Habitable\"]"
      ],
      "metadata": {
        "colab": {
          "base_uri": "https://localhost:8080/"
        },
        "id": "6ItZqvlSbiFx",
        "outputId": "32975c40-2eb7-43a2-ecdb-db256cd86b74"
      },
      "execution_count": null,
      "outputs": [
        {
          "output_type": "execute_result",
          "data": {
            "text/plain": [
              "1       0\n",
              "6       0\n",
              "9       0\n",
              "10      0\n",
              "17      0\n",
              "       ..\n",
              "3870    0\n",
              "3871    0\n",
              "3872    0\n",
              "3873    0\n",
              "3874    0\n",
              "Name: P. Habitable, Length: 3632, dtype: int64"
            ]
          },
          "metadata": {},
          "execution_count": 66
        }
      ]
    },
    {
      "cell_type": "markdown",
      "source": [
        "Dividimos el data set en variables input y las etiquetas . \n",
        "\n",
        "y = 0 : No habitable\n",
        "\n",
        "y = 1 : Habitable"
      ],
      "metadata": {
        "id": "ZScRVmQrKN2H"
      }
    },
    {
      "cell_type": "code",
      "source": [
        "X = df2.loc[:, df2.columns != \"P. Habitable\"]  \n",
        "y = df2[\"P. Habitable\"]  \n",
        "print(np.shape(y),np.shape(X))"
      ],
      "metadata": {
        "colab": {
          "base_uri": "https://localhost:8080/"
        },
        "id": "w2t52w5TUhnT",
        "outputId": "a258fca8-5c2c-4363-f3a2-2e7c41ef7a96"
      },
      "execution_count": null,
      "outputs": [
        {
          "output_type": "stream",
          "name": "stdout",
          "text": [
            "(3632,) (3632, 43)\n"
          ]
        }
      ]
    },
    {
      "cell_type": "code",
      "source": [
        "# 1 = outliers, 0 = inliers\n",
        "\n",
        "print(\"Numero de outliers : \",np.sum(y== 1))\n",
        "print(\"Numero de inliers : \",np.sum(y== 0))"
      ],
      "metadata": {
        "colab": {
          "base_uri": "https://localhost:8080/"
        },
        "id": "7_jQWja1UkEb",
        "outputId": "ac633e7a-7a39-4b5e-8c85-15edc0fd62c9"
      },
      "execution_count": null,
      "outputs": [
        {
          "output_type": "stream",
          "name": "stdout",
          "text": [
            "Numero de outliers :  55\n",
            "Numero de inliers :  3577\n"
          ]
        }
      ]
    },
    {
      "cell_type": "code",
      "source": [
        "#X_train, X_test, y_train, y_test = train_test_split( \n",
        "   # Xf, y, test_size=0.2, random_state=42)\n",
        "\n",
        "X_train, X_test, y_train, y_test = train_test_split( \n",
        "    X, y, test_size=0.3, random_state=42)\n",
        "\n",
        "\n",
        "\n",
        "#scaler = StandardScaler()\n",
        "scaler = MinMaxScaler()\n",
        "X_train = scaler.fit_transform(X_train)\n",
        "\n",
        "X_test = scaler.transform(X_test)"
      ],
      "metadata": {
        "id": "0wQg1TneaP0_"
      },
      "execution_count": null,
      "outputs": []
    },
    {
      "cell_type": "markdown",
      "source": [
        "Dividimos los sets de entrenamiento y test en Normal Data y Fraud Data:"
      ],
      "metadata": {
        "id": "YLBNpxKMKmxT"
      }
    },
    {
      "cell_type": "code",
      "source": [
        "train_labels = y_train.astype(bool)\n",
        "test_labels = y_test.astype(bool)#creating normal and fraud datasets\n",
        "normal_train_data = X_train[~train_labels]\n",
        "normal_test_data = X_test[~test_labels]\n",
        "fraud_train_data = X_train[train_labels]\n",
        "fraud_test_data = X_test[test_labels]\n",
        "print(\" No. of records in Fraud Train Data=\",len(fraud_train_data))\n",
        "print(\" No. of records in Normal Train data=\",len(normal_train_data))\n",
        "print(\" No. of records in Fraud Test Data=\",len(fraud_test_data))\n",
        "print(\" No. of records in Normal Test data=\",len(normal_test_data))"
      ],
      "metadata": {
        "colab": {
          "base_uri": "https://localhost:8080/"
        },
        "id": "l0jL7Kz8bTwq",
        "outputId": "c0fd3c3f-bd7b-4d3c-e428-2aba54852ce4"
      },
      "execution_count": null,
      "outputs": [
        {
          "output_type": "stream",
          "name": "stdout",
          "text": [
            " No. of records in Fraud Train Data= 34\n",
            " No. of records in Normal Train data= 2508\n",
            " No. of records in Fraud Test Data= 21\n",
            " No. of records in Normal Test data= 1069\n"
          ]
        }
      ]
    },
    {
      "cell_type": "code",
      "source": [
        "np.shape(normal_train_data)\n",
        "\n",
        "#normal_train_data[np.isnan(normal_train_data)]"
      ],
      "metadata": {
        "colab": {
          "base_uri": "https://localhost:8080/"
        },
        "id": "2zuzEBHjfhbB",
        "outputId": "44b41bc2-1fa5-4e55-dbda-5c850218545f"
      },
      "execution_count": null,
      "outputs": [
        {
          "output_type": "execute_result",
          "data": {
            "text/plain": [
              "(2508, 43)"
            ]
          },
          "metadata": {},
          "execution_count": 101
        }
      ]
    },
    {
      "cell_type": "markdown",
      "source": [
        "Ahora que ya tenemos los datos preparados, solo queda construir las diferente arquitecturas que vamos a utilizar para detectar los datos anómalos . \n",
        "\n",
        "Vamos a utilizar :\n",
        "\n",
        "*   AUTO_DEP_AD \n",
        "*   PCA + AUTOAD\n",
        "*   AUTODR + AUTOAD\n",
        "\n",
        "\n",
        "\n",
        "\n",
        "\n"
      ],
      "metadata": {
        "id": "zC8EK-_YKvaq"
      }
    },
    {
      "cell_type": "markdown",
      "source": [
        "# AUTO_DEP_AD\n",
        "\n",
        "### Autoencoder profundo + detecetor de anomalias. \n",
        "\n",
        "Construimos un autoencoder que tomará todos los datos y lo entrenaremos con los datos no anómalos. De este modo, esperamos que cuando le entre un dato anómalo, el error de reconstrucción va a ser mayor a los normales, de este modo vamos a poder establecer un threshold para el error de reconstrucción"
      ],
      "metadata": {
        "id": "EZ2pIqiSd9Ic"
      }
    },
    {
      "cell_type": "code",
      "source": [
        "#Aquitectura:\n",
        "\n",
        "dimension_entrada = 43\n",
        "dimension_codificacion = 10\n",
        "\n",
        "\n",
        "\n",
        "entrada = Input(shape=(dimension_entrada,))\n",
        "encoded = Dense(64, activation='relu')(entrada)\n",
        "\n",
        "encoded = Dense(32, activation='relu')(encoded)\n",
        "encoded = Dropout(0.1)(encoded)\n",
        "encoded = Dense(16, activation='relu')(encoded)\n",
        "\n",
        "encoded = Dense(dimension_codificacion, activation='relu')(encoded)\n",
        "decoded = Dense(16, activation='relu')(encoded)\n",
        "\n",
        "decoded = Dense(32, activation='relu')(decoded)\n",
        "decoded= Dropout(0.1)(decoded)\n",
        "decoded = Dense(64, activation='relu')(decoded)\n",
        "\n",
        "decodificada = Dense(dimension_entrada, activation='sigmoid')(decoded)\n",
        "\n",
        "autoencoder = Model(entrada,decodificada) \n",
        "autoencoder.compile(optimizer=  'adam' ,loss = 'mse')\n",
        "\n",
        "\n",
        "history2 = autoencoder.fit(normal_train_data, normal_train_data,\n",
        "                    epochs=50,\n",
        "                    batch_size=32,\n",
        "                    shuffle=True,\n",
        "                    validation_data=(normal_test_data,normal_test_data))"
      ],
      "metadata": {
        "colab": {
          "base_uri": "https://localhost:8080/"
        },
        "id": "vGqPmUTqYGnl",
        "outputId": "946748f4-2c6c-49da-b2ed-b0be9d792fde"
      },
      "execution_count": null,
      "outputs": [
        {
          "output_type": "stream",
          "name": "stdout",
          "text": [
            "Epoch 1/50\n",
            "79/79 [==============================] - 1s 8ms/step - loss: 0.0695 - val_loss: 0.0215\n",
            "Epoch 2/50\n",
            "79/79 [==============================] - 0s 5ms/step - loss: 0.0199 - val_loss: 0.0200\n",
            "Epoch 3/50\n",
            "79/79 [==============================] - 0s 6ms/step - loss: 0.0160 - val_loss: 0.0119\n",
            "Epoch 4/50\n",
            "79/79 [==============================] - 0s 5ms/step - loss: 0.0110 - val_loss: 0.0107\n",
            "Epoch 5/50\n",
            "79/79 [==============================] - 0s 6ms/step - loss: 0.0100 - val_loss: 0.0100\n",
            "Epoch 6/50\n",
            "79/79 [==============================] - 0s 6ms/step - loss: 0.0094 - val_loss: 0.0094\n",
            "Epoch 7/50\n",
            "79/79 [==============================] - 0s 6ms/step - loss: 0.0088 - val_loss: 0.0090\n",
            "Epoch 8/50\n",
            "79/79 [==============================] - 0s 5ms/step - loss: 0.0085 - val_loss: 0.0085\n",
            "Epoch 9/50\n",
            "79/79 [==============================] - 0s 6ms/step - loss: 0.0081 - val_loss: 0.0079\n",
            "Epoch 10/50\n",
            "79/79 [==============================] - 1s 7ms/step - loss: 0.0076 - val_loss: 0.0072\n",
            "Epoch 11/50\n",
            "79/79 [==============================] - 0s 5ms/step - loss: 0.0070 - val_loss: 0.0069\n",
            "Epoch 12/50\n",
            "79/79 [==============================] - 1s 7ms/step - loss: 0.0068 - val_loss: 0.0066\n",
            "Epoch 13/50\n",
            "79/79 [==============================] - 1s 6ms/step - loss: 0.0066 - val_loss: 0.0064\n",
            "Epoch 14/50\n",
            "79/79 [==============================] - 1s 6ms/step - loss: 0.0064 - val_loss: 0.0063\n",
            "Epoch 15/50\n",
            "79/79 [==============================] - 0s 6ms/step - loss: 0.0063 - val_loss: 0.0062\n",
            "Epoch 16/50\n",
            "79/79 [==============================] - 0s 6ms/step - loss: 0.0062 - val_loss: 0.0061\n",
            "Epoch 17/50\n",
            "79/79 [==============================] - 0s 5ms/step - loss: 0.0060 - val_loss: 0.0059\n",
            "Epoch 18/50\n",
            "79/79 [==============================] - 1s 7ms/step - loss: 0.0059 - val_loss: 0.0059\n",
            "Epoch 19/50\n",
            "79/79 [==============================] - 0s 6ms/step - loss: 0.0058 - val_loss: 0.0058\n",
            "Epoch 20/50\n",
            "79/79 [==============================] - 1s 7ms/step - loss: 0.0057 - val_loss: 0.0057\n",
            "Epoch 21/50\n",
            "79/79 [==============================] - 0s 5ms/step - loss: 0.0057 - val_loss: 0.0056\n",
            "Epoch 22/50\n",
            "79/79 [==============================] - 1s 6ms/step - loss: 0.0056 - val_loss: 0.0057\n",
            "Epoch 23/50\n",
            "79/79 [==============================] - 0s 5ms/step - loss: 0.0055 - val_loss: 0.0055\n",
            "Epoch 24/50\n",
            "79/79 [==============================] - 0s 5ms/step - loss: 0.0054 - val_loss: 0.0054\n",
            "Epoch 25/50\n",
            "79/79 [==============================] - 1s 6ms/step - loss: 0.0053 - val_loss: 0.0054\n",
            "Epoch 26/50\n",
            "79/79 [==============================] - 0s 5ms/step - loss: 0.0053 - val_loss: 0.0053\n",
            "Epoch 27/50\n",
            "79/79 [==============================] - 1s 6ms/step - loss: 0.0052 - val_loss: 0.0052\n",
            "Epoch 28/50\n",
            "79/79 [==============================] - 0s 5ms/step - loss: 0.0051 - val_loss: 0.0051\n",
            "Epoch 29/50\n",
            "79/79 [==============================] - 0s 6ms/step - loss: 0.0050 - val_loss: 0.0050\n",
            "Epoch 30/50\n",
            "79/79 [==============================] - 1s 6ms/step - loss: 0.0049 - val_loss: 0.0051\n",
            "Epoch 31/50\n",
            "79/79 [==============================] - 0s 6ms/step - loss: 0.0049 - val_loss: 0.0049\n",
            "Epoch 32/50\n",
            "79/79 [==============================] - 0s 5ms/step - loss: 0.0048 - val_loss: 0.0049\n",
            "Epoch 33/50\n",
            "79/79 [==============================] - 0s 6ms/step - loss: 0.0048 - val_loss: 0.0047\n",
            "Epoch 34/50\n",
            "79/79 [==============================] - 0s 6ms/step - loss: 0.0047 - val_loss: 0.0048\n",
            "Epoch 35/50\n",
            "79/79 [==============================] - 0s 6ms/step - loss: 0.0046 - val_loss: 0.0047\n",
            "Epoch 36/50\n",
            "79/79 [==============================] - 0s 6ms/step - loss: 0.0045 - val_loss: 0.0047\n",
            "Epoch 37/50\n",
            "79/79 [==============================] - 0s 6ms/step - loss: 0.0046 - val_loss: 0.0046\n",
            "Epoch 38/50\n",
            "79/79 [==============================] - 1s 6ms/step - loss: 0.0044 - val_loss: 0.0045\n",
            "Epoch 39/50\n",
            "79/79 [==============================] - 0s 6ms/step - loss: 0.0045 - val_loss: 0.0045\n",
            "Epoch 40/50\n",
            "79/79 [==============================] - 0s 6ms/step - loss: 0.0044 - val_loss: 0.0045\n",
            "Epoch 41/50\n",
            "79/79 [==============================] - 0s 6ms/step - loss: 0.0043 - val_loss: 0.0043\n",
            "Epoch 42/50\n",
            "79/79 [==============================] - 1s 7ms/step - loss: 0.0044 - val_loss: 0.0044\n",
            "Epoch 43/50\n",
            "79/79 [==============================] - 0s 6ms/step - loss: 0.0043 - val_loss: 0.0044\n",
            "Epoch 44/50\n",
            "79/79 [==============================] - 0s 6ms/step - loss: 0.0042 - val_loss: 0.0042\n",
            "Epoch 45/50\n",
            "79/79 [==============================] - 0s 5ms/step - loss: 0.0041 - val_loss: 0.0043\n",
            "Epoch 46/50\n",
            "79/79 [==============================] - 0s 6ms/step - loss: 0.0041 - val_loss: 0.0044\n",
            "Epoch 47/50\n",
            "79/79 [==============================] - 0s 5ms/step - loss: 0.0041 - val_loss: 0.0043\n",
            "Epoch 48/50\n",
            "79/79 [==============================] - 0s 5ms/step - loss: 0.0040 - val_loss: 0.0041\n",
            "Epoch 49/50\n",
            "79/79 [==============================] - 1s 6ms/step - loss: 0.0040 - val_loss: 0.0042\n",
            "Epoch 50/50\n",
            "79/79 [==============================] - 0s 6ms/step - loss: 0.0039 - val_loss: 0.0040\n"
          ]
        }
      ]
    },
    {
      "cell_type": "code",
      "source": [
        "## Le pasamos los datos de test al autoencoder ya entrenado\n",
        "\n",
        "test_x_predictions = autoencoder.predict(X_test)\n",
        "mse = np.mean(np.abs(X_test-test_x_predictions)**2\n",
        "                    , axis = tuple(range(1,X_test.ndim)))\n",
        "\n",
        "# alamacenamos el error de cada uno junto con su etiqueta\n",
        "error_df = pd.DataFrame({'Reconstruction_error': mse,\n",
        "                        'True_class': test_labels})"
      ],
      "metadata": {
        "id": "wae9dl0VcBsX"
      },
      "execution_count": null,
      "outputs": []
    },
    {
      "cell_type": "code",
      "source": [
        "groups = error_df.groupby('True_class')\n",
        "fig, ax = plt.subplots()\n",
        "for name, group in groups:\n",
        "    ax.plot(group.index, group.Reconstruction_error, marker='o', ms=3.5, linestyle='',\n",
        "            label= \"Fraud\" if name == 1 else \"Normal\")\n",
        "#ax.hlines(threshold_fixed, ax.get_xlim()[0], ax.get_xlim()[1], colors=\"r\", zorder=100, label='Threshold')\n",
        "ax.legend()\n",
        "threshold =  np.mean( error_df[error_df[\"True_class\"]==True][\"Reconstruction_error\"])-np.std( error_df[error_df[\"True_class\"]==True][\"Reconstruction_error\"])\n",
        "plt.axhline(y= threshold, color='r', linestyle='-')\n",
        "plt.title(\"Reconstruction error for normal and fraud data AUTO_DEP_AD\")\n",
        "plt.ylabel(\"Reconstruction error\")\n",
        "plt.xlabel(\"Data point index\")\n",
        "plt.show();"
      ],
      "metadata": {
        "colab": {
          "base_uri": "https://localhost:8080/",
          "height": 295
        },
        "id": "D2RwUvSscHa7",
        "outputId": "13e26b3c-294f-4b2e-f850-95baa0a2ae41"
      },
      "execution_count": null,
      "outputs": [
        {
          "output_type": "display_data",
          "data": {
            "text/plain": [
              "<Figure size 432x288 with 1 Axes>"
            ],
            "image/png": "[encoded data removed]"
          },
          "metadata": {
            "needs_background": "light"
          }
        }
      ]
    },
    {
      "cell_type": "code",
      "source": [
        "print(np.mean(error_df[error_df[\"True_class\"]==False]))\n",
        "print(np.mean(error_df[error_df[\"True_class\"]==True]))\n",
        "\n",
        "teoric_fraud = []\n",
        "teoric_ok = []\n",
        "for i in range(len(error_df)):\n",
        "  if (error_df.iloc[i,0]>= threshold):\n",
        "    teoric_fraud.append(error_df.iloc[i][[\"Reconstruction_error\",\"True_class\"]])\n",
        "  else :\n",
        "    teoric_ok.append(error_df.iloc[i][[\"Reconstruction_error\",\"True_class\"]])\n",
        "print(\"threshold: \", threshold)"
      ],
      "metadata": {
        "id": "HlGxNyDqd3_3",
        "colab": {
          "base_uri": "https://localhost:8080/"
        },
        "outputId": "ed789141-f230-448c-bc11-f9ae6672fcb2"
      },
      "execution_count": null,
      "outputs": [
        {
          "output_type": "stream",
          "name": "stdout",
          "text": [
            "Reconstruction_error    0.003976\n",
            "True_class              0.000000\n",
            "dtype: float64\n",
            "Reconstruction_error    0.021754\n",
            "True_class              1.000000\n",
            "dtype: float64\n",
            "threshold:  0.009978916133107493\n"
          ]
        }
      ]
    },
    {
      "cell_type": "markdown",
      "source": [
        "## Resultado\n",
        "\n",
        "Vamos a describir los haciertos y erroes que hemos cometido:\n",
        "\n",
        "Outliers:"
      ],
      "metadata": {
        "id": "loE_l1fSTlZP"
      }
    },
    {
      "cell_type": "code",
      "source": [
        "print(\"Numero de outliers en el data set original :\",len(error_df[error_df[\"True_class\"]==True]))\n",
        "print(\"Numero de outliers etiquetados como tal :\" , np.sum([i[1]== True for i in teoric_fraud]))\n",
        "\n",
        "print(\"Accuracy: \",np.sum([i[1]== True for i in teoric_fraud])/len(error_df[error_df[\"True_class\"]==True]))"
      ],
      "metadata": {
        "id": "LNQQBR7pz33i",
        "colab": {
          "base_uri": "https://localhost:8080/"
        },
        "outputId": "ebdd6b40-14e0-492f-e91b-73be2ca67247"
      },
      "execution_count": null,
      "outputs": [
        {
          "output_type": "stream",
          "name": "stdout",
          "text": [
            "Numero de outliers en el data set original : 21\n",
            "Numero de outliers etiquetados como tal : 18\n",
            "Accuracy:  0.8571428571428571\n"
          ]
        }
      ]
    },
    {
      "cell_type": "markdown",
      "source": [
        "Inliers:"
      ],
      "metadata": {
        "id": "JQgc05OTW1Ha"
      }
    },
    {
      "cell_type": "code",
      "source": [
        "print(\"Numero de inliers en el data set probado :\", len(error_df[error_df[\"True_class\"]==False])) \n",
        "print(\"Numero de intliers etiquetados como tal :\",np.sum([i[1]== False for i in teoric_ok]))\n",
        "\n",
        "print(\"Accuracy: \", np.sum([i[1]== False for i in teoric_ok])/len(error_df[error_df[\"True_class\"]==False]))"
      ],
      "metadata": {
        "colab": {
          "base_uri": "https://localhost:8080/"
        },
        "id": "ZGWkTABYWr69",
        "outputId": "b37fcd7d-37fb-42e7-d582-cb0e396d63c1"
      },
      "execution_count": null,
      "outputs": [
        {
          "output_type": "stream",
          "name": "stdout",
          "text": [
            "Numero de inliers en el data set probado : 1069\n",
            "Numero de intliers etiquetados como tal : 962\n",
            "Accuracy:  0.8999064546304958\n"
          ]
        }
      ]
    },
    {
      "cell_type": "markdown",
      "source": [
        "Errores en el etiquetado"
      ],
      "metadata": {
        "id": "JbBzdQhEW6f5"
      }
    },
    {
      "cell_type": "code",
      "source": [
        "print(\"Error en el etiquetado de inliers  :\", np.sum([i[1]== True for i in teoric_ok])/len(error_df[error_df[\"True_class\"]==True]),\"%\") \n",
        "print(\"Error en el etiquetado de outliers  :\", np.sum([i[1]== False for i in teoric_fraud])/len(error_df[error_df[\"True_class\"]==False]),\"%\") "
      ],
      "metadata": {
        "colab": {
          "base_uri": "https://localhost:8080/"
        },
        "id": "jkkLUuhAWr_T",
        "outputId": "0e7c8a2a-5c07-47ed-e7c7-cc40cc61d2d4"
      },
      "execution_count": null,
      "outputs": [
        {
          "output_type": "stream",
          "name": "stdout",
          "text": [
            "Error en el etiquetado de inliers  : 0.14285714285714285 %\n",
            "Error en el etiquetado de outliers  : 0.10009354536950421 %\n"
          ]
        }
      ]
    },
    {
      "cell_type": "markdown",
      "source": [
        "Otro método de medir el acierto"
      ],
      "metadata": {
        "id": "9l_k4AeGXJ5m"
      }
    },
    {
      "cell_type": "code",
      "source": [
        "from sklearn.metrics import accuracy_score\n",
        "from tensorflow.keras.losses import MeanSquaredLogarithmicError\n",
        "\n",
        "def get_predictions(model, x_test_scaled, threshold):\n",
        "  predictions = model.predict(x_test_scaled)\n",
        "  # provides losses of individual instances\n",
        "  errors = tf.keras.losses.msle(predictions, x_test_scaled)\n",
        "  # 0 = anomaly, 1 = normal\n",
        "  anomaly_mask = pd.Series(errors) > threshold\n",
        "  preds = anomaly_mask.map(lambda x: 0.0 if x == False else 1.0)\n",
        "  return preds"
      ],
      "metadata": {
        "id": "gMQF4K3cWsCj"
      },
      "execution_count": null,
      "outputs": []
    },
    {
      "cell_type": "code",
      "source": [
        "\n",
        "preds = get_predictions(autoencoder, X_test, threshold)\n",
        "\n",
        "## Accuracy:\n",
        "accuracy_score(preds, y_test)"
      ],
      "metadata": {
        "colab": {
          "base_uri": "https://localhost:8080/"
        },
        "id": "HwiBz-SCXMB0",
        "outputId": "0e27539a-06e1-4138-afcd-ff2a0f96aa72"
      },
      "execution_count": null,
      "outputs": [
        {
          "output_type": "execute_result",
          "data": {
            "text/plain": [
              "0.9688073394495413"
            ]
          },
          "metadata": {},
          "execution_count": 111
        }
      ]
    },
    {
      "cell_type": "markdown",
      "source": [
        "# Combinacion de dos autoencoders :\n",
        "\n",
        "### Reduccion de dimensionalidad (**AutoRD**) + Detección de anomalias (**AutoAD**).\n",
        "\n",
        "**AutoRD**: reducir la dimensionalidad minimizando el error de reconstrucción. Para entrenar, pasaremos todos tipo de datos, tanto anomalos como no anomalos, y lo entrenaremos para que sea capaz de reducirlos. Una vez  tenemos autRD entrenado, pasamos al **AutoAD**.\n",
        "\n",
        "**AutoAD** :  Lo que le pasamos de entrada al autAD son datos reducidos, es decir, pasados previamente por codificador de autRD. Como queremos que funcione para detección de anomalías, solo le pasaremos datos reducidos pero que estuvieran etiquetados como no anómalos. Y entrenar con esos datos para minimizar el error de reconstrucción.  \n",
        "\n"
      ],
      "metadata": {
        "id": "byVMpLnvfOPE"
      }
    },
    {
      "cell_type": "markdown",
      "source": [
        "### AUTORD"
      ],
      "metadata": {
        "id": "Zk_TTyApfWx3"
      }
    },
    {
      "cell_type": "code",
      "source": [
        "\n",
        "dimension_entrada = 43\n",
        "dimension_codificacion = 20\n",
        "\n",
        "\n",
        "\n",
        "entrada = Input(shape=(dimension_entrada,))\n",
        "encoded = Dense(64, activation='relu')(entrada)\n",
        "\n",
        "encoded = Dense(32, activation='relu')(encoded)\n",
        "#encoded = Dropout(0.1)(encoded)\n",
        "\n",
        "\n",
        "encoded = Dense(dimension_codificacion, activation='relu')(encoded)\n",
        "\n",
        "\n",
        "decoded = Dense(32, activation='relu')(encoded)\n",
        "#decoded= Dropout(0.1)(decoded)\n",
        "decoded = Dense(64, activation='relu')(decoded)\n",
        "\n",
        "decodificada = Dense(dimension_entrada, activation='tanh')(decoded)\n",
        "\n",
        "autoencoder = Model(entrada,decodificada) \n",
        "autoencoder.compile(optimizer=  'adam' ,loss = 'mse')\n",
        "\n",
        "\n",
        "history2 = autoencoder.fit(X_train, X_train,\n",
        "                    epochs=50,\n",
        "                    batch_size=32,\n",
        "                    shuffle=True,\n",
        "                    validation_data=(X_test,X_test))"
      ],
      "metadata": {
        "colab": {
          "base_uri": "https://localhost:8080/"
        },
        "id": "5Zke54yNfO2d",
        "outputId": "eda61b51-f947-4e17-cc3d-b49c572e47f0"
      },
      "execution_count": null,
      "outputs": [
        {
          "output_type": "stream",
          "name": "stdout",
          "text": [
            "Epoch 1/50\n",
            "80/80 [==============================] - 1s 8ms/step - loss: 0.0360 - val_loss: 0.0133\n",
            "Epoch 2/50\n",
            "80/80 [==============================] - 0s 5ms/step - loss: 0.0098 - val_loss: 0.0093\n",
            "Epoch 3/50\n",
            "80/80 [==============================] - 0s 6ms/step - loss: 0.0075 - val_loss: 0.0074\n",
            "Epoch 4/50\n",
            "80/80 [==============================] - 0s 5ms/step - loss: 0.0062 - val_loss: 0.0062\n",
            "Epoch 5/50\n",
            "80/80 [==============================] - 0s 6ms/step - loss: 0.0054 - val_loss: 0.0055\n",
            "Epoch 6/50\n",
            "80/80 [==============================] - 0s 6ms/step - loss: 0.0048 - val_loss: 0.0049\n",
            "Epoch 7/50\n",
            "80/80 [==============================] - 0s 6ms/step - loss: 0.0043 - val_loss: 0.0044\n",
            "Epoch 8/50\n",
            "80/80 [==============================] - 0s 6ms/step - loss: 0.0038 - val_loss: 0.0039\n",
            "Epoch 9/50\n",
            "80/80 [==============================] - 0s 5ms/step - loss: 0.0034 - val_loss: 0.0036\n",
            "Epoch 10/50\n",
            "80/80 [==============================] - 0s 5ms/step - loss: 0.0032 - val_loss: 0.0033\n",
            "Epoch 11/50\n",
            "80/80 [==============================] - 0s 5ms/step - loss: 0.0029 - val_loss: 0.0030\n",
            "Epoch 12/50\n",
            "80/80 [==============================] - 0s 6ms/step - loss: 0.0027 - val_loss: 0.0028\n",
            "Epoch 13/50\n",
            "80/80 [==============================] - 0s 6ms/step - loss: 0.0025 - val_loss: 0.0026\n",
            "Epoch 14/50\n",
            "80/80 [==============================] - 0s 5ms/step - loss: 0.0023 - val_loss: 0.0025\n",
            "Epoch 15/50\n",
            "80/80 [==============================] - 0s 5ms/step - loss: 0.0021 - val_loss: 0.0023\n",
            "Epoch 16/50\n",
            "80/80 [==============================] - 0s 5ms/step - loss: 0.0020 - val_loss: 0.0022\n",
            "Epoch 17/50\n",
            "80/80 [==============================] - 0s 5ms/step - loss: 0.0019 - val_loss: 0.0021\n",
            "Epoch 18/50\n",
            "80/80 [==============================] - 0s 6ms/step - loss: 0.0018 - val_loss: 0.0019\n",
            "Epoch 19/50\n",
            "80/80 [==============================] - 0s 5ms/step - loss: 0.0016 - val_loss: 0.0018\n",
            "Epoch 20/50\n",
            "80/80 [==============================] - 0s 6ms/step - loss: 0.0016 - val_loss: 0.0017\n",
            "Epoch 21/50\n",
            "80/80 [==============================] - 0s 6ms/step - loss: 0.0015 - val_loss: 0.0016\n",
            "Epoch 22/50\n",
            "80/80 [==============================] - 0s 5ms/step - loss: 0.0014 - val_loss: 0.0015\n",
            "Epoch 23/50\n",
            "80/80 [==============================] - 0s 6ms/step - loss: 0.0013 - val_loss: 0.0015\n",
            "Epoch 24/50\n",
            "80/80 [==============================] - 0s 5ms/step - loss: 0.0013 - val_loss: 0.0014\n",
            "Epoch 25/50\n",
            "80/80 [==============================] - 0s 6ms/step - loss: 0.0012 - val_loss: 0.0013\n",
            "Epoch 26/50\n",
            "80/80 [==============================] - 0s 5ms/step - loss: 0.0012 - val_loss: 0.0013\n",
            "Epoch 27/50\n",
            "80/80 [==============================] - 0s 6ms/step - loss: 0.0011 - val_loss: 0.0013\n",
            "Epoch 28/50\n",
            "80/80 [==============================] - 0s 6ms/step - loss: 0.0011 - val_loss: 0.0012\n",
            "Epoch 29/50\n",
            "80/80 [==============================] - 0s 6ms/step - loss: 0.0010 - val_loss: 0.0012\n",
            "Epoch 30/50\n",
            "80/80 [==============================] - 0s 6ms/step - loss: 0.0010 - val_loss: 0.0012\n",
            "Epoch 31/50\n",
            "80/80 [==============================] - 0s 5ms/step - loss: 9.8027e-04 - val_loss: 0.0011\n",
            "Epoch 32/50\n",
            "80/80 [==============================] - 0s 5ms/step - loss: 9.3159e-04 - val_loss: 0.0011\n",
            "Epoch 33/50\n",
            "80/80 [==============================] - 0s 5ms/step - loss: 9.1469e-04 - val_loss: 0.0011\n",
            "Epoch 34/50\n",
            "80/80 [==============================] - 0s 5ms/step - loss: 8.7702e-04 - val_loss: 0.0010\n",
            "Epoch 35/50\n",
            "80/80 [==============================] - 0s 5ms/step - loss: 8.7721e-04 - val_loss: 0.0010\n",
            "Epoch 36/50\n",
            "80/80 [==============================] - 0s 5ms/step - loss: 8.1684e-04 - val_loss: 9.5131e-04\n",
            "Epoch 37/50\n",
            "80/80 [==============================] - 0s 5ms/step - loss: 7.8662e-04 - val_loss: 9.5915e-04\n",
            "Epoch 38/50\n",
            "80/80 [==============================] - 0s 5ms/step - loss: 7.6175e-04 - val_loss: 9.0707e-04\n",
            "Epoch 39/50\n",
            "80/80 [==============================] - 0s 6ms/step - loss: 7.3664e-04 - val_loss: 8.9856e-04\n",
            "Epoch 40/50\n",
            "80/80 [==============================] - 0s 5ms/step - loss: 7.1841e-04 - val_loss: 8.4668e-04\n",
            "Epoch 41/50\n",
            "80/80 [==============================] - 0s 6ms/step - loss: 6.8945e-04 - val_loss: 8.7030e-04\n",
            "Epoch 42/50\n",
            "80/80 [==============================] - 0s 5ms/step - loss: 6.8511e-04 - val_loss: 8.7025e-04\n",
            "Epoch 43/50\n",
            "80/80 [==============================] - 0s 6ms/step - loss: 6.6996e-04 - val_loss: 8.3274e-04\n",
            "Epoch 44/50\n",
            "80/80 [==============================] - 0s 6ms/step - loss: 6.4977e-04 - val_loss: 8.3093e-04\n",
            "Epoch 45/50\n",
            "80/80 [==============================] - 0s 6ms/step - loss: 6.3343e-04 - val_loss: 8.1457e-04\n",
            "Epoch 46/50\n",
            "80/80 [==============================] - 0s 5ms/step - loss: 6.2952e-04 - val_loss: 8.0691e-04\n",
            "Epoch 47/50\n",
            "80/80 [==============================] - 0s 6ms/step - loss: 6.1677e-04 - val_loss: 7.9207e-04\n",
            "Epoch 48/50\n",
            "80/80 [==============================] - 0s 6ms/step - loss: 6.0851e-04 - val_loss: 7.8687e-04\n",
            "Epoch 49/50\n",
            "80/80 [==============================] - 0s 5ms/step - loss: 6.0649e-04 - val_loss: 7.5933e-04\n",
            "Epoch 50/50\n",
            "80/80 [==============================] - 0s 5ms/step - loss: 5.9412e-04 - val_loss: 7.4683e-04\n"
          ]
        }
      ]
    },
    {
      "cell_type": "code",
      "source": [
        "autoencoder.layers[-3]"
      ],
      "metadata": {
        "colab": {
          "base_uri": "https://localhost:8080/"
        },
        "id": "c5SmZYEI71VR",
        "outputId": "177b79d2-6622-4c49-a136-1b207cb0869e"
      },
      "execution_count": null,
      "outputs": [
        {
          "output_type": "execute_result",
          "data": {
            "text/plain": [
              "<keras.layers.core.dense.Dense at 0x7f830b93a210>"
            ]
          },
          "metadata": {},
          "execution_count": 76
        }
      ]
    },
    {
      "cell_type": "code",
      "source": [
        "\n",
        "codificador = Model(entrada, encoded)\n",
        "entrada_codificada = Input(shape=(dimension_codificacion, ))\n",
        "decoder_layer_1 = autoencoder.layers[-3](entrada_codificada)\n",
        "decoder_layer_2 = autoencoder.layers[-2](decoder_layer_1)\n",
        "\n",
        "decoder_output = autoencoder.layers[-1](decoder_layer_2)\n",
        "decodificador = Model(entrada_codificada,decoder_output)"
      ],
      "metadata": {
        "id": "kFGdIsapfY1B"
      },
      "execution_count": null,
      "outputs": []
    },
    {
      "cell_type": "markdown",
      "source": [
        "Le pasaremos a el codificador, todos los datons no-anómalos, una vez codificados, usaremos esto para entrenear a el autoencoder que se encaragara de drtectar anómalias"
      ],
      "metadata": {
        "id": "1Sezc0REfes8"
      }
    },
    {
      "cell_type": "code",
      "source": [
        "inliers_codificados = codificador.predict(normal_train_data)\n",
        "inliers_codificados.shape"
      ],
      "metadata": {
        "colab": {
          "base_uri": "https://localhost:8080/"
        },
        "id": "PUDI_AizfZF-",
        "outputId": "9c12a693-e90e-48bf-def7-fa1ca655085c"
      },
      "execution_count": null,
      "outputs": [
        {
          "output_type": "execute_result",
          "data": {
            "text/plain": [
              "(2508, 20)"
            ]
          },
          "metadata": {},
          "execution_count": 78
        }
      ]
    },
    {
      "cell_type": "markdown",
      "source": [
        ""
      ],
      "metadata": {
        "id": "SSdD_wdbgJNX"
      }
    },
    {
      "cell_type": "markdown",
      "source": [
        "### AUTOAD"
      ],
      "metadata": {
        "id": "PFBKh0HxflV2"
      }
    },
    {
      "cell_type": "code",
      "source": [
        "dimension_entrada = inliers_codificados.shape[1]\n",
        "dimension_codificacion = 4\n",
        "\n",
        "\n",
        "\n",
        "\n",
        "\n",
        "entrada = Input(shape=(dimension_entrada,))\n",
        "\n",
        "\n",
        "\n",
        "#encoded = Dropout(0.1)(encoded)\n",
        "encoded = Dense(32, activation='relu')(entrada)\n",
        "\n",
        "encoded = Dense(8, activation='relu')(encoded)\n",
        "\n",
        "encoded = Dense(dimension_codificacion, activation='relu')(encoded)\n",
        "decoded = Dense(8, activation='relu')(encoded)\n",
        "\n",
        "decoded = Dense(32, activation='relu')(encoded)\n",
        "\n",
        "\n",
        "#decoded= Dropout(0.1)(decoded)\n",
        "\n",
        "decodificada = Dense(dimension_entrada, activation='sigmoid')(decoded)\n",
        "autoencoder_AD = Model(entrada,decodificada) \n",
        "autoencoder_AD.compile(optimizer=  'adam' ,loss = 'mse')\n",
        "\n",
        "\n",
        "history2 = autoencoder_AD.fit(inliers_codificados, inliers_codificados,\n",
        "                    epochs=50,\n",
        "                    batch_size=32,\n",
        "                    shuffle=True)"
      ],
      "metadata": {
        "colab": {
          "base_uri": "https://localhost:8080/"
        },
        "id": "ygoNrrf8fZR8",
        "outputId": "c42200a4-8f57-4c15-eb20-f560b87c9f0e"
      },
      "execution_count": null,
      "outputs": [
        {
          "output_type": "stream",
          "name": "stdout",
          "text": [
            "Epoch 1/50\n",
            "79/79 [==============================] - 1s 4ms/step - loss: 0.4108\n",
            "Epoch 2/50\n",
            "79/79 [==============================] - 0s 4ms/step - loss: 0.2046\n",
            "Epoch 3/50\n",
            "79/79 [==============================] - 0s 4ms/step - loss: 0.1877\n",
            "Epoch 4/50\n",
            "79/79 [==============================] - 0s 3ms/step - loss: 0.1857\n",
            "Epoch 5/50\n",
            "79/79 [==============================] - 0s 4ms/step - loss: 0.1842\n",
            "Epoch 6/50\n",
            "79/79 [==============================] - 0s 3ms/step - loss: 0.1828\n",
            "Epoch 7/50\n",
            "79/79 [==============================] - 0s 4ms/step - loss: 0.1813\n",
            "Epoch 8/50\n",
            "79/79 [==============================] - 0s 3ms/step - loss: 0.1793\n",
            "Epoch 9/50\n",
            "79/79 [==============================] - 0s 4ms/step - loss: 0.1770\n",
            "Epoch 10/50\n",
            "79/79 [==============================] - 0s 4ms/step - loss: 0.1752\n",
            "Epoch 11/50\n",
            "79/79 [==============================] - 0s 4ms/step - loss: 0.1734\n",
            "Epoch 12/50\n",
            "79/79 [==============================] - 0s 4ms/step - loss: 0.1721\n",
            "Epoch 13/50\n",
            "79/79 [==============================] - 0s 4ms/step - loss: 0.1711\n",
            "Epoch 14/50\n",
            "79/79 [==============================] - 0s 3ms/step - loss: 0.1702\n",
            "Epoch 15/50\n",
            "79/79 [==============================] - 0s 4ms/step - loss: 0.1696\n",
            "Epoch 16/50\n",
            "79/79 [==============================] - 0s 4ms/step - loss: 0.1692\n",
            "Epoch 17/50\n",
            "79/79 [==============================] - 0s 4ms/step - loss: 0.1688\n",
            "Epoch 18/50\n",
            "79/79 [==============================] - 0s 3ms/step - loss: 0.1685\n",
            "Epoch 19/50\n",
            "79/79 [==============================] - 0s 4ms/step - loss: 0.1682\n",
            "Epoch 20/50\n",
            "79/79 [==============================] - 0s 4ms/step - loss: 0.1680\n",
            "Epoch 21/50\n",
            "79/79 [==============================] - 0s 4ms/step - loss: 0.1678\n",
            "Epoch 22/50\n",
            "79/79 [==============================] - 0s 3ms/step - loss: 0.1676\n",
            "Epoch 23/50\n",
            "79/79 [==============================] - 0s 4ms/step - loss: 0.1675\n",
            "Epoch 24/50\n",
            "79/79 [==============================] - 0s 4ms/step - loss: 0.1673\n",
            "Epoch 25/50\n",
            "79/79 [==============================] - 0s 3ms/step - loss: 0.1673\n",
            "Epoch 26/50\n",
            "79/79 [==============================] - 0s 4ms/step - loss: 0.1672\n",
            "Epoch 27/50\n",
            "79/79 [==============================] - 0s 4ms/step - loss: 0.1671\n",
            "Epoch 28/50\n",
            "79/79 [==============================] - 0s 4ms/step - loss: 0.1671\n",
            "Epoch 29/50\n",
            "79/79 [==============================] - 0s 4ms/step - loss: 0.1670\n",
            "Epoch 30/50\n",
            "79/79 [==============================] - 0s 3ms/step - loss: 0.1669\n",
            "Epoch 31/50\n",
            "79/79 [==============================] - 0s 4ms/step - loss: 0.1669\n",
            "Epoch 32/50\n",
            "79/79 [==============================] - 0s 4ms/step - loss: 0.1668\n",
            "Epoch 33/50\n",
            "79/79 [==============================] - 0s 4ms/step - loss: 0.1668\n",
            "Epoch 34/50\n",
            "79/79 [==============================] - 0s 4ms/step - loss: 0.1667\n",
            "Epoch 35/50\n",
            "79/79 [==============================] - 0s 4ms/step - loss: 0.1667\n",
            "Epoch 36/50\n",
            "79/79 [==============================] - 0s 4ms/step - loss: 0.1666\n",
            "Epoch 37/50\n",
            "79/79 [==============================] - 0s 4ms/step - loss: 0.1666\n",
            "Epoch 38/50\n",
            "79/79 [==============================] - 0s 4ms/step - loss: 0.1666\n",
            "Epoch 39/50\n",
            "79/79 [==============================] - 0s 4ms/step - loss: 0.1666\n",
            "Epoch 40/50\n",
            "79/79 [==============================] - 0s 4ms/step - loss: 0.1665\n",
            "Epoch 41/50\n",
            "79/79 [==============================] - 0s 3ms/step - loss: 0.1665\n",
            "Epoch 42/50\n",
            "79/79 [==============================] - 0s 4ms/step - loss: 0.1664\n",
            "Epoch 43/50\n",
            "79/79 [==============================] - 0s 4ms/step - loss: 0.1664\n",
            "Epoch 44/50\n",
            "79/79 [==============================] - 0s 4ms/step - loss: 0.1665\n",
            "Epoch 45/50\n",
            "79/79 [==============================] - 0s 4ms/step - loss: 0.1664\n",
            "Epoch 46/50\n",
            "79/79 [==============================] - 0s 3ms/step - loss: 0.1664\n",
            "Epoch 47/50\n",
            "79/79 [==============================] - 0s 4ms/step - loss: 0.1663\n",
            "Epoch 48/50\n",
            "79/79 [==============================] - 0s 3ms/step - loss: 0.1664\n",
            "Epoch 49/50\n",
            "79/79 [==============================] - 0s 4ms/step - loss: 0.1663\n",
            "Epoch 50/50\n",
            "79/79 [==============================] - 0s 4ms/step - loss: 0.1663\n"
          ]
        }
      ]
    },
    {
      "cell_type": "code",
      "source": [
        "test_codificado = codificador.predict(X_test)\n",
        "ADtest_x_predictions = autoencoder_AD.predict(test_codificado)\n",
        "mse = np.mean(np.abs(test_codificado-ADtest_x_predictions)**2\n",
        "                    , axis = tuple(range(1,X_test.ndim)))\n",
        "\n",
        "error_df = pd.DataFrame({'Reconstruction_error': mse,\n",
        "                        'True_class': test_labels})"
      ],
      "metadata": {
        "id": "fp2VQ43yfZcH"
      },
      "execution_count": null,
      "outputs": []
    },
    {
      "cell_type": "code",
      "source": [
        "groups = error_df.groupby('True_class')\n",
        "fig, ax = plt.subplots()\n",
        "for name, group in groups:\n",
        "    ax.plot(group.index, group.Reconstruction_error, marker='o', ms=3.5, linestyle='',\n",
        "            label= \"Fraud\" if name == 1 else \"Normal\")\n",
        "#ax.hlines(threshold_fixed, ax.get_xlim()[0], ax.get_xlim()[1], colors=\"r\", zorder=100, label='Threshold')\n",
        "ax.legend()\n",
        "threshold =  np.mean( error_df[error_df[\"True_class\"]==True][\"Reconstruction_error\"])-np.std( error_df[error_df[\"True_class\"]==True][\"Reconstruction_error\"])\n",
        "plt.axhline(y= threshold, color='r', linestyle='-')\n",
        "plt.title(\"Reconstruction error for normal and fraud data AUTO_RD + AUTO_AD\")\n",
        "plt.ylabel(\"Reconstruction error\")\n",
        "plt.xlabel(\"Data point index\")\n",
        "plt.show();"
      ],
      "metadata": {
        "colab": {
          "base_uri": "https://localhost:8080/",
          "height": 295
        },
        "id": "0UEW6LL1fq44",
        "outputId": "1c513103-6eb7-4437-f36f-7fec464611ba"
      },
      "execution_count": null,
      "outputs": [
        {
          "output_type": "display_data",
          "data": {
            "text/plain": [
              "<Figure size 432x288 with 1 Axes>"
            ],
            "image/png": "[encoded data removed]"
          },
          "metadata": {
            "needs_background": "light"
          }
        }
      ]
    },
    {
      "cell_type": "markdown",
      "source": [
        "No comento los resultados con más detalle porque no es la estructura que mejor resultados nos ha dado."
      ],
      "metadata": {
        "id": "b6gyRlDjGOvS"
      }
    },
    {
      "cell_type": "code",
      "source": [
        ""
      ],
      "metadata": {
        "id": "xzpq3XqYuaXX"
      },
      "execution_count": null,
      "outputs": []
    },
    {
      "cell_type": "markdown",
      "source": [
        "## PCA + Autencoder"
      ],
      "metadata": {
        "id": "8AvB1dbHuaqc"
      }
    },
    {
      "cell_type": "markdown",
      "source": [
        "En este último apartado, vamos a reducir la dimensionalidad del data set utilizando PCA, y una vemos hayamos reducido , pasaremos estos datos transformsdos por un autoencoder para intentar detectar los datos anómalos.\n",
        "\n",
        "\n",
        "---\n",
        "\n",
        "A partir de la varianza explicada de la PCA, hemos deidido que el númro de componentes a transformar será 10. A partir de 10 cada dimensión extra aporta poca información\n",
        "\n",
        "---\n",
        "\n"
      ],
      "metadata": {
        "id": "NVu6hnTWua20"
      }
    },
    {
      "cell_type": "code",
      "source": [
        "pca = PCA(n_components = 10)\n",
        "X_train_pca = pca.fit_transform(X_train)\n",
        "X_test_pca = pca.transform(X_test)\n",
        "\n",
        "plt.plot(np.cumsum(pca.explained_variance_ratio_))\n",
        "plt.ylabel(\" % Varianza explicada\")\n",
        "plt.xlabel(\"Número de dimensiones\")"
      ],
      "metadata": {
        "colab": {
          "base_uri": "https://localhost:8080/",
          "height": 297
        },
        "id": "VsAT2NiDgRJs",
        "outputId": "b2ce290f-721a-4f2e-8347-7d1f5c2c8acf"
      },
      "execution_count": null,
      "outputs": [
        {
          "output_type": "execute_result",
          "data": {
            "text/plain": [
              "Text(0.5, 0, 'Número de dimensiones')"
            ]
          },
          "metadata": {},
          "execution_count": 88
        },
        {
          "output_type": "display_data",
          "data": {
            "text/plain": [
              "<Figure size 432x288 with 1 Axes>"
            ],
            "image/png": "[encoded data removed]"
          },
          "metadata": {
            "needs_background": "light"
          }
        }
      ]
    },
    {
      "cell_type": "code",
      "source": [
        "\n",
        "plt.scatter(X_train_pca[:,0], X_train_pca[:,1], c= train_labels, alpha = 0.5)\n",
        "plt.title(\"Distribucion de las dos primeras dimensiones en el espacio transformado\")"
      ],
      "metadata": {
        "colab": {
          "base_uri": "https://localhost:8080/",
          "height": 299
        },
        "id": "0fJEU_byupzj",
        "outputId": "e5b3ecd6-568f-45fb-921f-de25de89e2ec"
      },
      "execution_count": null,
      "outputs": [
        {
          "output_type": "execute_result",
          "data": {
            "text/plain": [
              "Text(0.5, 1.0, 'Distribucion de las dos primeras dimensiones en el espacio transformado')"
            ]
          },
          "metadata": {},
          "execution_count": 89
        },
        {
          "output_type": "display_data",
          "data": {
            "text/plain": [
              "<Figure size 432x288 with 1 Axes>"
            ],
            "image/png": "[encoded data removed]"
          },
          "metadata": {
            "needs_background": "light"
          }
        }
      ]
    },
    {
      "cell_type": "markdown",
      "source": [
        "Vems que los datos anómalos se separan un poco de los normales"
      ],
      "metadata": {
        "id": "lc_YlHSzNAjz"
      }
    },
    {
      "cell_type": "code",
      "source": [
        "train_labels = y_train.astype(bool)\n",
        "test_labels = y_test.astype(bool)#creating normal and fraud datasets\n",
        "normal_train_data = X_train_pca[~train_labels]\n",
        "normal_test_data = X_test_pca[~test_labels]\n",
        "fraud_train_data = X_train_pca[train_labels]\n",
        "fraud_test_data = X_test_pca[test_labels]\n",
        "print(\" No. of records in Fraud Train Data=\",len(fraud_train_data))\n",
        "print(\" No. of records in Normal Train data=\",len(normal_train_data))\n",
        "print(\" No. of records in Fraud Test Data=\",len(fraud_test_data))\n",
        "print(\" No. of records in Normal Test data=\",len(normal_test_data))"
      ],
      "metadata": {
        "colab": {
          "base_uri": "https://localhost:8080/"
        },
        "id": "MLGuiys4usqB",
        "outputId": "56debc7d-ec65-4a9c-a9df-cd2a8d9ac912"
      },
      "execution_count": null,
      "outputs": [
        {
          "output_type": "stream",
          "name": "stdout",
          "text": [
            " No. of records in Fraud Train Data= 34\n",
            " No. of records in Normal Train data= 2508\n",
            " No. of records in Fraud Test Data= 21\n",
            " No. of records in Normal Test data= 1069\n"
          ]
        }
      ]
    },
    {
      "cell_type": "markdown",
      "source": [
        "Procedemos a montar el autoencoder"
      ],
      "metadata": {
        "id": "u11irFNiNHJe"
      }
    },
    {
      "cell_type": "code",
      "source": [
        "dimension_entrada = 10\n",
        "dimension_codificacion = 2\n",
        "\n",
        "\n",
        "\n",
        "entrada = Input(shape=(dimension_entrada,))\n",
        "encoded = Dense(36, activation='relu')(entrada)\n",
        "\n",
        "encoded = Dense(16, activation='relu')(encoded)\n",
        "#encoded = Dropout(0.1)(encoded)\n",
        "encoded = Dense(8, activation='relu')(encoded)\n",
        "\n",
        "encoded = Dense(dimension_codificacion, activation='relu')(encoded)\n",
        "decoded = Dense(8, activation='relu')(encoded)\n",
        "\n",
        "decoded = Dense(16, activation='relu')(decoded)\n",
        "#decoded= Dropout(0.1)(decoded)\n",
        "decoded = Dense(36, activation='relu')(decoded)\n",
        "\n",
        "decodificada = Dense(dimension_entrada, activation='sigmoid')(decoded)\n",
        "\n",
        "autoencoder = Model(entrada,decodificada) \n",
        "autoencoder.compile(optimizer=  'adam' ,loss = 'mse')\n",
        "\n",
        "\n",
        "history2 = autoencoder.fit(normal_train_data, normal_train_data,\n",
        "                    epochs=50,\n",
        "                    batch_size=32,\n",
        "                    shuffle=True,\n",
        "                    validation_data=(normal_test_data,normal_test_data))"
      ],
      "metadata": {
        "colab": {
          "base_uri": "https://localhost:8080/"
        },
        "id": "bhCK5uOQvlV3",
        "outputId": "0d4058c2-d21e-4f35-b00c-408fa4c59459"
      },
      "execution_count": null,
      "outputs": [
        {
          "output_type": "stream",
          "name": "stdout",
          "text": [
            "Epoch 1/50\n",
            "79/79 [==============================] - 1s 8ms/step - loss: 0.2382 - val_loss: 0.0938\n",
            "Epoch 2/50\n",
            "79/79 [==============================] - 0s 5ms/step - loss: 0.0751 - val_loss: 0.0801\n",
            "Epoch 3/50\n",
            "79/79 [==============================] - 0s 5ms/step - loss: 0.0706 - val_loss: 0.0706\n",
            "Epoch 4/50\n",
            "79/79 [==============================] - 0s 5ms/step - loss: 0.0582 - val_loss: 0.0551\n",
            "Epoch 5/50\n",
            "79/79 [==============================] - 0s 5ms/step - loss: 0.0500 - val_loss: 0.0523\n",
            "Epoch 6/50\n",
            "79/79 [==============================] - 0s 6ms/step - loss: 0.0480 - val_loss: 0.0496\n",
            "Epoch 7/50\n",
            "79/79 [==============================] - 0s 5ms/step - loss: 0.0466 - val_loss: 0.0484\n",
            "Epoch 8/50\n",
            "79/79 [==============================] - 0s 6ms/step - loss: 0.0458 - val_loss: 0.0477\n",
            "Epoch 9/50\n",
            "79/79 [==============================] - 0s 5ms/step - loss: 0.0454 - val_loss: 0.0474\n",
            "Epoch 10/50\n",
            "79/79 [==============================] - 0s 5ms/step - loss: 0.0451 - val_loss: 0.0470\n",
            "Epoch 11/50\n",
            "79/79 [==============================] - 0s 5ms/step - loss: 0.0448 - val_loss: 0.0464\n",
            "Epoch 12/50\n",
            "79/79 [==============================] - 0s 6ms/step - loss: 0.0439 - val_loss: 0.0455\n",
            "Epoch 13/50\n",
            "79/79 [==============================] - 0s 6ms/step - loss: 0.0435 - val_loss: 0.0453\n",
            "Epoch 14/50\n",
            "79/79 [==============================] - 0s 5ms/step - loss: 0.0433 - val_loss: 0.0452\n",
            "Epoch 15/50\n",
            "79/79 [==============================] - 0s 6ms/step - loss: 0.0432 - val_loss: 0.0451\n",
            "Epoch 16/50\n",
            "79/79 [==============================] - 0s 6ms/step - loss: 0.0432 - val_loss: 0.0451\n",
            "Epoch 17/50\n",
            "79/79 [==============================] - 0s 5ms/step - loss: 0.0431 - val_loss: 0.0450\n",
            "Epoch 18/50\n",
            "79/79 [==============================] - 0s 5ms/step - loss: 0.0431 - val_loss: 0.0449\n",
            "Epoch 19/50\n",
            "79/79 [==============================] - 0s 6ms/step - loss: 0.0430 - val_loss: 0.0449\n",
            "Epoch 20/50\n",
            "79/79 [==============================] - 1s 6ms/step - loss: 0.0430 - val_loss: 0.0449\n",
            "Epoch 21/50\n",
            "79/79 [==============================] - 0s 5ms/step - loss: 0.0430 - val_loss: 0.0448\n",
            "Epoch 22/50\n",
            "79/79 [==============================] - 0s 6ms/step - loss: 0.0429 - val_loss: 0.0447\n",
            "Epoch 23/50\n",
            "79/79 [==============================] - 1s 6ms/step - loss: 0.0429 - val_loss: 0.0448\n",
            "Epoch 24/50\n",
            "79/79 [==============================] - 0s 6ms/step - loss: 0.0428 - val_loss: 0.0447\n",
            "Epoch 25/50\n",
            "79/79 [==============================] - 0s 5ms/step - loss: 0.0428 - val_loss: 0.0446\n",
            "Epoch 26/50\n",
            "79/79 [==============================] - 0s 6ms/step - loss: 0.0427 - val_loss: 0.0446\n",
            "Epoch 27/50\n",
            "79/79 [==============================] - 0s 5ms/step - loss: 0.0427 - val_loss: 0.0445\n",
            "Epoch 28/50\n",
            "79/79 [==============================] - 0s 5ms/step - loss: 0.0426 - val_loss: 0.0444\n",
            "Epoch 29/50\n",
            "79/79 [==============================] - 0s 6ms/step - loss: 0.0426 - val_loss: 0.0444\n",
            "Epoch 30/50\n",
            "79/79 [==============================] - 0s 6ms/step - loss: 0.0425 - val_loss: 0.0444\n",
            "Epoch 31/50\n",
            "79/79 [==============================] - 0s 5ms/step - loss: 0.0426 - val_loss: 0.0443\n",
            "Epoch 32/50\n",
            "79/79 [==============================] - 0s 5ms/step - loss: 0.0424 - val_loss: 0.0442\n",
            "Epoch 33/50\n",
            "79/79 [==============================] - 1s 7ms/step - loss: 0.0423 - val_loss: 0.0441\n",
            "Epoch 34/50\n",
            "79/79 [==============================] - 1s 7ms/step - loss: 0.0423 - val_loss: 0.0442\n",
            "Epoch 35/50\n",
            "79/79 [==============================] - 1s 8ms/step - loss: 0.0422 - val_loss: 0.0440\n",
            "Epoch 36/50\n",
            "79/79 [==============================] - 1s 10ms/step - loss: 0.0421 - val_loss: 0.0440\n",
            "Epoch 37/50\n",
            "79/79 [==============================] - 1s 10ms/step - loss: 0.0421 - val_loss: 0.0439\n",
            "Epoch 38/50\n",
            "79/79 [==============================] - 1s 9ms/step - loss: 0.0421 - val_loss: 0.0439\n",
            "Epoch 39/50\n",
            "79/79 [==============================] - 1s 11ms/step - loss: 0.0421 - val_loss: 0.0440\n",
            "Epoch 40/50\n",
            "79/79 [==============================] - 1s 10ms/step - loss: 0.0422 - val_loss: 0.0441\n",
            "Epoch 41/50\n",
            "79/79 [==============================] - 1s 9ms/step - loss: 0.0421 - val_loss: 0.0438\n",
            "Epoch 42/50\n",
            "79/79 [==============================] - 1s 9ms/step - loss: 0.0420 - val_loss: 0.0439\n",
            "Epoch 43/50\n",
            "79/79 [==============================] - 1s 9ms/step - loss: 0.0420 - val_loss: 0.0437\n",
            "Epoch 44/50\n",
            "79/79 [==============================] - 1s 10ms/step - loss: 0.0419 - val_loss: 0.0437\n",
            "Epoch 45/50\n",
            "79/79 [==============================] - 1s 9ms/step - loss: 0.0419 - val_loss: 0.0437\n",
            "Epoch 46/50\n",
            "79/79 [==============================] - 1s 9ms/step - loss: 0.0419 - val_loss: 0.0437\n",
            "Epoch 47/50\n",
            "79/79 [==============================] - 1s 9ms/step - loss: 0.0419 - val_loss: 0.0439\n",
            "Epoch 48/50\n",
            "79/79 [==============================] - 0s 5ms/step - loss: 0.0418 - val_loss: 0.0438\n",
            "Epoch 49/50\n",
            "79/79 [==============================] - 0s 5ms/step - loss: 0.0418 - val_loss: 0.0437\n",
            "Epoch 50/50\n",
            "79/79 [==============================] - 0s 6ms/step - loss: 0.0418 - val_loss: 0.0437\n"
          ]
        }
      ]
    },
    {
      "cell_type": "code",
      "source": [
        "#X_test = X_test.reshape(738,20,20,1)\n",
        "\n",
        "test_x_predictions = autoencoder.predict(X_test_pca)\n",
        "mse = np.mean(np.abs(X_test_pca-test_x_predictions)**2\n",
        "                    , axis = tuple(range(1,X_test_pca.ndim)))\n",
        "\n",
        "error_df = pd.DataFrame({'Reconstruction_error': mse,\n",
        "                        'True_class': test_labels})"
      ],
      "metadata": {
        "id": "YQIZKB7awP_W"
      },
      "execution_count": null,
      "outputs": []
    },
    {
      "cell_type": "code",
      "source": [
        "groups = error_df.groupby('True_class')\n",
        "fig, ax = plt.subplots()\n",
        "for name, group in groups:\n",
        "    ax.plot(group.index, group.Reconstruction_error, marker='o', ms=3.5, linestyle='',\n",
        "            label= \"Fraud\" if name == 1 else \"Normal\")\n",
        "#ax.hlines(threshold_fixed, ax.get_xlim()[0], ax.get_xlim()[1], colors=\"r\", zorder=100, label='Threshold')\n",
        "ax.legend()\n",
        "threshold =  np.mean( error_df[error_df[\"True_class\"]==True][\"Reconstruction_error\"]) - np.std( error_df[error_df[\"True_class\"]==True][\"Reconstruction_error\"])\n",
        "plt.axhline(y= threshold, color='r', linestyle='-')\n",
        "plt.title(\"Reconstruction error for normal and fraud data PCA + AUTO_AD\" )\n",
        "plt.ylabel(\"Reconstruction error\")\n",
        "plt.xlabel(\"Data point index\")\n",
        "plt.show();"
      ],
      "metadata": {
        "colab": {
          "base_uri": "https://localhost:8080/",
          "height": 295
        },
        "id": "sCnyvws_v3Cn",
        "outputId": "f2127849-3c16-4e78-d796-c556036470be"
      },
      "execution_count": null,
      "outputs": [
        {
          "output_type": "display_data",
          "data": {
            "text/plain": [
              "<Figure size 432x288 with 1 Axes>"
            ],
            "image/png": "[encoded data removed]"
          },
          "metadata": {
            "needs_background": "light"
          }
        }
      ]
    },
    {
      "cell_type": "code",
      "source": [
        "print(np.mean(error_df[error_df[\"True_class\"]==False]))\n",
        "print(np.mean(error_df[error_df[\"True_class\"]==True]))\n",
        "\n",
        "teoric_fraud = []\n",
        "teoric_ok = []\n",
        "for i in range(len(error_df)):\n",
        "  if (error_df.iloc[i,0]>= threshold):\n",
        "    teoric_fraud.append(error_df.iloc[i][[\"Reconstruction_error\",\"True_class\"]])\n",
        "  else :\n",
        "    teoric_ok.append(error_df.iloc[i][[\"Reconstruction_error\",\"True_class\"]])\n",
        "\n",
        "print(\"threshold:\", threshold)"
      ],
      "metadata": {
        "colab": {
          "base_uri": "https://localhost:8080/"
        },
        "id": "aJNJmSCBzY4K",
        "outputId": "9ba4b6dd-1506-40fe-8f7f-9ae0fa75623b"
      },
      "execution_count": null,
      "outputs": [
        {
          "output_type": "stream",
          "name": "stdout",
          "text": [
            "Reconstruction_error    0.046789\n",
            "True_class              0.000000\n",
            "dtype: float64\n",
            "Reconstruction_error    0.151787\n",
            "True_class              1.000000\n",
            "dtype: float64\n",
            "threshold: 0.10130129956883169\n"
          ]
        }
      ]
    },
    {
      "cell_type": "markdown",
      "source": [
        "## Resultado\n",
        "\n",
        "Vamos a describir los haciertos y erroes que hemos cometido:\n",
        "\n",
        "Outliers:"
      ],
      "metadata": {
        "id": "YMAhYEbq_jof"
      }
    },
    {
      "cell_type": "code",
      "source": [
        "print(\"Numero de outliers en el data set original :\",len(error_df[error_df[\"True_class\"]==True]))\n",
        "print(\"Numero de outliers etiquetados como tal :\" , np.sum([i[1]== True for i in teoric_fraud]))\n",
        "\n",
        "print(\"Accuracy: \",np.sum([i[1]== True for i in teoric_fraud])/len(error_df[error_df[\"True_class\"]==True]))"
      ],
      "metadata": {
        "colab": {
          "base_uri": "https://localhost:8080/"
        },
        "id": "vzXUsicf_L4I",
        "outputId": "b8d1bddd-698b-4487-c8d4-c309c65f4437"
      },
      "execution_count": null,
      "outputs": [
        {
          "output_type": "stream",
          "name": "stdout",
          "text": [
            "Numero de outliers en el data set original : 21\n",
            "Numero de outliers etiquetados como tal : 18\n",
            "Accuracy:  0.8571428571428571\n"
          ]
        }
      ]
    },
    {
      "cell_type": "markdown",
      "source": [
        "Inliers:"
      ],
      "metadata": {
        "id": "67XEXYpoNsGC"
      }
    },
    {
      "cell_type": "code",
      "source": [
        "print(\"Numero de inliers en el data set probado :\", len(error_df[error_df[\"True_class\"]==False])) \n",
        "print(\"Numero de intliers etiquetados como tal :\",np.sum([i[1]== False for i in teoric_ok]))\n",
        "\n",
        "print(\"Accuracy: \", np.sum([i[1]== False for i in teoric_ok])/len(error_df[error_df[\"True_class\"]==False]))"
      ],
      "metadata": {
        "colab": {
          "base_uri": "https://localhost:8080/"
        },
        "id": "OFeMg5T4_VuR",
        "outputId": "c1921ef5-8ce2-45a7-b3df-0940a00da018"
      },
      "execution_count": null,
      "outputs": [
        {
          "output_type": "stream",
          "name": "stdout",
          "text": [
            "Numero de inliers en el data set probado : 1069\n",
            "Numero de intliers etiquetados como tal : 1025\n",
            "Accuracy:  0.9588400374181478\n"
          ]
        }
      ]
    },
    {
      "cell_type": "markdown",
      "source": [
        "Errores en el etiquetado"
      ],
      "metadata": {
        "id": "SZQ6NVDZNuRn"
      }
    },
    {
      "cell_type": "code",
      "source": [
        "print(\"Error en el etiquetado de inliers  :\", np.sum([i[1]== True for i in teoric_ok])/len(error_df[error_df[\"True_class\"]==True]),\"%\") \n",
        "print(\"Error en el etiquetado de outliers  :\", np.sum([i[1]== False for i in teoric_fraud])/len(error_df[error_df[\"True_class\"]==False]),\"%\") "
      ],
      "metadata": {
        "colab": {
          "base_uri": "https://localhost:8080/"
        },
        "id": "MlzLLk0c_cZv",
        "outputId": "649146f8-8adb-4dc6-c30c-ff18113a5da2"
      },
      "execution_count": null,
      "outputs": [
        {
          "output_type": "stream",
          "name": "stdout",
          "text": [
            "Error en el etiquetado de inliers  : 0.14285714285714285 %\n",
            "Error en el etiquetado de outliers  : 0.0411599625818522 %\n"
          ]
        }
      ]
    },
    {
      "cell_type": "code",
      "source": [
        "33/1069\n",
        "3/21"
      ],
      "metadata": {
        "colab": {
          "base_uri": "https://localhost:8080/"
        },
        "id": "_4mxJQCj_glM",
        "outputId": "7c159a94-2309-41f6-bac2-91afc775fbdd"
      },
      "execution_count": null,
      "outputs": [
        {
          "output_type": "execute_result",
          "data": {
            "text/plain": [
              "0.14285714285714285"
            ]
          },
          "metadata": {},
          "execution_count": 46
        }
      ]
    },
    {
      "cell_type": "markdown",
      "source": [
        "Otro método para medir el acierto:"
      ],
      "metadata": {
        "id": "38ageGlFOAEz"
      }
    },
    {
      "cell_type": "code",
      "source": [
        "from sklearn.metrics import accuracy_score\n",
        "from tensorflow.keras.losses import MeanSquaredLogarithmicError\n",
        "\n",
        "def get_predictions(model, x_test_scaled, threshold):\n",
        "  predictions = model.predict(x_test_scaled)\n",
        "  # provides losses of individual instances\n",
        "  errors = tf.keras.losses.msle(predictions, x_test_scaled)\n",
        "  # 0 = anomaly, 1 = normal\n",
        "  anomaly_mask = pd.Series(errors) > threshold\n",
        "  preds = anomaly_mask.map(lambda x: 0.0 if x == False else 1.0)\n",
        "  return preds"
      ],
      "metadata": {
        "id": "2-mbNu2tEuKM"
      },
      "execution_count": null,
      "outputs": []
    },
    {
      "cell_type": "code",
      "source": [
        "\n",
        "preds = get_predictions(autoencoder, X_test_pca, threshold)\n",
        "\n",
        "## Accuracy:\n",
        "accuracy_score(preds, y_test)\n"
      ],
      "metadata": {
        "colab": {
          "base_uri": "https://localhost:8080/"
        },
        "id": "0_iRbbe4ExES",
        "outputId": "186b6ab2-6589-437d-d053-e98ee75d47a8"
      },
      "execution_count": null,
      "outputs": [
        {
          "output_type": "execute_result",
          "data": {
            "text/plain": [
              "0.9788990825688073"
            ]
          },
          "metadata": {},
          "execution_count": 48
        }
      ]
    },
    {
      "cell_type": "markdown",
      "source": [
        "# Resumen de resultados:  \n",
        "![res3.png](data:image/png;base64,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)![res2.png](data:image/png;base64,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)![res1.png](data:image/png;base64,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)"
      ],
      "metadata": {
        "id": "x2HVyD6zUBoR"
      }
    },
    {
      "cell_type": "markdown",
      "source": [
        "## Conclusión : \n",
        "\n",
        "Hemos realizado da detección de datos anómalos con tres estructuras diferentes : \n",
        "\n",
        "*   Autoencoder porfundo\n",
        "*   Autoencoder reducion de dimensionalidad + Autoencoder detector anomalias\n",
        "*   PCA y  Autoencoder detector anomalias\n",
        "\n",
        "\n",
        "Donde mejores resultados hemos obtenido es en la PCA + Autoencoder. Esto puede deberse a que la reducción de la dimensionalidad mediante PCA ha conseguido encontrar las direcciones de máxima varianza de los datos  normales, separando aún mas los anómalos. \n",
        "\n",
        "Puede que nuestro autoencoder de reducción de la dimensionalidad, debido a su carácter altamente no lineal, no haya podido separar los dos tipos de datos, sino que ha encontrado direcciones no lineales lo que hacían era juntar más los datos. Esto último podemos verlo :\n",
        "\n",
        "La primera estructura utilizada, el autoencoder profundo, ha dado unos resultados notables, pesee a partir de todo el data set entero. No obstante, vemos que una simpe reducción de dimension mediante PCA a mejorado significativamente los resultados.\n",
        "\n",
        "\n",
        "\n"
      ],
      "metadata": {
        "id": "ntwsaRjtOISb"
      }
    },
    {
      "cell_type": "code",
      "source": [
        "\n",
        "plt.scatter(test_codificado[:,0], test_codificado[:,1], c= test_labels, alpha = 0.5)\n",
        "plt.title(\"Distribucion de las dos primeras dimensiones en el espacio transformado por el autoencoder\")"
      ],
      "metadata": {
        "id": "o5U07kPhFbLS",
        "colab": {
          "base_uri": "https://localhost:8080/",
          "height": 299
        },
        "outputId": "1efdd2da-e57f-4dee-aa64-60c26e45e353"
      },
      "execution_count": null,
      "outputs": [
        {
          "output_type": "execute_result",
          "data": {
            "text/plain": [
              "Text(0.5, 1.0, 'Distribucion de las dos primeras dimensiones en el espacio transformado por el autoencoder')"
            ]
          },
          "metadata": {},
          "execution_count": 49
        },
        {
          "output_type": "display_data",
          "data": {
            "text/plain": [
              "<Figure size 432x288 with 1 Axes>"
            ],
            "image/png": "[encoded data removed]"
          },
          "metadata": {
            "needs_background": "light"
          }
        }
      ]
    },
    {
      "cell_type": "markdown",
      "source": [
        "Vemos que pese a si estar separados los outliers del los conjuntos mas densos, hay muchos datos *normales* situados en zonas más alejadas, es por eso que nuestro autoencoder genera un gran error en la reconsruccón de  muchos inliers."
      ],
      "metadata": {
        "id": "mQ5D5s2rSjWT"
      }
    },
    {
      "cell_type": "code",
      "source": [
        ""
      ],
      "metadata": {
        "id": "dD6NDG4yS-4S"
      },
      "execution_count": null,
      "outputs": []
    }
  ]
}