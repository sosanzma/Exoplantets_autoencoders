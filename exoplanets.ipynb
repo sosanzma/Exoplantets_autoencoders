{
  "nbformat": 4,
  "nbformat_minor": 0,
  "metadata": {
    "colab": {
      "name": "exoplanetas_hands_on_5.ipynb",
      "provenance": [],
      "collapsed_sections": [],
      "authorship_tag": "ABX9TyN/vwsSEKDURK5triDZ1gND",
      "include_colab_link": true
    },
    "kernelspec": {
      "name": "python3",
      "display_name": "Python 3"
    },
    "language_info": {
      "name": "python"
    },
    "accelerator": "GPU"
  },
  "cells": [
    {
      "cell_type": "markdown",
      "metadata": {
        "id": "view-in-github",
        "colab_type": "text"
      },
      "source": [
        "<a href=\"https://colab.research.google.com/github/sosanzma/Exoplantets_autoencoders/blob/main/exoplanets.ipynb\" target=\"_parent\"><img src=\"https://colab.research.google.com/assets/colab-badge.svg\" alt=\"Open In Colab\"/></a>"
      ]
    },
    {
      "cell_type": "markdown",
      "source": [
        " # TRABAJO DETECCIÓN ANOMALIAS. \n",
        " ### DEEP LEARNING\n",
        " #####   MANEL SOLER SANZ"
      ],
      "metadata": {
        "id": "Jny6EgC3VOJl"
      }
    },
    {
      "cell_type": "code",
      "execution_count": null,
      "metadata": {
        "id": "QrrBWeZPSwFP"
      },
      "outputs": [],
      "source": [
        "import numpy as np\n",
        "import matplotlib.pyplot as plt\n",
        "import math\n",
        "from sklearn.decomposition import PCA\n",
        "%matplotlib inline\n",
        "from sklearn import datasets\n",
        "import pandas as pd\n",
        "from pandas.api.types import is_string_dtype\n",
        "from pandas.api.types import is_numeric_dtype\n",
        "from sklearn.preprocessing import StandardScaler\n",
        "from sklearn.model_selection import train_test_split\n",
        "from sklearn.preprocessing import MinMaxScaler\n",
        "import tensorflow as tf\n",
        "from sklearn.metrics import classification_report\n",
        "from sklearn.metrics import confusion_matrix\n",
        "\n",
        "from keras.layers import Input, Dense , Conv2D, MaxPooling2D, UpSampling2D,Dropout\n",
        "from keras.models import Model\n",
        "#SciPy: scientific tools\n",
        "import scipy.io.matlab as matlab\n",
        "import librosa, librosa.display\n",
        "\n"
      ]
    },
    {
      "cell_type": "code",
      "source": [
        ""
      ],
      "metadata": {
        "id": "MlezmgrASw6z"
      },
      "execution_count": null,
      "outputs": []
    },
    {
      "cell_type": "markdown",
      "source": [
        "# Data set : \n",
        "\n",
        "This repository contains the PHL-EC dataset used in the classification problem for exoplanets. The data set is used in the manuscript \"Habitability Classification of Exoplanets: A Machine Learning Insight\""
      ],
      "metadata": {
        "id": "gAsSObOQVTN2"
      }
    },
    {
      "cell_type": "code",
      "source": [
        "url = \"https://raw.githubusercontent.com/mathurarchana77/Habitability-PHL-EC-Dataset/main/PHL-EC.csv\"\n",
        "data = pd.read_csv(url) \n",
        "data.head()"
      ],
      "metadata": {
        "colab": {
          "base_uri": "https://localhost:8080/",
          "height": 439
        },
        "id": "TZPScthQTmZi",
        "outputId": "cd71443f-bff7-43af-f338-2e4b26248b3a"
      },
      "execution_count": null,
      "outputs": [
        {
          "output_type": "execute_result",
          "data": {
            "text/plain": [
              "            P. Name P. Name Kepler  P. Name KOI P. Zone Class P. Mass Class  \\\n",
              "0       1RXS 1609 b            NaN          NaN          Cold        Jovian   \n",
              "1    1SWASP J1407 b            NaN          NaN          Cold        Jovian   \n",
              "2  2M 0103-55(AB) b            NaN          NaN          Cold        Jovian   \n",
              "3      2M 0122-24 b            NaN          NaN          Cold        Jovian   \n",
              "4      2M 0219-39 b            NaN          NaN          Cold        Jovian   \n",
              "\n",
              "  P. Composition Class P. Atmosphere Class P. Habitable Class  \\\n",
              "0                  gas       hydrogen-rich      non-habitable   \n",
              "1                  gas       hydrogen-rich      non-habitable   \n",
              "2                  gas       hydrogen-rich      non-habitable   \n",
              "3                  gas       hydrogen-rich      non-habitable   \n",
              "4                  gas       hydrogen-rich      non-habitable   \n",
              "\n",
              "   P. Min Mass (EU)  P. Mass (EU)  ...  P. Int ESI  P. Surf ESI  P. ESI  \\\n",
              "0               NaN       4451.16  ...           0            0    0.05   \n",
              "1           6358.80       6358.80  ...           0            0    0.07   \n",
              "2           4133.22       4133.22  ...           0            0    0.06   \n",
              "3               NaN       6358.80  ...           0            0    0.08   \n",
              "4               NaN       4419.37  ...           0            0    0.06   \n",
              "\n",
              "   S. HabCat  P. Habitable P. Hab Moon P. Confirmed  P. Disc. Method  \\\n",
              "0          0             0           0            1          Imaging   \n",
              "1          0             0           0            1  Primary Transit   \n",
              "2          0             0           0            1          Imaging   \n",
              "3          0             0           0            1          Imaging   \n",
              "4          0             0           0            1          Imaging   \n",
              "\n",
              "   P. Disc. Year  Unnamed: 68  \n",
              "0           2008          NaN  \n",
              "1           2012          NaN  \n",
              "2           2013          NaN  \n",
              "3           2013          NaN  \n",
              "4           2015          NaN  \n",
              "\n",
              "[5 rows x 69 columns]"
            ],
            "text/html": [
              "\n",
              "  <div id=\"df-293184b4-1097-4f46-9df7-e11028412f26\">\n",
              "    <div class=\"colab-df-container\">\n",
              "      <div>\n",
              "<style scoped>\n",
              "    .dataframe tbody tr th:only-of-type {\n",
              "        vertical-align: middle;\n",
              "    }\n",
              "\n",
              "    .dataframe tbody tr th {\n",
              "        vertical-align: top;\n",
              "    }\n",
              "\n",
              "    .dataframe thead th {\n",
              "        text-align: right;\n",
              "    }\n",
              "</style>\n",
              "<table border=\"1\" class=\"dataframe\">\n",
              "  <thead>\n",
              "    <tr style=\"text-align: right;\">\n",
              "      <th></th>\n",
              "      <th>P. Name</th>\n",
              "      <th>P. Name Kepler</th>\n",
              "      <th>P. Name KOI</th>\n",
              "      <th>P. Zone Class</th>\n",
              "      <th>P. Mass Class</th>\n",
              "      <th>P. Composition Class</th>\n",
              "      <th>P. Atmosphere Class</th>\n",
              "      <th>P. Habitable Class</th>\n",
              "      <th>P. Min Mass (EU)</th>\n",
              "      <th>P. Mass (EU)</th>\n",
              "      <th>...</th>\n",
              "      <th>P. Int ESI</th>\n",
              "      <th>P. Surf ESI</th>\n",
              "      <th>P. ESI</th>\n",
              "      <th>S. HabCat</th>\n",
              "      <th>P. Habitable</th>\n",
              "      <th>P. Hab Moon</th>\n",
              "      <th>P. Confirmed</th>\n",
              "      <th>P. Disc. Method</th>\n",
              "      <th>P. Disc. Year</th>\n",
              "      <th>Unnamed: 68</th>\n",
              "    </tr>\n",
              "  </thead>\n",
              "  <tbody>\n",
              "    <tr>\n",
              "      <th>0</th>\n",
              "      <td>1RXS 1609 b</td>\n",
              "      <td>NaN</td>\n",
              "      <td>NaN</td>\n",
              "      <td>Cold</td>\n",
              "      <td>Jovian</td>\n",
              "      <td>gas</td>\n",
              "      <td>hydrogen-rich</td>\n",
              "      <td>non-habitable</td>\n",
              "      <td>NaN</td>\n",
              "      <td>4451.16</td>\n",
              "      <td>...</td>\n",
              "      <td>0</td>\n",
              "      <td>0</td>\n",
              "      <td>0.05</td>\n",
              "      <td>0</td>\n",
              "      <td>0</td>\n",
              "      <td>0</td>\n",
              "      <td>1</td>\n",
              "      <td>Imaging</td>\n",
              "      <td>2008</td>\n",
              "      <td>NaN</td>\n",
              "    </tr>\n",
              "    <tr>\n",
              "      <th>1</th>\n",
              "      <td>1SWASP J1407 b</td>\n",
              "      <td>NaN</td>\n",
              "      <td>NaN</td>\n",
              "      <td>Cold</td>\n",
              "      <td>Jovian</td>\n",
              "      <td>gas</td>\n",
              "      <td>hydrogen-rich</td>\n",
              "      <td>non-habitable</td>\n",
              "      <td>6358.80</td>\n",
              "      <td>6358.80</td>\n",
              "      <td>...</td>\n",
              "      <td>0</td>\n",
              "      <td>0</td>\n",
              "      <td>0.07</td>\n",
              "      <td>0</td>\n",
              "      <td>0</td>\n",
              "      <td>0</td>\n",
              "      <td>1</td>\n",
              "      <td>Primary Transit</td>\n",
              "      <td>2012</td>\n",
              "      <td>NaN</td>\n",
              "    </tr>\n",
              "    <tr>\n",
              "      <th>2</th>\n",
              "      <td>2M 0103-55(AB) b</td>\n",
              "      <td>NaN</td>\n",
              "      <td>NaN</td>\n",
              "      <td>Cold</td>\n",
              "      <td>Jovian</td>\n",
              "      <td>gas</td>\n",
              "      <td>hydrogen-rich</td>\n",
              "      <td>non-habitable</td>\n",
              "      <td>4133.22</td>\n",
              "      <td>4133.22</td>\n",
              "      <td>...</td>\n",
              "      <td>0</td>\n",
              "      <td>0</td>\n",
              "      <td>0.06</td>\n",
              "      <td>0</td>\n",
              "      <td>0</td>\n",
              "      <td>0</td>\n",
              "      <td>1</td>\n",
              "      <td>Imaging</td>\n",
              "      <td>2013</td>\n",
              "      <td>NaN</td>\n",
              "    </tr>\n",
              "    <tr>\n",
              "      <th>3</th>\n",
              "      <td>2M 0122-24 b</td>\n",
              "      <td>NaN</td>\n",
              "      <td>NaN</td>\n",
              "      <td>Cold</td>\n",
              "      <td>Jovian</td>\n",
              "      <td>gas</td>\n",
              "      <td>hydrogen-rich</td>\n",
              "      <td>non-habitable</td>\n",
              "      <td>NaN</td>\n",
              "      <td>6358.80</td>\n",
              "      <td>...</td>\n",
              "      <td>0</td>\n",
              "      <td>0</td>\n",
              "      <td>0.08</td>\n",
              "      <td>0</td>\n",
              "      <td>0</td>\n",
              "      <td>0</td>\n",
              "      <td>1</td>\n",
              "      <td>Imaging</td>\n",
              "      <td>2013</td>\n",
              "      <td>NaN</td>\n",
              "    </tr>\n",
              "    <tr>\n",
              "      <th>4</th>\n",
              "      <td>2M 0219-39 b</td>\n",
              "      <td>NaN</td>\n",
              "      <td>NaN</td>\n",
              "      <td>Cold</td>\n",
              "      <td>Jovian</td>\n",
              "      <td>gas</td>\n",
              "      <td>hydrogen-rich</td>\n",
              "      <td>non-habitable</td>\n",
              "      <td>NaN</td>\n",
              "      <td>4419.37</td>\n",
              "      <td>...</td>\n",
              "      <td>0</td>\n",
              "      <td>0</td>\n",
              "      <td>0.06</td>\n",
              "      <td>0</td>\n",
              "      <td>0</td>\n",
              "      <td>0</td>\n",
              "      <td>1</td>\n",
              "      <td>Imaging</td>\n",
              "      <td>2015</td>\n",
              "      <td>NaN</td>\n",
              "    </tr>\n",
              "  </tbody>\n",
              "</table>\n",
              "<p>5 rows × 69 columns</p>\n",
              "</div>\n",
              "      <button class=\"colab-df-convert\" onclick=\"convertToInteractive('df-293184b4-1097-4f46-9df7-e11028412f26')\"\n",
              "              title=\"Convert this dataframe to an interactive table.\"\n",
              "              style=\"display:none;\">\n",
              "        \n",
              "  <svg xmlns=\"http://www.w3.org/2000/svg\" height=\"24px\"viewBox=\"0 0 24 24\"\n",
              "       width=\"24px\">\n",
              "    <path d=\"M0 0h24v24H0V0z\" fill=\"none\"/>\n",
              "    <path d=\"M18.56 5.44l.94 2.06.94-2.06 2.06-.94-2.06-.94-.94-2.06-.94 2.06-2.06.94zm-11 1L8.5 8.5l.94-2.06 2.06-.94-2.06-.94L8.5 2.5l-.94 2.06-2.06.94zm10 10l.94 2.06.94-2.06 2.06-.94-2.06-.94-.94-2.06-.94 2.06-2.06.94z\"/><path d=\"M17.41 7.96l-1.37-1.37c-.4-.4-.92-.59-1.43-.59-.52 0-1.04.2-1.43.59L10.3 9.45l-7.72 7.72c-.78.78-.78 2.05 0 2.83L4 21.41c.39.39.9.59 1.41.59.51 0 1.02-.2 1.41-.59l7.78-7.78 2.81-2.81c.8-.78.8-2.07 0-2.86zM5.41 20L4 18.59l7.72-7.72 1.47 1.35L5.41 20z\"/>\n",
              "  </svg>\n",
              "      </button>\n",
              "      \n",
              "  <style>\n",
              "    .colab-df-container {\n",
              "      display:flex;\n",
              "      flex-wrap:wrap;\n",
              "      gap: 12px;\n",
              "    }\n",
              "\n",
              "    .colab-df-convert {\n",
              "      background-color: #E8F0FE;\n",
              "      border: none;\n",
              "      border-radius: 50%;\n",
              "      cursor: pointer;\n",
              "      display: none;\n",
              "      fill: #1967D2;\n",
              "      height: 32px;\n",
              "      padding: 0 0 0 0;\n",
              "      width: 32px;\n",
              "    }\n",
              "\n",
              "    .colab-df-convert:hover {\n",
              "      background-color: #E2EBFA;\n",
              "      box-shadow: 0px 1px 2px rgba(60, 64, 67, 0.3), 0px 1px 3px 1px rgba(60, 64, 67, 0.15);\n",
              "      fill: #174EA6;\n",
              "    }\n",
              "\n",
              "    [theme=dark] .colab-df-convert {\n",
              "      background-color: #3B4455;\n",
              "      fill: #D2E3FC;\n",
              "    }\n",
              "\n",
              "    [theme=dark] .colab-df-convert:hover {\n",
              "      background-color: #434B5C;\n",
              "      box-shadow: 0px 1px 3px 1px rgba(0, 0, 0, 0.15);\n",
              "      filter: drop-shadow(0px 1px 2px rgba(0, 0, 0, 0.3));\n",
              "      fill: #FFFFFF;\n",
              "    }\n",
              "  </style>\n",
              "\n",
              "      <script>\n",
              "        const buttonEl =\n",
              "          document.querySelector('#df-293184b4-1097-4f46-9df7-e11028412f26 button.colab-df-convert');\n",
              "        buttonEl.style.display =\n",
              "          google.colab.kernel.accessAllowed ? 'block' : 'none';\n",
              "\n",
              "        async function convertToInteractive(key) {\n",
              "          const element = document.querySelector('#df-293184b4-1097-4f46-9df7-e11028412f26');\n",
              "          const dataTable =\n",
              "            await google.colab.kernel.invokeFunction('convertToInteractive',\n",
              "                                                     [key], {});\n",
              "          if (!dataTable) return;\n",
              "\n",
              "          const docLinkHtml = 'Like what you see? Visit the ' +\n",
              "            '<a target=\"_blank\" href=https://colab.research.google.com/notebooks/data_table.ipynb>data table notebook</a>'\n",
              "            + ' to learn more about interactive tables.';\n",
              "          element.innerHTML = '';\n",
              "          dataTable['output_type'] = 'display_data';\n",
              "          await google.colab.output.renderOutput(dataTable, element);\n",
              "          const docLink = document.createElement('div');\n",
              "          docLink.innerHTML = docLinkHtml;\n",
              "          element.appendChild(docLink);\n",
              "        }\n",
              "      </script>\n",
              "    </div>\n",
              "  </div>\n",
              "  "
            ]
          },
          "metadata": {},
          "execution_count": 2
        }
      ]
    },
    {
      "cell_type": "code",
      "source": [
        "data.shape\n"
      ],
      "metadata": {
        "id": "yZao8TqZTxAC",
        "colab": {
          "base_uri": "https://localhost:8080/"
        },
        "outputId": "a355f0fb-1178-4364-87fa-fd1c8f92968f"
      },
      "execution_count": null,
      "outputs": [
        {
          "output_type": "execute_result",
          "data": {
            "text/plain": [
              "(3875, 69)"
            ]
          },
          "metadata": {},
          "execution_count": 3
        }
      ]
    },
    {
      "cell_type": "markdown",
      "source": [
        "## Pre-procesado de los datos\n",
        "\n",
        "No podemos utilizar el data set en nuestros autoendocers sin antes preprocesar los datos y adecuarlos para nuestro objetivo: *Detectar planetas habitables como anomalias.*"
      ],
      "metadata": {
        "id": "Yadqpb6uHn3b"
      }
    },
    {
      "cell_type": "markdown",
      "source": [
        "Primeramente vamos a analizar los datos no númericos:"
      ],
      "metadata": {
        "id": "p9AjmBGZB-O1"
      }
    },
    {
      "cell_type": "code",
      "source": [
        "for y in data.columns:\n",
        "    if (is_string_dtype(data[y])):\n",
        "        #num_data.drop(y, axis=1, inplace=True)\n",
        "        print(y)\n",
        "    #elif (is_numeric_dtype(num_data[y])):\n",
        "        #print(y,\"numeric\")\n"
      ],
      "metadata": {
        "colab": {
          "base_uri": "https://localhost:8080/"
        },
        "id": "h0J5YTbGA2pG",
        "outputId": "7305e096-eff6-4669-86f0-29ea5a4ba3e2"
      },
      "execution_count": null,
      "outputs": [
        {
          "output_type": "stream",
          "name": "stdout",
          "text": [
            "P. Name\n",
            "P. Name Kepler\n",
            "P. Zone Class\n",
            "P. Mass Class\n",
            "P. Composition Class\n",
            "P. Atmosphere Class\n",
            "P. Habitable Class\n",
            "P. SFlux Min (EU)\n",
            "P. SFlux Mean (EU)\n",
            "P. SFlux Max (EU)\n",
            "S. Name\n",
            "S. Name HD\n",
            "S. Name HIP\n",
            "S. Constellation\n",
            "S. Type\n",
            "P. Disc. Method\n",
            "P. Disc. Year\n"
          ]
        }
      ]
    },
    {
      "cell_type": "code",
      "source": [
        "data[\"P. Zone Class\"]"
      ],
      "metadata": {
        "colab": {
          "base_uri": "https://localhost:8080/"
        },
        "id": "Jx004wXx3yxR",
        "outputId": "263bbfaa-a8a6-4bd3-9159-64ad5be77926"
      },
      "execution_count": null,
      "outputs": [
        {
          "output_type": "execute_result",
          "data": {
            "text/plain": [
              "0       Cold\n",
              "1       Cold\n",
              "2       Cold\n",
              "3       Cold\n",
              "4       Cold\n",
              "        ... \n",
              "3870     Hot\n",
              "3871     Hot\n",
              "3872     Hot\n",
              "3873     Hot\n",
              "3874     Hot\n",
              "Name: P. Zone Class, Length: 3875, dtype: object"
            ]
          },
          "metadata": {},
          "execution_count": 5
        }
      ]
    },
    {
      "cell_type": "markdown",
      "source": [
        "Las variables de flujo deberian ser númericas : "
      ],
      "metadata": {
        "id": "VaPmrMbUVIxd"
      }
    },
    {
      "cell_type": "code",
      "source": [
        "data[\"P. SFlux Min (EU)\"] = pd.to_numeric(data[\"P. SFlux Min (EU)\"],errors='coerce')\n",
        "data[\"P. SFlux Mean (EU)\"] = pd.to_numeric(data[\"P. SFlux Mean (EU)\"],errors='coerce')\n",
        "data[\"P. SFlux Max (EU)\"] = pd.to_numeric(data[\"P. SFlux Max (EU)\"],errors='coerce')"
      ],
      "metadata": {
        "id": "00hCJeM5B4j2"
      },
      "execution_count": null,
      "outputs": []
    },
    {
      "cell_type": "markdown",
      "source": [
        "Vamos a codificar algunad variables que son categóricas como númericas, porque creemos que es informcación útil para abordar el problema. Para ello utilizaremos la funcion se sklearn : `OrdinalEncoder`"
      ],
      "metadata": {
        "id": "pGwEEYKZIOY3"
      }
    },
    {
      "cell_type": "code",
      "source": [
        "from sklearn.preprocessing import OrdinalEncoder\n",
        "\n",
        "ord_enc = OrdinalEncoder()\n",
        "data[\"P. Atmosphere Class_code\"] = ord_enc.fit_transform(data[[\"P. Atmosphere Class\"]])\n",
        "ord_enc = OrdinalEncoder()\n",
        "data[\"P. Mass Class_code\"] = ord_enc.fit_transform(data[[\"P. Mass Class\"]])\n",
        "ord_enc = OrdinalEncoder()\n",
        "data[\"P. Composition Class_code\"] = ord_enc.fit_transform(data[[\"P. Composition Class\"]])\n",
        "\n",
        "ord_enc = OrdinalEncoder()\n",
        "data[\"P. Zone Class_code\"] = ord_enc.fit_transform(data[[\"P. Zone Class\"]])\n",
        "\n"
      ],
      "metadata": {
        "id": "ivc5HUzoV5dX"
      },
      "execution_count": null,
      "outputs": []
    },
    {
      "cell_type": "markdown",
      "source": [
        "Nos quedamos con los númericos\n",
        "\n",
        "---\n",
        "Una vez hemos codificado los categóricos elegidos  como númericos, vamos a eliminar todos los categóricos, ya que estos no vamos a poder utilizarlos en nuestro autoencoder\n",
        "\n",
        "\n",
        "---\n",
        "\n",
        "\n",
        "\n"
      ],
      "metadata": {
        "id": "6JY2GtEkV59e"
      }
    },
    {
      "cell_type": "code",
      "source": [
        "num_data = data.copy()\n",
        "\n",
        "for y in num_data.columns:\n",
        "    if (is_string_dtype(num_data[y])):\n",
        "        num_data.drop(y, axis=1, inplace=True)\n",
        "\n",
        "    elif (is_numeric_dtype(num_data[y])):\n",
        "        print(y,\"numeric\")"
      ],
      "metadata": {
        "id": "FdT2QUmjECEi",
        "colab": {
          "base_uri": "https://localhost:8080/"
        },
        "outputId": "a8e63077-c0fe-4552-c23c-315c976103e2"
      },
      "execution_count": null,
      "outputs": [
        {
          "output_type": "stream",
          "name": "stdout",
          "text": [
            "P. Name KOI numeric\n",
            "P. Min Mass (EU) numeric\n",
            "P. Mass (EU) numeric\n",
            "P. Max Mass (EU) numeric\n",
            "P. Radius (EU) numeric\n",
            "P. Density (EU) numeric\n",
            "P. Gravity (EU) numeric\n",
            "P. Esc Vel (EU) numeric\n",
            "P. SFlux Min (EU) numeric\n",
            "P. SFlux Mean (EU) numeric\n",
            "P. SFlux Max (EU) numeric\n",
            "P. Teq Min (K) numeric\n",
            "P. Teq Mean (K) numeric\n",
            "P. Teq Max (K) numeric\n",
            "P. Ts Min (K) numeric\n",
            "P. Ts Mean (K) numeric\n",
            "P. Ts Max (K) numeric\n",
            "P. Surf Press (EU) numeric\n",
            "P. Mag numeric\n",
            "P. Appar Size (deg) numeric\n",
            "P. Period (days) numeric\n",
            "P. Sem Major Axis (AU) numeric\n",
            "P. Eccentricity numeric\n",
            "P. Mean Distance (AU) numeric\n",
            "P. Inclination (deg) numeric\n",
            "P. Omega (deg) numeric\n",
            "S. Mass (SU) numeric\n",
            "S. Radius (SU) numeric\n",
            "S. Teff (K) numeric\n",
            "S. Luminosity (SU) numeric\n",
            "S. [Fe/H] numeric\n",
            "S. Age (Gyrs) numeric\n",
            "S. Appar Mag numeric\n",
            "S. Distance (pc) numeric\n",
            "S. RA (hrs) numeric\n",
            "S. DEC (deg) numeric\n",
            "S. Mag from Planet numeric\n",
            "S. Size from Planet (deg) numeric\n",
            "S. No. Planets numeric\n",
            "S. No. Planets HZ numeric\n",
            "S. Hab Zone Min (AU) numeric\n",
            "S. Hab Zone Max (AU) numeric\n",
            "P. HZD numeric\n",
            "P. HZC numeric\n",
            "P. HZA numeric\n",
            "P. HZI numeric\n",
            "P. SPH numeric\n",
            "P. Int ESI numeric\n",
            "P. Surf ESI numeric\n",
            "P. ESI numeric\n",
            "S. HabCat numeric\n",
            "P. Habitable numeric\n",
            "P. Hab Moon numeric\n",
            "P. Confirmed numeric\n",
            "Unnamed: 68 numeric\n",
            "P. Atmosphere Class_code numeric\n",
            "P. Mass Class_code numeric\n",
            "P. Composition Class_code numeric\n",
            "P. Zone Class_code numeric\n"
          ]
        }
      ]
    },
    {
      "cell_type": "code",
      "source": [
        "print(\"Nans en total\", data.isnull().sum().sum()) # Nans en total\n",
        "\n",
        "\n",
        "print( \"Numero e planetas habitables\", np.sum(num_data[\"P. Habitable\"][num_data[\"P. Habitable\"]==1]))\n",
        "print( \"Numero de planetas NO habitables\",(np.sum(num_data[\"P. Habitable\"]==0)))\n",
        "\n",
        "num_data.shape"
      ],
      "metadata": {
        "id": "GoigWv1_TxLb",
        "colab": {
          "base_uri": "https://localhost:8080/"
        },
        "outputId": "3db43cfd-7b98-4461-ec55-78bd027d4293"
      },
      "execution_count": null,
      "outputs": [
        {
          "output_type": "stream",
          "name": "stdout",
          "text": [
            "Nans en total 40930\n",
            "Numero e planetas habitables 55\n",
            "Numero de planetas NO habitables 3820\n"
          ]
        },
        {
          "output_type": "execute_result",
          "data": {
            "text/plain": [
              "(3875, 59)"
            ]
          },
          "metadata": {},
          "execution_count": 9
        }
      ]
    },
    {
      "cell_type": "code",
      "source": [
        "df =num_data.copy()\n",
        "\n",
        "## borramos esta columna porque no nos sirve\n",
        "df.drop(\"Unnamed: 68\", axis=1, inplace=True)"
      ],
      "metadata": {
        "id": "xRYs9qFC-gUX"
      },
      "execution_count": null,
      "outputs": []
    },
    {
      "cell_type": "markdown",
      "source": [
        "Tenemos columnas donde tenemos todo zeros o NaNs:\n",
        "\n",
        "\n",
        "\n",
        "> Estas columnas las eliminaremos\n"
      ],
      "metadata": {
        "id": "XCktkZBZW8bO"
      }
    },
    {
      "cell_type": "code",
      "source": [
        "print(df[~df['P. Max Mass (EU)'].isnull()])\n",
        "\n",
        "print(np.sum(df['P. Int ESI']))\n",
        "\n",
        "print(np.sum(df['P. Surf ESI']))"
      ],
      "metadata": {
        "colab": {
          "base_uri": "https://localhost:8080/"
        },
        "id": "t0qrBOA7XuSk",
        "outputId": "311a2a60-5dd7-4e0f-c0f9-7810c0b6b145"
      },
      "execution_count": null,
      "outputs": [
        {
          "output_type": "stream",
          "name": "stdout",
          "text": [
            "Empty DataFrame\n",
            "Columns: [P. Name KOI, P. Min Mass (EU), P. Mass (EU), P. Max Mass (EU), P. Radius (EU), P. Density (EU), P. Gravity (EU), P. Esc Vel (EU), P. SFlux Min (EU), P. SFlux Mean (EU), P. SFlux Max (EU), P. Teq Min (K), P. Teq Mean (K), P. Teq Max (K), P. Ts Min (K), P. Ts Mean (K), P. Ts Max (K), P. Surf Press (EU), P. Mag, P. Appar Size (deg), P. Period (days), P. Sem Major Axis (AU), P. Eccentricity, P. Mean Distance (AU), P. Inclination (deg), P. Omega (deg), S. Mass (SU), S. Radius (SU), S. Teff (K), S. Luminosity (SU), S. [Fe/H], S. Age (Gyrs), S. Appar Mag, S. Distance (pc), S. RA (hrs), S. DEC (deg), S. Mag from Planet, S. Size from Planet (deg), S. No. Planets, S. No. Planets HZ, S. Hab Zone Min (AU), S. Hab Zone Max (AU), P. HZD, P. HZC, P. HZA, P. HZI, P. SPH, P. Int ESI, P. Surf ESI, P. ESI, S. HabCat, P. Habitable, P. Hab Moon, P. Confirmed, P. Atmosphere Class_code, P. Mass Class_code, P. Composition Class_code, P. Zone Class_code]\n",
            "Index: []\n",
            "\n",
            "[0 rows x 58 columns]\n",
            "0\n",
            "0\n"
          ]
        }
      ]
    },
    {
      "cell_type": "code",
      "source": [
        "# lo borramos\n",
        "\n",
        "\n",
        "for y in df.columns:\n",
        "  if(np.mean(df[y]) == 0 or np.isnan(np.mean(df[y])) == True):\n",
        "    df.drop(y, axis=1, inplace=True)\n",
        "\n",
        "df.shape"
      ],
      "metadata": {
        "id": "sCyxLvUK-gcA",
        "colab": {
          "base_uri": "https://localhost:8080/"
        },
        "outputId": "84a8c5a2-9e6f-45bc-b5cc-f361233e0471"
      },
      "execution_count": null,
      "outputs": [
        {
          "output_type": "execute_result",
          "data": {
            "text/plain": [
              "(3875, 55)"
            ]
          },
          "metadata": {},
          "execution_count": 12
        }
      ]
    },
    {
      "cell_type": "markdown",
      "source": [
        "Borramos todas las columnas que tengans más de 800 NaNs:"
      ],
      "metadata": {
        "id": "IZsjFeqIJ2eI"
      }
    },
    {
      "cell_type": "code",
      "source": [
        "\n",
        "print(\"columnas sin NaN: \",48-np.sum(df.isnull().any()))\n",
        "\n",
        "df.isnull().any()\n",
        "df2 = df.copy()\n",
        "\n",
        "for y in df.columns:\n",
        "  if(np.sum(df[y].isnull()) > 800 ):  # tengamos menos de 800 NaNs\n",
        "    df2.drop(y, axis=1, inplace=True)\n",
        "print(\"Nuestro data set actual tiene las siguientes dimesiones:\", df2.shape)"
      ],
      "metadata": {
        "colab": {
          "base_uri": "https://localhost:8080/"
        },
        "id": "zxWF47eAEvN6",
        "outputId": "ea47b49d-9d14-4555-c9a0-fd0076800d4a"
      },
      "execution_count": null,
      "outputs": [
        {
          "output_type": "stream",
          "name": "stdout",
          "text": [
            "columnas sin NaN:  3\n",
            "Nuestro data set actual tiene las siguientes dimesiones: (3875, 44)\n"
          ]
        }
      ]
    },
    {
      "cell_type": "code",
      "source": [
        ""
      ],
      "metadata": {
        "id": "TvJ2mbtkYagG"
      },
      "execution_count": null,
      "outputs": []
    },
    {
      "cell_type": "markdown",
      "source": [
        "Borramos los datos de plantetas que contengan NaN:"
      ],
      "metadata": {
        "id": "ilBqhaANJqiB"
      }
    },
    {
      "cell_type": "code",
      "source": [
        "df2 = df2.dropna(axis = 0)\n",
        "df2.shape\n",
        "df2.isnull().any()\n"
      ],
      "metadata": {
        "colab": {
          "base_uri": "https://localhost:8080/"
        },
        "id": "C4bkTT3uKQEh",
        "outputId": "664b39ad-3ac1-4b11-cd29-770856bc7518"
      },
      "execution_count": null,
      "outputs": [
        {
          "output_type": "execute_result",
          "data": {
            "text/plain": [
              "P. Mass (EU)                 False\n",
              "P. Radius (EU)               False\n",
              "P. Density (EU)              False\n",
              "P. Gravity (EU)              False\n",
              "P. Esc Vel (EU)              False\n",
              "P. SFlux Min (EU)            False\n",
              "P. SFlux Mean (EU)           False\n",
              "P. SFlux Max (EU)            False\n",
              "P. Teq Min (K)               False\n",
              "P. Teq Mean (K)              False\n",
              "P. Teq Max (K)               False\n",
              "P. Surf Press (EU)           False\n",
              "P. Mag                       False\n",
              "P. Appar Size (deg)          False\n",
              "P. Period (days)             False\n",
              "P. Sem Major Axis (AU)       False\n",
              "P. Eccentricity              False\n",
              "P. Mean Distance (AU)        False\n",
              "P. Omega (deg)               False\n",
              "S. Mass (SU)                 False\n",
              "S. Radius (SU)               False\n",
              "S. Teff (K)                  False\n",
              "S. Luminosity (SU)           False\n",
              "S. RA (hrs)                  False\n",
              "S. DEC (deg)                 False\n",
              "S. Mag from Planet           False\n",
              "S. Size from Planet (deg)    False\n",
              "S. No. Planets               False\n",
              "S. No. Planets HZ            False\n",
              "S. Hab Zone Min (AU)         False\n",
              "S. Hab Zone Max (AU)         False\n",
              "P. HZD                       False\n",
              "P. HZC                       False\n",
              "P. HZA                       False\n",
              "P. HZI                       False\n",
              "P. ESI                       False\n",
              "S. HabCat                    False\n",
              "P. Habitable                 False\n",
              "P. Hab Moon                  False\n",
              "P. Confirmed                 False\n",
              "P. Atmosphere Class_code     False\n",
              "P. Mass Class_code           False\n",
              "P. Composition Class_code    False\n",
              "P. Zone Class_code           False\n",
              "dtype: bool"
            ]
          },
          "metadata": {},
          "execution_count": 14
        }
      ]
    },
    {
      "cell_type": "markdown",
      "source": [
        "Ya tenemos nuestro data set sin valores perdidos. Ahora ya podemos pasar a constuir nuestros detectores de anomalias\n",
        "\n",
        "---\n",
        "\n",
        "\n",
        "\n",
        "---\n",
        "\n",
        "## Autoencoders\n",
        "\n",
        "---\n",
        "\n",
        "Preparamos los datos:"
      ],
      "metadata": {
        "id": "5vodb5jDTlfU"
      }
    },
    {
      "cell_type": "code",
      "source": [
        " # Esta serà nuestra varibles respuesta : \n",
        "\n",
        " df2[\"P. Habitable\"]"
      ],
      "metadata": {
        "colab": {
          "base_uri": "https://localhost:8080/"
        },
        "id": "6ItZqvlSbiFx",
        "outputId": "d6a0fd5f-4993-48e6-ccc5-c4f29da6e9bf"
      },
      "execution_count": null,
      "outputs": [
        {
          "output_type": "execute_result",
          "data": {
            "text/plain": [
              "1       0\n",
              "6       0\n",
              "9       0\n",
              "10      0\n",
              "17      0\n",
              "       ..\n",
              "3870    0\n",
              "3871    0\n",
              "3872    0\n",
              "3873    0\n",
              "3874    0\n",
              "Name: P. Habitable, Length: 3632, dtype: int64"
            ]
          },
          "metadata": {},
          "execution_count": 15
        }
      ]
    },
    {
      "cell_type": "markdown",
      "source": [
        "Dividimos el data set en variables input y las etiquetas . \n",
        "\n",
        "y = 0 : No habitable\n",
        "\n",
        "y = 1 : Habitable"
      ],
      "metadata": {
        "id": "ZScRVmQrKN2H"
      }
    },
    {
      "cell_type": "code",
      "source": [
        "X = df2.loc[:, df2.columns != \"P. Habitable\"]  \n",
        "y = df2[\"P. Habitable\"]  \n",
        "print(np.shape(y),np.shape(X))"
      ],
      "metadata": {
        "colab": {
          "base_uri": "https://localhost:8080/"
        },
        "id": "w2t52w5TUhnT",
        "outputId": "eea2e0b5-7466-4d60-9af3-52bcc789b3cd"
      },
      "execution_count": null,
      "outputs": [
        {
          "output_type": "stream",
          "name": "stdout",
          "text": [
            "(3632,) (3632, 43)\n"
          ]
        }
      ]
    },
    {
      "cell_type": "code",
      "source": [
        "# 1 = outliers, 0 = inliers\n",
        "\n",
        "print(\"Numero de outliers : \",np.sum(y== 1))\n",
        "print(\"Numero de inliers : \",np.sum(y== 0))"
      ],
      "metadata": {
        "colab": {
          "base_uri": "https://localhost:8080/"
        },
        "id": "7_jQWja1UkEb",
        "outputId": "81d29518-e51a-41ed-8182-fe6440c5bdca"
      },
      "execution_count": null,
      "outputs": [
        {
          "output_type": "stream",
          "name": "stdout",
          "text": [
            "Numero de outliers :  55\n",
            "Numero de inliers :  3577\n"
          ]
        }
      ]
    },
    {
      "cell_type": "code",
      "source": [
        "#X_train, X_test, y_train, y_test = train_test_split( \n",
        "   # Xf, y, test_size=0.2, random_state=42)\n",
        "\n",
        "X_train, X_test, y_train, y_test = train_test_split( \n",
        "    X, y, test_size=0.3, random_state=42)\n",
        "\n",
        "\n",
        "\n",
        "#scaler = StandardScaler()\n",
        "scaler = MinMaxScaler()\n",
        "X_train = scaler.fit_transform(X_train)\n",
        "\n",
        "X_test = scaler.transform(X_test)"
      ],
      "metadata": {
        "id": "0wQg1TneaP0_"
      },
      "execution_count": null,
      "outputs": []
    },
    {
      "cell_type": "markdown",
      "source": [
        "Dividimos los sets de entrenamiento y test en Normal Data y Fraud Data:"
      ],
      "metadata": {
        "id": "YLBNpxKMKmxT"
      }
    },
    {
      "cell_type": "code",
      "source": [
        "train_labels = y_train.astype(bool)\n",
        "test_labels = y_test.astype(bool)#creating normal and fraud datasets\n",
        "normal_train_data = X_train[~train_labels]\n",
        "normal_test_data = X_test[~test_labels]\n",
        "fraud_train_data = X_train[train_labels]\n",
        "fraud_test_data = X_test[test_labels]\n",
        "print(\" No. of records in Fraud Train Data=\",len(fraud_train_data))\n",
        "print(\" No. of records in Normal Train data=\",len(normal_train_data))\n",
        "print(\" No. of records in Fraud Test Data=\",len(fraud_test_data))\n",
        "print(\" No. of records in Normal Test data=\",len(normal_test_data))"
      ],
      "metadata": {
        "colab": {
          "base_uri": "https://localhost:8080/"
        },
        "id": "l0jL7Kz8bTwq",
        "outputId": "71809ee2-9e73-4e24-d05b-0ed74c98bd30"
      },
      "execution_count": null,
      "outputs": [
        {
          "output_type": "stream",
          "name": "stdout",
          "text": [
            " No. of records in Fraud Train Data= 34\n",
            " No. of records in Normal Train data= 2508\n",
            " No. of records in Fraud Test Data= 21\n",
            " No. of records in Normal Test data= 1069\n"
          ]
        }
      ]
    },
    {
      "cell_type": "code",
      "source": [
        "# No tenemos valores negativos € (0,1) !\n",
        "\n",
        "print(np.min(normal_train_data),np.max(normal_train_data))\n",
        "\n",
        "#normal_train_data[np.isnan(normal_train_data)]"
      ],
      "metadata": {
        "colab": {
          "base_uri": "https://localhost:8080/"
        },
        "id": "2zuzEBHjfhbB",
        "outputId": "cd2e414b-2266-4322-a974-917eb04baaa8"
      },
      "execution_count": null,
      "outputs": [
        {
          "output_type": "stream",
          "name": "stdout",
          "text": [
            "0.0 1.0000000000000002\n"
          ]
        }
      ]
    },
    {
      "cell_type": "markdown",
      "source": [
        "Ahora que ya tenemos los datos preparados, solo queda construir las diferente arquitecturas que vamos a utilizar para detectar los datos anómalos . \n",
        "\n",
        "Vamos a utilizar :\n",
        "\n",
        "*   AUTO_DEP_AD \n",
        "*   PCA + AUTOAD\n",
        "*   AUTODR + AUTOAD\n",
        "\n",
        "\n",
        "\n",
        "\n",
        "\n"
      ],
      "metadata": {
        "id": "zC8EK-_YKvaq"
      }
    },
    {
      "cell_type": "markdown",
      "source": [
        "# AUTO_DEP_AD\n",
        "\n",
        "### Autoencoder profundo + detecetor de anomalias. \n",
        "\n",
        "Construimos un autoencoder que tomará todos los datos y lo entrenaremos con los datos no anómalos. De este modo, esperamos que cuando le entre un dato anómalo, el error de reconstrucción va a ser mayor a los normales, de este modo vamos a poder establecer un threshold para el error de reconstrucción. \n",
        "\n",
        "\n",
        "---\n",
        "## Elección del threshold: \n",
        "\n",
        "En los tres métodos que vamos a usar el threshold es el mismo . Hemos elegido la media de el error de reconstrucción de los *datos anomalos* del conjunto test y a este error le hemos restado su desviación estandar. El porqué de la resta y no la suma es por heurística. Es lo que mejor se ha ajustado. \n",
        "\n",
        "Es verdad que en un problema real no tenemos el valor del conjunto test, porque no conozemos. En este caso se hubiera hecho con el de entrenamiento.\n",
        "\n",
        "\n",
        "\n",
        "---\n",
        "\n",
        "\n",
        "\n",
        "### Elección de la estructura del autoencoder :\n",
        "\n",
        "Como partiamos de una data set de 43 dimensiones, la primera capa queríamos que tuviera un mayoe número de capas, pero sin excederse. Por eso hemos elegido 64, a partir de ahí hemos ido disminuyendo a la dimensión a la mitad.  Finalmente hemos elegido una dimensión de codifciación de 10 porque en las diferentes pruebas que hemos hecho, es la que mejor resultado nos ha dado. La última capa pensamos en  función de activación `sigmoid` ya que buscamos replicar los datos que previamente han sido pasados por el `MinMaScaler` y por tanto estan entre (0,1). En cambió, probamos con `tanh` y los resultados mejoraron, por lo que dejamos está última .\n",
        "\n",
        "\n"
      ],
      "metadata": {
        "id": "EZ2pIqiSd9Ic"
      }
    },
    {
      "cell_type": "code",
      "source": [
        "#Aquitectura:\n",
        "\n",
        "dimension_entrada = 43\n",
        "dimension_codificacion = 10\n",
        "\n",
        "\n",
        "\n",
        "entrada = Input(shape=(dimension_entrada,))\n",
        "encoded = Dense(64, activation='relu')(entrada)\n",
        "\n",
        "encoded = Dense(32, activation='relu')(encoded)\n",
        "encoded = Dropout(0.1)(encoded)\n",
        "encoded = Dense(16, activation='relu')(encoded)\n",
        "\n",
        "encoded = Dense(dimension_codificacion, activation='relu')(encoded)\n",
        "decoded = Dense(16, activation='relu')(encoded)\n",
        "\n",
        "decoded = Dense(32, activation='relu')(decoded)\n",
        "decoded= Dropout(0.1)(decoded)\n",
        "decoded = Dense(64, activation='relu')(decoded)\n",
        "\n",
        "decodificada = Dense(dimension_entrada, activation='tanh')(decoded)\n",
        "\n",
        "autoencoder = Model(entrada,decodificada) \n",
        "autoencoder.compile(optimizer=  'adam' ,loss = 'mse')\n",
        "\n",
        "\n",
        "history2 = autoencoder.fit(normal_train_data, normal_train_data,\n",
        "                    epochs=50,\n",
        "                    batch_size=32,\n",
        "                    shuffle=True,\n",
        "                    validation_data=(normal_test_data,normal_test_data))"
      ],
      "metadata": {
        "colab": {
          "base_uri": "https://localhost:8080/"
        },
        "id": "vGqPmUTqYGnl",
        "outputId": "2b2d49cf-d05c-47a0-f9e6-6818fabe384e"
      },
      "execution_count": null,
      "outputs": [
        {
          "output_type": "stream",
          "name": "stdout",
          "text": [
            "Epoch 1/50\n",
            "79/79 [==============================] - 7s 16ms/step - loss: 0.0437 - val_loss: 0.0192\n",
            "Epoch 2/50\n",
            "79/79 [==============================] - 1s 10ms/step - loss: 0.0164 - val_loss: 0.0124\n",
            "Epoch 3/50\n",
            "79/79 [==============================] - 1s 12ms/step - loss: 0.0107 - val_loss: 0.0095\n",
            "Epoch 4/50\n",
            "79/79 [==============================] - 1s 12ms/step - loss: 0.0091 - val_loss: 0.0084\n",
            "Epoch 5/50\n",
            "79/79 [==============================] - 1s 11ms/step - loss: 0.0081 - val_loss: 0.0076\n",
            "Epoch 6/50\n",
            "79/79 [==============================] - 1s 12ms/step - loss: 0.0075 - val_loss: 0.0069\n",
            "Epoch 7/50\n",
            "79/79 [==============================] - 1s 10ms/step - loss: 0.0070 - val_loss: 0.0065\n",
            "Epoch 8/50\n",
            "79/79 [==============================] - 1s 10ms/step - loss: 0.0066 - val_loss: 0.0063\n",
            "Epoch 9/50\n",
            "79/79 [==============================] - 1s 11ms/step - loss: 0.0064 - val_loss: 0.0059\n",
            "Epoch 10/50\n",
            "79/79 [==============================] - 1s 10ms/step - loss: 0.0061 - val_loss: 0.0057\n",
            "Epoch 11/50\n",
            "79/79 [==============================] - 1s 9ms/step - loss: 0.0059 - val_loss: 0.0056\n",
            "Epoch 12/50\n",
            "79/79 [==============================] - 1s 10ms/step - loss: 0.0056 - val_loss: 0.0053\n",
            "Epoch 13/50\n",
            "79/79 [==============================] - 1s 9ms/step - loss: 0.0055 - val_loss: 0.0052\n",
            "Epoch 14/50\n",
            "79/79 [==============================] - 1s 13ms/step - loss: 0.0053 - val_loss: 0.0051\n",
            "Epoch 15/50\n",
            "79/79 [==============================] - 1s 10ms/step - loss: 0.0052 - val_loss: 0.0050\n",
            "Epoch 16/50\n",
            "79/79 [==============================] - 1s 9ms/step - loss: 0.0051 - val_loss: 0.0050\n",
            "Epoch 17/50\n",
            "79/79 [==============================] - 1s 10ms/step - loss: 0.0049 - val_loss: 0.0047\n",
            "Epoch 18/50\n",
            "79/79 [==============================] - 1s 10ms/step - loss: 0.0048 - val_loss: 0.0046\n",
            "Epoch 19/50\n",
            "79/79 [==============================] - 1s 12ms/step - loss: 0.0047 - val_loss: 0.0045\n",
            "Epoch 20/50\n",
            "79/79 [==============================] - 1s 13ms/step - loss: 0.0045 - val_loss: 0.0044\n",
            "Epoch 21/50\n",
            "79/79 [==============================] - 1s 10ms/step - loss: 0.0044 - val_loss: 0.0041\n",
            "Epoch 22/50\n",
            "79/79 [==============================] - 1s 10ms/step - loss: 0.0043 - val_loss: 0.0040\n",
            "Epoch 23/50\n",
            "79/79 [==============================] - 1s 10ms/step - loss: 0.0042 - val_loss: 0.0039\n",
            "Epoch 24/50\n",
            "79/79 [==============================] - 1s 11ms/step - loss: 0.0040 - val_loss: 0.0038\n",
            "Epoch 25/50\n",
            "79/79 [==============================] - 1s 11ms/step - loss: 0.0040 - val_loss: 0.0037\n",
            "Epoch 26/50\n",
            "79/79 [==============================] - 1s 12ms/step - loss: 0.0039 - val_loss: 0.0037\n",
            "Epoch 27/50\n",
            "79/79 [==============================] - 1s 10ms/step - loss: 0.0038 - val_loss: 0.0036\n",
            "Epoch 28/50\n",
            "79/79 [==============================] - 1s 11ms/step - loss: 0.0038 - val_loss: 0.0036\n",
            "Epoch 29/50\n",
            "79/79 [==============================] - 1s 13ms/step - loss: 0.0037 - val_loss: 0.0034\n",
            "Epoch 30/50\n",
            "79/79 [==============================] - 1s 12ms/step - loss: 0.0036 - val_loss: 0.0033\n",
            "Epoch 31/50\n",
            "79/79 [==============================] - 1s 11ms/step - loss: 0.0036 - val_loss: 0.0034\n",
            "Epoch 32/50\n",
            "79/79 [==============================] - 1s 9ms/step - loss: 0.0036 - val_loss: 0.0032\n",
            "Epoch 33/50\n",
            "79/79 [==============================] - 0s 6ms/step - loss: 0.0035 - val_loss: 0.0033\n",
            "Epoch 34/50\n",
            "79/79 [==============================] - 0s 5ms/step - loss: 0.0035 - val_loss: 0.0032\n",
            "Epoch 35/50\n",
            "79/79 [==============================] - 0s 6ms/step - loss: 0.0035 - val_loss: 0.0032\n",
            "Epoch 36/50\n",
            "79/79 [==============================] - 1s 7ms/step - loss: 0.0034 - val_loss: 0.0032\n",
            "Epoch 37/50\n",
            "79/79 [==============================] - 0s 6ms/step - loss: 0.0034 - val_loss: 0.0032\n",
            "Epoch 38/50\n",
            "79/79 [==============================] - 0s 6ms/step - loss: 0.0033 - val_loss: 0.0032\n",
            "Epoch 39/50\n",
            "79/79 [==============================] - 0s 5ms/step - loss: 0.0033 - val_loss: 0.0031\n",
            "Epoch 40/50\n",
            "79/79 [==============================] - 0s 6ms/step - loss: 0.0033 - val_loss: 0.0030\n",
            "Epoch 41/50\n",
            "79/79 [==============================] - 0s 5ms/step - loss: 0.0033 - val_loss: 0.0031\n",
            "Epoch 42/50\n",
            "79/79 [==============================] - 0s 6ms/step - loss: 0.0032 - val_loss: 0.0030\n",
            "Epoch 43/50\n",
            "79/79 [==============================] - 0s 6ms/step - loss: 0.0033 - val_loss: 0.0030\n",
            "Epoch 44/50\n",
            "79/79 [==============================] - 0s 6ms/step - loss: 0.0032 - val_loss: 0.0030\n",
            "Epoch 45/50\n",
            "79/79 [==============================] - 0s 6ms/step - loss: 0.0032 - val_loss: 0.0030\n",
            "Epoch 46/50\n",
            "79/79 [==============================] - 0s 5ms/step - loss: 0.0032 - val_loss: 0.0030\n",
            "Epoch 47/50\n",
            "79/79 [==============================] - 0s 5ms/step - loss: 0.0031 - val_loss: 0.0030\n",
            "Epoch 48/50\n",
            "79/79 [==============================] - 0s 5ms/step - loss: 0.0031 - val_loss: 0.0030\n",
            "Epoch 49/50\n",
            "79/79 [==============================] - 0s 6ms/step - loss: 0.0030 - val_loss: 0.0030\n",
            "Epoch 50/50\n",
            "79/79 [==============================] - 0s 6ms/step - loss: 0.0031 - val_loss: 0.0029\n"
          ]
        }
      ]
    },
    {
      "cell_type": "code",
      "source": [
        "## Le pasamos los datos de test al autoencoder ya entrenado\n",
        "\n",
        "test_x_predictions = autoencoder.predict(X_test)\n",
        "mse = np.mean(np.abs(X_test-test_x_predictions)**2\n",
        "                    , axis = tuple(range(1,X_test.ndim)))\n",
        "\n",
        "# alamacenamos el error de cada uno junto con su etiqueta\n",
        "error_df = pd.DataFrame({'Reconstruction_error': mse,\n",
        "                        'True_class': test_labels})"
      ],
      "metadata": {
        "id": "wae9dl0VcBsX"
      },
      "execution_count": null,
      "outputs": []
    },
    {
      "cell_type": "code",
      "source": [
        "groups = error_df.groupby('True_class')\n",
        "fig, ax = plt.subplots()\n",
        "for name, group in groups:\n",
        "    ax.plot(group.index, group.Reconstruction_error, marker='o', ms=3.5, linestyle='',\n",
        "            label= \"Fraud\" if name == 1 else \"Normal\")\n",
        "#ax.hlines(threshold_fixed, ax.get_xlim()[0], ax.get_xlim()[1], colors=\"r\", zorder=100, label='Threshold')\n",
        "ax.legend()\n",
        "threshold =  np.mean( error_df[error_df[\"True_class\"]==True][\"Reconstruction_error\"])-np.std( error_df[error_df[\"True_class\"]==True][\"Reconstruction_error\"])\n",
        "plt.axhline(y= threshold, color='r', linestyle='-')\n",
        "plt.title(\"Reconstruction error for normal and fraud data AUTO_DEP_AD\")\n",
        "plt.ylabel(\"Reconstruction error\")\n",
        "plt.xlabel(\"Data point index\")\n",
        "plt.show();"
      ],
      "metadata": {
        "colab": {
          "base_uri": "https://localhost:8080/",
          "height": 295
        },
        "id": "D2RwUvSscHa7",
        "outputId": "4bc67a8e-b0f4-4f2a-a9ce-d3ab8f734c6e"
      },
      "execution_count": null,
      "outputs": [
        {
          "output_type": "display_data",
          "data": {
            "text/plain": [
              "<Figure size 432x288 with 1 Axes>"
            ],
            "image/png": "[encoded data removed]"
          },
          "metadata": {
            "needs_background": "light"
          }
        }
      ]
    },
    {
      "cell_type": "code",
      "source": [
        "print(np.mean(error_df[error_df[\"True_class\"]==False]))\n",
        "print(np.mean(error_df[error_df[\"True_class\"]==True]))\n",
        "\n",
        "teoric_fraud = []\n",
        "teoric_ok = []\n",
        "pred_labels = []\n",
        "for i in range(len(error_df)):\n",
        "  if (error_df.iloc[i,0]>= threshold):\n",
        "    teoric_fraud.append(error_df.iloc[i][[\"Reconstruction_error\",\"True_class\"]])\n",
        "    pred_labels.append(1)\n",
        "  else :\n",
        "    teoric_ok.append(error_df.iloc[i][[\"Reconstruction_error\",\"True_class\"]])\n",
        "    pred_labels.append(0)\n",
        "print(\"threshold: \", threshold)"
      ],
      "metadata": {
        "id": "HlGxNyDqd3_3",
        "colab": {
          "base_uri": "https://localhost:8080/"
        },
        "outputId": "b516af8c-ab86-430e-a3d3-b5423513b057"
      },
      "execution_count": null,
      "outputs": [
        {
          "output_type": "stream",
          "name": "stdout",
          "text": [
            "Reconstruction_error    0.00293\n",
            "True_class              0.00000\n",
            "dtype: float64\n",
            "Reconstruction_error    0.014836\n",
            "True_class              1.000000\n",
            "dtype: float64\n",
            "threshold:  0.005636706981138655\n"
          ]
        }
      ]
    },
    {
      "cell_type": "markdown",
      "source": [
        "## Resultado\n",
        "\n",
        "Vamos a describir los haciertos y erroes que hemos cometido:\n",
        "\n",
        "Outliers:"
      ],
      "metadata": {
        "id": "loE_l1fSTlZP"
      }
    },
    {
      "cell_type": "code",
      "source": [
        "print(\"Numero de outliers en el data set original :\",len(error_df[error_df[\"True_class\"]==True]))\n",
        "print(\"Numero de outliers etiquetados como tal :\" , np.sum([i[1]== True for i in teoric_fraud]))\n",
        "\n",
        "print(\"Accuracy: \",np.sum([i[1]== True for i in teoric_fraud])/len(error_df[error_df[\"True_class\"]==True]))"
      ],
      "metadata": {
        "id": "LNQQBR7pz33i",
        "colab": {
          "base_uri": "https://localhost:8080/"
        },
        "outputId": "8b662db3-090e-4754-ab6b-07394414fc05"
      },
      "execution_count": null,
      "outputs": [
        {
          "output_type": "stream",
          "name": "stdout",
          "text": [
            "Numero de outliers en el data set original : 21\n",
            "Numero de outliers etiquetados como tal : 19\n",
            "Accuracy:  0.9047619047619048\n"
          ]
        }
      ]
    },
    {
      "cell_type": "markdown",
      "source": [
        "Inliers:"
      ],
      "metadata": {
        "id": "JQgc05OTW1Ha"
      }
    },
    {
      "cell_type": "code",
      "source": [
        "print(\"Numero de inliers en el data set probado :\", len(error_df[error_df[\"True_class\"]==False])) \n",
        "print(\"Numero de intliers etiquetados como tal :\",np.sum([i[1]== False for i in teoric_ok]))\n",
        "\n",
        "print(\"Accuracy: \", np.sum([i[1]== False for i in teoric_ok])/len(error_df[error_df[\"True_class\"]==False]))"
      ],
      "metadata": {
        "colab": {
          "base_uri": "https://localhost:8080/"
        },
        "id": "ZGWkTABYWr69",
        "outputId": "d420ebe4-ec21-4c88-da39-fe851d375163"
      },
      "execution_count": null,
      "outputs": [
        {
          "output_type": "stream",
          "name": "stdout",
          "text": [
            "Numero de inliers en el data set probado : 1069\n",
            "Numero de intliers etiquetados como tal : 913\n",
            "Accuracy:  0.8540692235734331\n"
          ]
        }
      ]
    },
    {
      "cell_type": "markdown",
      "source": [
        "Errores en el etiquetado"
      ],
      "metadata": {
        "id": "JbBzdQhEW6f5"
      }
    },
    {
      "cell_type": "code",
      "source": [
        "print(\"Error en el etiquetado de inliers  :\", np.sum([i[1]== True for i in teoric_ok])/len(error_df[error_df[\"True_class\"]==True]),\"%\") \n",
        "print(\"Error en el etiquetado de outliers  :\", np.sum([i[1]== False for i in teoric_fraud])/len(error_df[error_df[\"True_class\"]==False]),\"%\") "
      ],
      "metadata": {
        "colab": {
          "base_uri": "https://localhost:8080/"
        },
        "id": "jkkLUuhAWr_T",
        "outputId": "40110410-3710-420e-c6d1-46f8aac93c85"
      },
      "execution_count": null,
      "outputs": [
        {
          "output_type": "stream",
          "name": "stdout",
          "text": [
            "Error en el etiquetado de inliers  : 0.09523809523809523 %\n",
            "Error en el etiquetado de outliers  : 0.14593077642656688 %\n"
          ]
        }
      ]
    },
    {
      "cell_type": "markdown",
      "source": [
        "Otro método de medir el acierto"
      ],
      "metadata": {
        "id": "9l_k4AeGXJ5m"
      }
    },
    {
      "cell_type": "code",
      "source": [
        "\n",
        "print(confusion_matrix(test_labels,pred_labels))\n",
        "print(classification_report(test_labels,pred_labels))\n"
      ],
      "metadata": {
        "colab": {
          "base_uri": "https://localhost:8080/"
        },
        "id": "7Qwcp_785M-t",
        "outputId": "2af5bfd0-e0d8-49c9-a751-c277b20d4b56"
      },
      "execution_count": null,
      "outputs": [
        {
          "output_type": "stream",
          "name": "stdout",
          "text": [
            "[[913 156]\n",
            " [  2  19]]\n",
            "              precision    recall  f1-score   support\n",
            "\n",
            "       False       1.00      0.85      0.92      1069\n",
            "        True       0.11      0.90      0.19        21\n",
            "\n",
            "    accuracy                           0.86      1090\n",
            "   macro avg       0.55      0.88      0.56      1090\n",
            "weighted avg       0.98      0.86      0.91      1090\n",
            "\n"
          ]
        }
      ]
    },
    {
      "cell_type": "markdown",
      "source": [
        "# Combinacion de dos autoencoders :\n",
        "\n",
        "### Reduccion de dimensionalidad (**AutoRD**) + Detección de anomalias (**AutoAD**).\n",
        "\n",
        "**AutoRD**: reducir la dimensionalidad minimizando el error de reconstrucción. Para entrenar, pasaremos todos tipo de datos, tanto anomalos como no anomalos, y lo entrenaremos para que sea capaz de reducirlos. Una vez  tenemos autRD entrenado, pasamos al **AutoAD**.\n",
        "\n",
        "**AutoAD** :  Lo que le pasamos de entrada al autAD son datos reducidos, es decir, pasados previamente por codificador de autRD. Como queremos que funcione para detección de anomalías, solo le pasaremos datos reducidos pero que estuvieran etiquetados como no anómalos. Y entrenar con esos datos para minimizar el error de reconstrucción.  \n",
        "\n",
        "\n",
        "\n"
      ],
      "metadata": {
        "id": "byVMpLnvfOPE"
      }
    },
    {
      "cell_type": "markdown",
      "source": [
        "### AUTORD\n",
        "---\n",
        "\n",
        "### Elección de la estructura del autoencoder :\n",
        "\n",
        "En el caso del AutoRD, utilizamos una función de activación `tanh` porque nos dimos cuenta que ofrecía un error de reconstrucción menor y en este primer autoencoder lo único que nos importa es conseguir reducir la dimensionalidad y que la máxima información siga presenta. También porque es lo que mejor resultado nos ha ofrecido"
      ],
      "metadata": {
        "id": "Zk_TTyApfWx3"
      }
    },
    {
      "cell_type": "code",
      "source": [
        "\n",
        "dimension_entrada = 43\n",
        "dimension_codificacion = 20\n",
        "\n",
        "\n",
        "\n",
        "entrada = Input(shape=(dimension_entrada,))\n",
        "encoded = Dense(64, activation='relu')(entrada)\n",
        "\n",
        "encoded = Dense(32, activation='relu')(encoded)\n",
        "#encoded = Dropout(0.1)(encoded)\n",
        "\n",
        "\n",
        "encoded = Dense(dimension_codificacion, activation='relu')(encoded)\n",
        "\n",
        "\n",
        "decoded = Dense(32, activation='relu')(encoded)\n",
        "#decoded= Dropout(0.1)(decoded)\n",
        "decoded = Dense(64, activation='relu')(decoded)\n",
        "\n",
        "decodificada = Dense(dimension_entrada, activation='tanh')(decoded)\n",
        "\n",
        "autoencoder = Model(entrada,decodificada) \n",
        "autoencoder.compile(optimizer=  'adam' ,loss = 'mse')\n",
        "\n",
        "\n",
        "history2 = autoencoder.fit(X_train, X_train,\n",
        "                    epochs=50,\n",
        "                    batch_size=32,\n",
        "                    shuffle=True,\n",
        "                    validation_data=(X_test,X_test))"
      ],
      "metadata": {
        "colab": {
          "base_uri": "https://localhost:8080/"
        },
        "id": "5Zke54yNfO2d",
        "outputId": "fba3ee98-7dca-4fb4-b64d-8400ba7c7921"
      },
      "execution_count": null,
      "outputs": [
        {
          "output_type": "stream",
          "name": "stdout",
          "text": [
            "Epoch 1/50\n",
            "80/80 [==============================] - 1s 7ms/step - loss: 0.0377 - val_loss: 0.0154\n",
            "Epoch 2/50\n",
            "80/80 [==============================] - 0s 5ms/step - loss: 0.0100 - val_loss: 0.0087\n",
            "Epoch 3/50\n",
            "80/80 [==============================] - 0s 6ms/step - loss: 0.0068 - val_loss: 0.0067\n",
            "Epoch 4/50\n",
            "80/80 [==============================] - 0s 5ms/step - loss: 0.0056 - val_loss: 0.0056\n",
            "Epoch 5/50\n",
            "80/80 [==============================] - 1s 6ms/step - loss: 0.0046 - val_loss: 0.0048\n",
            "Epoch 6/50\n",
            "80/80 [==============================] - 0s 5ms/step - loss: 0.0039 - val_loss: 0.0040\n",
            "Epoch 7/50\n",
            "80/80 [==============================] - 0s 5ms/step - loss: 0.0034 - val_loss: 0.0037\n",
            "Epoch 8/50\n",
            "80/80 [==============================] - 0s 5ms/step - loss: 0.0030 - val_loss: 0.0033\n",
            "Epoch 9/50\n",
            "80/80 [==============================] - 0s 5ms/step - loss: 0.0027 - val_loss: 0.0029\n",
            "Epoch 10/50\n",
            "80/80 [==============================] - 0s 6ms/step - loss: 0.0025 - val_loss: 0.0026\n",
            "Epoch 11/50\n",
            "80/80 [==============================] - 0s 5ms/step - loss: 0.0023 - val_loss: 0.0025\n",
            "Epoch 12/50\n",
            "80/80 [==============================] - 0s 5ms/step - loss: 0.0021 - val_loss: 0.0024\n",
            "Epoch 13/50\n",
            "80/80 [==============================] - 0s 6ms/step - loss: 0.0020 - val_loss: 0.0022\n",
            "Epoch 14/50\n",
            "80/80 [==============================] - 0s 5ms/step - loss: 0.0019 - val_loss: 0.0021\n",
            "Epoch 15/50\n",
            "80/80 [==============================] - 0s 5ms/step - loss: 0.0018 - val_loss: 0.0020\n",
            "Epoch 16/50\n",
            "80/80 [==============================] - 0s 5ms/step - loss: 0.0017 - val_loss: 0.0020\n",
            "Epoch 17/50\n",
            "80/80 [==============================] - 0s 5ms/step - loss: 0.0016 - val_loss: 0.0018\n",
            "Epoch 18/50\n",
            "80/80 [==============================] - 0s 5ms/step - loss: 0.0016 - val_loss: 0.0017\n",
            "Epoch 19/50\n",
            "80/80 [==============================] - 0s 5ms/step - loss: 0.0015 - val_loss: 0.0018\n",
            "Epoch 20/50\n",
            "80/80 [==============================] - 0s 6ms/step - loss: 0.0015 - val_loss: 0.0016\n",
            "Epoch 21/50\n",
            "80/80 [==============================] - 0s 5ms/step - loss: 0.0014 - val_loss: 0.0017\n",
            "Epoch 22/50\n",
            "80/80 [==============================] - 0s 5ms/step - loss: 0.0014 - val_loss: 0.0016\n",
            "Epoch 23/50\n",
            "80/80 [==============================] - 0s 6ms/step - loss: 0.0013 - val_loss: 0.0015\n",
            "Epoch 24/50\n",
            "80/80 [==============================] - 0s 5ms/step - loss: 0.0012 - val_loss: 0.0014\n",
            "Epoch 25/50\n",
            "80/80 [==============================] - 0s 6ms/step - loss: 0.0012 - val_loss: 0.0014\n",
            "Epoch 26/50\n",
            "80/80 [==============================] - 0s 6ms/step - loss: 0.0012 - val_loss: 0.0013\n",
            "Epoch 27/50\n",
            "80/80 [==============================] - 0s 5ms/step - loss: 0.0011 - val_loss: 0.0013\n",
            "Epoch 28/50\n",
            "80/80 [==============================] - 0s 5ms/step - loss: 0.0011 - val_loss: 0.0012\n",
            "Epoch 29/50\n",
            "80/80 [==============================] - 0s 5ms/step - loss: 0.0011 - val_loss: 0.0012\n",
            "Epoch 30/50\n",
            "80/80 [==============================] - 0s 5ms/step - loss: 0.0010 - val_loss: 0.0012\n",
            "Epoch 31/50\n",
            "80/80 [==============================] - 0s 6ms/step - loss: 9.9218e-04 - val_loss: 0.0012\n",
            "Epoch 32/50\n",
            "80/80 [==============================] - 0s 6ms/step - loss: 9.8337e-04 - val_loss: 0.0011\n",
            "Epoch 33/50\n",
            "80/80 [==============================] - 0s 5ms/step - loss: 9.4886e-04 - val_loss: 0.0011\n",
            "Epoch 34/50\n",
            "80/80 [==============================] - 0s 5ms/step - loss: 9.2582e-04 - val_loss: 0.0011\n",
            "Epoch 35/50\n",
            "80/80 [==============================] - 0s 6ms/step - loss: 9.0576e-04 - val_loss: 0.0010\n",
            "Epoch 36/50\n",
            "80/80 [==============================] - 0s 5ms/step - loss: 8.7644e-04 - val_loss: 0.0010\n",
            "Epoch 37/50\n",
            "80/80 [==============================] - 0s 6ms/step - loss: 8.4798e-04 - val_loss: 0.0010\n",
            "Epoch 38/50\n",
            "80/80 [==============================] - 0s 5ms/step - loss: 8.2876e-04 - val_loss: 0.0010\n",
            "Epoch 39/50\n",
            "80/80 [==============================] - 0s 5ms/step - loss: 8.0414e-04 - val_loss: 9.5552e-04\n",
            "Epoch 40/50\n",
            "80/80 [==============================] - 0s 5ms/step - loss: 7.7992e-04 - val_loss: 9.1797e-04\n",
            "Epoch 41/50\n",
            "80/80 [==============================] - 0s 5ms/step - loss: 7.7367e-04 - val_loss: 9.5023e-04\n",
            "Epoch 42/50\n",
            "80/80 [==============================] - 0s 6ms/step - loss: 7.5265e-04 - val_loss: 8.6375e-04\n",
            "Epoch 43/50\n",
            "80/80 [==============================] - 0s 5ms/step - loss: 7.3807e-04 - val_loss: 8.5005e-04\n",
            "Epoch 44/50\n",
            "80/80 [==============================] - 0s 6ms/step - loss: 7.1570e-04 - val_loss: 8.4653e-04\n",
            "Epoch 45/50\n",
            "80/80 [==============================] - 0s 6ms/step - loss: 6.9526e-04 - val_loss: 8.2095e-04\n",
            "Epoch 46/50\n",
            "80/80 [==============================] - 0s 5ms/step - loss: 6.7696e-04 - val_loss: 8.0740e-04\n",
            "Epoch 47/50\n",
            "80/80 [==============================] - 0s 5ms/step - loss: 6.6677e-04 - val_loss: 8.3740e-04\n",
            "Epoch 48/50\n",
            "80/80 [==============================] - 0s 5ms/step - loss: 6.7516e-04 - val_loss: 7.9355e-04\n",
            "Epoch 49/50\n",
            "80/80 [==============================] - 0s 6ms/step - loss: 6.6307e-04 - val_loss: 8.0193e-04\n",
            "Epoch 50/50\n",
            "80/80 [==============================] - 0s 5ms/step - loss: 6.4639e-04 - val_loss: 7.8949e-04\n"
          ]
        }
      ]
    },
    {
      "cell_type": "code",
      "source": [
        "autoencoder.layers[-3]"
      ],
      "metadata": {
        "colab": {
          "base_uri": "https://localhost:8080/"
        },
        "id": "c5SmZYEI71VR",
        "outputId": "db6a3047-a587-4c9c-8a98-933d192e8d7b"
      },
      "execution_count": null,
      "outputs": [
        {
          "output_type": "execute_result",
          "data": {
            "text/plain": [
              "<keras.layers.core.dense.Dense at 0x7f1d0793c610>"
            ]
          },
          "metadata": {},
          "execution_count": 30
        }
      ]
    },
    {
      "cell_type": "code",
      "source": [
        "\n",
        "codificador = Model(entrada, encoded)\n",
        "entrada_codificada = Input(shape=(dimension_codificacion, ))\n",
        "decoder_layer_1 = autoencoder.layers[-3](entrada_codificada)\n",
        "decoder_layer_2 = autoencoder.layers[-2](decoder_layer_1)\n",
        "\n",
        "decoder_output = autoencoder.layers[-1](decoder_layer_2)\n",
        "decodificador = Model(entrada_codificada,decoder_output)"
      ],
      "metadata": {
        "id": "kFGdIsapfY1B"
      },
      "execution_count": null,
      "outputs": []
    },
    {
      "cell_type": "markdown",
      "source": [
        "Le pasaremos a el codificador, todos los datons no-anómalos, una vez codificados, usaremos esto para entrenear a el autoencoder que se encaragara de drtectar anómalias"
      ],
      "metadata": {
        "id": "1Sezc0REfes8"
      }
    },
    {
      "cell_type": "code",
      "source": [
        "inliers_codificados = codificador.predict(normal_train_data)\n",
        "inliers_codificados.shape"
      ],
      "metadata": {
        "colab": {
          "base_uri": "https://localhost:8080/"
        },
        "id": "PUDI_AizfZF-",
        "outputId": "f901116f-21d8-4fdc-fd09-4d527bf85c50"
      },
      "execution_count": null,
      "outputs": [
        {
          "output_type": "execute_result",
          "data": {
            "text/plain": [
              "(2508, 20)"
            ]
          },
          "metadata": {},
          "execution_count": 32
        }
      ]
    },
    {
      "cell_type": "markdown",
      "source": [
        ""
      ],
      "metadata": {
        "id": "SSdD_wdbgJNX"
      }
    },
    {
      "cell_type": "markdown",
      "source": [
        "### AUTOAD\n",
        "\n",
        "### Elección de la estructura del autoencoder :\n",
        "\n",
        "En el caso del AutoRD, utilizamos una función de activación `tanh` porque nos dimos cuenta que ofrecía un error de reconstrucción menor. Decidimos que el espacio letente de la codficiación fuera de 4 dimensiones por no comprimir mucho más la información.\n",
        "\n"
      ],
      "metadata": {
        "id": "PFBKh0HxflV2"
      }
    },
    {
      "cell_type": "code",
      "source": [
        "dimension_entrada = inliers_codificados.shape[1]\n",
        "dimension_codificacion = 4\n",
        "\n",
        "\n",
        "\n",
        "\n",
        "\n",
        "entrada = Input(shape=(dimension_entrada,))\n",
        "\n",
        "\n",
        "\n",
        "#encoded = Dropout(0.1)(encoded)\n",
        "encoded = Dense(32, activation='relu')(entrada)\n",
        "\n",
        "encoded = Dense(8, activation='relu')(encoded)\n",
        "\n",
        "encoded = Dense(dimension_codificacion, activation='relu')(encoded)\n",
        "decoded = Dense(8, activation='relu')(encoded)\n",
        "\n",
        "decoded = Dense(32, activation='relu')(encoded)\n",
        "\n",
        "\n",
        "#decoded= Dropout(0.1)(decoded)\n",
        "\n",
        "decodificada = Dense(dimension_entrada, activation='tanh')(decoded)\n",
        "autoencoder_AD = Model(entrada,decodificada) \n",
        "autoencoder_AD.compile(optimizer=  'adam' ,loss = 'mse')\n",
        "\n",
        "\n",
        "history2 = autoencoder_AD.fit(inliers_codificados, inliers_codificados,\n",
        "                    epochs=50,\n",
        "                    batch_size=32,\n",
        "                    shuffle=True)"
      ],
      "metadata": {
        "colab": {
          "base_uri": "https://localhost:8080/"
        },
        "id": "ygoNrrf8fZR8",
        "outputId": "16b171e7-0309-4a53-a45c-8dc834b5520b"
      },
      "execution_count": null,
      "outputs": [
        {
          "output_type": "stream",
          "name": "stdout",
          "text": [
            "Epoch 1/50\n",
            "79/79 [==============================] - 2s 6ms/step - loss: 0.4951\n",
            "Epoch 2/50\n",
            "79/79 [==============================] - 1s 6ms/step - loss: 0.1466\n",
            "Epoch 3/50\n",
            "79/79 [==============================] - 1s 7ms/step - loss: 0.1318\n",
            "Epoch 4/50\n",
            "79/79 [==============================] - 1s 7ms/step - loss: 0.1276\n",
            "Epoch 5/50\n",
            "79/79 [==============================] - 1s 7ms/step - loss: 0.1254\n",
            "Epoch 6/50\n",
            "79/79 [==============================] - 1s 7ms/step - loss: 0.1244\n",
            "Epoch 7/50\n",
            "79/79 [==============================] - 1s 8ms/step - loss: 0.1235\n",
            "Epoch 8/50\n",
            "79/79 [==============================] - 1s 6ms/step - loss: 0.1227\n",
            "Epoch 9/50\n",
            "79/79 [==============================] - 0s 6ms/step - loss: 0.1217\n",
            "Epoch 10/50\n",
            "79/79 [==============================] - 0s 6ms/step - loss: 0.1202\n",
            "Epoch 11/50\n",
            "79/79 [==============================] - 0s 5ms/step - loss: 0.1190\n",
            "Epoch 12/50\n",
            "79/79 [==============================] - 1s 7ms/step - loss: 0.1184\n",
            "Epoch 13/50\n",
            "79/79 [==============================] - 1s 7ms/step - loss: 0.1180\n",
            "Epoch 14/50\n",
            "79/79 [==============================] - 1s 6ms/step - loss: 0.1177\n",
            "Epoch 15/50\n",
            "79/79 [==============================] - 1s 7ms/step - loss: 0.1171\n",
            "Epoch 16/50\n",
            "79/79 [==============================] - 1s 7ms/step - loss: 0.1161\n",
            "Epoch 17/50\n",
            "79/79 [==============================] - 1s 8ms/step - loss: 0.1154\n",
            "Epoch 18/50\n",
            "79/79 [==============================] - 1s 7ms/step - loss: 0.1150\n",
            "Epoch 19/50\n",
            "79/79 [==============================] - 1s 8ms/step - loss: 0.1147\n",
            "Epoch 20/50\n",
            "79/79 [==============================] - 1s 7ms/step - loss: 0.1146\n",
            "Epoch 21/50\n",
            "79/79 [==============================] - 1s 7ms/step - loss: 0.1144\n",
            "Epoch 22/50\n",
            "79/79 [==============================] - 1s 7ms/step - loss: 0.1142\n",
            "Epoch 23/50\n",
            "79/79 [==============================] - 1s 8ms/step - loss: 0.1141\n",
            "Epoch 24/50\n",
            "79/79 [==============================] - 1s 7ms/step - loss: 0.1140\n",
            "Epoch 25/50\n",
            "79/79 [==============================] - 1s 7ms/step - loss: 0.1138\n",
            "Epoch 26/50\n",
            "79/79 [==============================] - 1s 7ms/step - loss: 0.1137\n",
            "Epoch 27/50\n",
            "79/79 [==============================] - 1s 7ms/step - loss: 0.1136\n",
            "Epoch 28/50\n",
            "79/79 [==============================] - 1s 7ms/step - loss: 0.1135\n",
            "Epoch 29/50\n",
            "79/79 [==============================] - 1s 7ms/step - loss: 0.1133\n",
            "Epoch 30/50\n",
            "79/79 [==============================] - 1s 6ms/step - loss: 0.1131\n",
            "Epoch 31/50\n",
            "79/79 [==============================] - 1s 7ms/step - loss: 0.1129\n",
            "Epoch 32/50\n",
            "79/79 [==============================] - 1s 7ms/step - loss: 0.1127\n",
            "Epoch 33/50\n",
            "79/79 [==============================] - 0s 4ms/step - loss: 0.1124\n",
            "Epoch 34/50\n",
            "79/79 [==============================] - 0s 4ms/step - loss: 0.1120\n",
            "Epoch 35/50\n",
            "79/79 [==============================] - 0s 4ms/step - loss: 0.1117\n",
            "Epoch 36/50\n",
            "79/79 [==============================] - 0s 4ms/step - loss: 0.1114\n",
            "Epoch 37/50\n",
            "79/79 [==============================] - 0s 4ms/step - loss: 0.1112\n",
            "Epoch 38/50\n",
            "79/79 [==============================] - 0s 4ms/step - loss: 0.1110\n",
            "Epoch 39/50\n",
            "79/79 [==============================] - 0s 4ms/step - loss: 0.1108\n",
            "Epoch 40/50\n",
            "79/79 [==============================] - 0s 4ms/step - loss: 0.1107\n",
            "Epoch 41/50\n",
            "79/79 [==============================] - 0s 4ms/step - loss: 0.1106\n",
            "Epoch 42/50\n",
            "79/79 [==============================] - 0s 4ms/step - loss: 0.1104\n",
            "Epoch 43/50\n",
            "79/79 [==============================] - 0s 3ms/step - loss: 0.1104\n",
            "Epoch 44/50\n",
            "79/79 [==============================] - 0s 4ms/step - loss: 0.1103\n",
            "Epoch 45/50\n",
            "79/79 [==============================] - 0s 4ms/step - loss: 0.1102\n",
            "Epoch 46/50\n",
            "79/79 [==============================] - 0s 4ms/step - loss: 0.1101\n",
            "Epoch 47/50\n",
            "79/79 [==============================] - 0s 4ms/step - loss: 0.1101\n",
            "Epoch 48/50\n",
            "79/79 [==============================] - 0s 4ms/step - loss: 0.1100\n",
            "Epoch 49/50\n",
            "79/79 [==============================] - 0s 4ms/step - loss: 0.1099\n",
            "Epoch 50/50\n",
            "79/79 [==============================] - 0s 3ms/step - loss: 0.1100\n"
          ]
        }
      ]
    },
    {
      "cell_type": "code",
      "source": [
        "test_codificado = codificador.predict(X_test)\n",
        "ADtest_x_predictions = autoencoder_AD.predict(test_codificado)\n",
        "mse = np.mean(np.abs(test_codificado-ADtest_x_predictions)**2\n",
        "                    , axis = tuple(range(1,X_test.ndim)))\n",
        "\n",
        "error_df = pd.DataFrame({'Reconstruction_error': mse,\n",
        "                        'True_class': test_labels})"
      ],
      "metadata": {
        "id": "fp2VQ43yfZcH"
      },
      "execution_count": null,
      "outputs": []
    },
    {
      "cell_type": "code",
      "source": [
        "groups = error_df.groupby('True_class')\n",
        "fig, ax = plt.subplots()\n",
        "for name, group in groups:\n",
        "    ax.plot(group.index, group.Reconstruction_error, marker='o', ms=3.5, linestyle='',\n",
        "            label= \"Fraud\" if name == 1 else \"Normal\")\n",
        "#ax.hlines(threshold_fixed, ax.get_xlim()[0], ax.get_xlim()[1], colors=\"r\", zorder=100, label='Threshold')\n",
        "ax.legend()\n",
        "threshold =  np.mean( error_df[error_df[\"True_class\"]==True][\"Reconstruction_error\"])-np.std( error_df[error_df[\"True_class\"]==True][\"Reconstruction_error\"])\n",
        "plt.axhline(y= threshold, color='r', linestyle='-')\n",
        "plt.title(\"Reconstruction error for normal and fraud data AUTO_RD + AUTO_AD\")\n",
        "plt.ylabel(\"Reconstruction error\")\n",
        "plt.xlabel(\"Data point index\")\n",
        "plt.show();"
      ],
      "metadata": {
        "colab": {
          "base_uri": "https://localhost:8080/",
          "height": 295
        },
        "id": "0UEW6LL1fq44",
        "outputId": "3aa87486-95e6-4ff2-e615-6d378821ea42"
      },
      "execution_count": null,
      "outputs": [
        {
          "output_type": "display_data",
          "data": {
            "text/plain": [
              "<Figure size 432x288 with 1 Axes>"
            ],
            "image/png": "[encoded data removed]"
          },
          "metadata": {
            "needs_background": "light"
          }
        }
      ]
    },
    {
      "cell_type": "code",
      "source": [
        "print(np.mean(error_df[error_df[\"True_class\"]==False]))\n",
        "print(np.mean(error_df[error_df[\"True_class\"]==True]))\n",
        "\n",
        "teoric_fraud = []\n",
        "teoric_ok = []\n",
        "pred_labels = []\n",
        "for i in range(len(error_df)):\n",
        "  if (error_df.iloc[i,0]>= threshold):\n",
        "    teoric_fraud.append(error_df.iloc[i][[\"Reconstruction_error\",\"True_class\"]])\n",
        "    pred_labels.append(1)\n",
        "  else :\n",
        "    teoric_ok.append(error_df.iloc[i][[\"Reconstruction_error\",\"True_class\"]])\n",
        "    pred_labels.append(0)\n",
        "print(\"threshold: \", threshold)"
      ],
      "metadata": {
        "id": "xzpq3XqYuaXX",
        "colab": {
          "base_uri": "https://localhost:8080/"
        },
        "outputId": "c70f4498-0e1c-403f-957b-d50bbb264505"
      },
      "execution_count": null,
      "outputs": [
        {
          "output_type": "stream",
          "name": "stdout",
          "text": [
            "Reconstruction_error    0.122948\n",
            "True_class              0.000000\n",
            "dtype: float64\n",
            "Reconstruction_error    0.398924\n",
            "True_class              1.000000\n",
            "dtype: float64\n",
            "threshold:  0.21679583191871643\n"
          ]
        }
      ]
    },
    {
      "cell_type": "markdown",
      "source": [
        "No comento los resultados con más detalle porque no es la estructura que mejor resultados nos ha dado. Dejamos las siguientes metricas:"
      ],
      "metadata": {
        "id": "b6gyRlDjGOvS"
      }
    },
    {
      "cell_type": "code",
      "source": [
        "\n",
        "print(confusion_matrix(test_labels,pred_labels))\n",
        "print(classification_report(test_labels,pred_labels))"
      ],
      "metadata": {
        "colab": {
          "base_uri": "https://localhost:8080/"
        },
        "id": "J5MJaOkgZtxO",
        "outputId": "437c17d6-4083-4599-b07e-8440dee994ad"
      },
      "execution_count": null,
      "outputs": [
        {
          "output_type": "stream",
          "name": "stdout",
          "text": [
            "[[953 116]\n",
            " [  1  20]]\n",
            "              precision    recall  f1-score   support\n",
            "\n",
            "       False       1.00      0.89      0.94      1069\n",
            "        True       0.15      0.95      0.25        21\n",
            "\n",
            "    accuracy                           0.89      1090\n",
            "   macro avg       0.57      0.92      0.60      1090\n",
            "weighted avg       0.98      0.89      0.93      1090\n",
            "\n"
          ]
        }
      ]
    },
    {
      "cell_type": "markdown",
      "source": [
        "## PCA + Autencoder"
      ],
      "metadata": {
        "id": "8AvB1dbHuaqc"
      }
    },
    {
      "cell_type": "markdown",
      "source": [
        "En este último apartado, vamos a reducir la dimensionalidad del data set utilizando PCA, y una vemos hayamos reducido , pasaremos estos datos transformsdos por un autoencoder para intentar detectar los datos anómalos.\n",
        "\n",
        "\n",
        "---\n",
        "\n",
        "A partir de la varianza explicada de la PCA, hemos deidido que el númro de componentes a transformar será 10. A partir de 10 cada dimensión extra aporta poca información\n",
        "\n",
        "---\n",
        "\n"
      ],
      "metadata": {
        "id": "NVu6hnTWua20"
      }
    },
    {
      "cell_type": "code",
      "source": [
        "pca = PCA(n_components = 9)\n",
        "X_train_pca = pca.fit_transform(X_train)\n",
        "X_test_pca = pca.transform(X_test)\n",
        "\n",
        "plt.plot(np.cumsum(pca.explained_variance_ratio_))\n",
        "plt.ylabel(\" % Varianza explicada\")\n",
        "plt.xlabel(\"Número de dimensiones\")"
      ],
      "metadata": {
        "colab": {
          "base_uri": "https://localhost:8080/",
          "height": 298
        },
        "id": "VsAT2NiDgRJs",
        "outputId": "eb9934b3-8fad-4899-81c8-a36dc5755ee0"
      },
      "execution_count": null,
      "outputs": [
        {
          "output_type": "execute_result",
          "data": {
            "text/plain": [
              "Text(0.5, 0, 'Número de dimensiones')"
            ]
          },
          "metadata": {},
          "execution_count": 137
        },
        {
          "output_type": "display_data",
          "data": {
            "text/plain": [
              "<Figure size 432x288 with 1 Axes>"
            ],
            "image/png": "[encoded data removed]"
          },
          "metadata": {
            "needs_background": "light"
          }
        }
      ]
    },
    {
      "cell_type": "code",
      "source": [
        "\n",
        "plt.scatter(X_train_pca[:,0], X_train_pca[:,1], c= train_labels, alpha = 0.5)\n",
        "plt.title(\"Distribucion de las dos primeras dimensiones en el espacio transformado\")"
      ],
      "metadata": {
        "colab": {
          "base_uri": "https://localhost:8080/",
          "height": 299
        },
        "id": "0fJEU_byupzj",
        "outputId": "0a9a85cc-cedc-45d8-904b-a79273304752"
      },
      "execution_count": null,
      "outputs": [
        {
          "output_type": "execute_result",
          "data": {
            "text/plain": [
              "Text(0.5, 1.0, 'Distribucion de las dos primeras dimensiones en el espacio transformado')"
            ]
          },
          "metadata": {},
          "execution_count": 138
        },
        {
          "output_type": "display_data",
          "data": {
            "text/plain": [
              "<Figure size 432x288 with 1 Axes>"
            ],
            "image/png": "[encoded data removed]"
          },
          "metadata": {
            "needs_background": "light"
          }
        }
      ]
    },
    {
      "cell_type": "markdown",
      "source": [
        "Vems que los datos anómalos se separan un poco de los normales"
      ],
      "metadata": {
        "id": "lc_YlHSzNAjz"
      }
    },
    {
      "cell_type": "code",
      "source": [
        "train_labels = y_train.astype(bool)\n",
        "test_labels = y_test.astype(bool)#creating normal and fraud datasets\n",
        "normal_train_data = X_train_pca[~train_labels]\n",
        "normal_test_data = X_test_pca[~test_labels]\n",
        "fraud_train_data = X_train_pca[train_labels]\n",
        "fraud_test_data = X_test_pca[test_labels]\n",
        "print(\" No. of records in Fraud Train Data=\",len(fraud_train_data))\n",
        "print(\" No. of records in Normal Train data=\",len(normal_train_data))\n",
        "print(\" No. of records in Fraud Test Data=\",len(fraud_test_data))\n",
        "print(\" No. of records in Normal Test data=\",len(normal_test_data))"
      ],
      "metadata": {
        "colab": {
          "base_uri": "https://localhost:8080/"
        },
        "id": "MLGuiys4usqB",
        "outputId": "9413ca9f-2b55-4e55-feb4-34bc7ebf5a39"
      },
      "execution_count": null,
      "outputs": [
        {
          "output_type": "stream",
          "name": "stdout",
          "text": [
            " No. of records in Fraud Train Data= 34\n",
            " No. of records in Normal Train data= 2508\n",
            " No. of records in Fraud Test Data= 21\n",
            " No. of records in Normal Test data= 1069\n"
          ]
        }
      ]
    },
    {
      "cell_type": "code",
      "source": [
        "# Aqui si que tenemos valores negativos del data set.\n",
        "np.min(normal_train_data)"
      ],
      "metadata": {
        "colab": {
          "base_uri": "https://localhost:8080/"
        },
        "id": "58skvKqwgyOm",
        "outputId": "a919abfe-17ac-4171-ef3a-3796c72bf6df"
      },
      "execution_count": null,
      "outputs": [
        {
          "output_type": "execute_result",
          "data": {
            "text/plain": [
              "-0.9563063711618486"
            ]
          },
          "metadata": {},
          "execution_count": 140
        }
      ]
    },
    {
      "cell_type": "markdown",
      "source": [
        "\n",
        "### Estructura del autoencoder: \n",
        "\n",
        "Otra vez hemos repetido el modelo anterior, ya que la codificación a 4 dimensiones y la función  de activación final 'tanh' son las que mejor resultado nos daban. Aquí la función de activación tiene más sentido porque si que tenemos valores negativos\n",
        "\n",
        "\n",
        "\n",
        "---\n",
        "\n",
        "\n",
        "Procedemos a montar el autoencoder"
      ],
      "metadata": {
        "id": "u11irFNiNHJe"
      }
    },
    {
      "cell_type": "code",
      "source": [
        "dimension_entrada = 9\n",
        "dimension_codificacion = 4\n",
        "\n",
        "\n",
        "\n",
        "entrada = Input(shape=(dimension_entrada,))\n",
        "encoded = Dense(36, activation='relu')(entrada)\n",
        "#encoded = Dropout(0.03)(encoded)\n",
        "\n",
        "encoded = Dense(16, activation='relu')(encoded)\n",
        "#encoded = Dropout(0.03)(encoded)\n",
        "encoded = Dense(8, activation='relu')(encoded)\n",
        "\n",
        "encoded = Dense(dimension_codificacion, activation='relu')(encoded)\n",
        "decoded = Dense(8, activation='relu')(encoded)\n",
        "#decoded = Dropout(0.03)(decoded)\n",
        "\n",
        "decoded = Dense(16, activation='relu')(decoded)\n",
        "#decoded= Dropout(0.05)(decoded)\n",
        "decoded = Dense(36, activation='relu')(decoded)\n",
        "\n",
        "decodificada = Dense(dimension_entrada, activation='tanh')(decoded)\n",
        "\n",
        "autoencoder = Model(entrada,decodificada) \n",
        "autoencoder.compile(optimizer=  'adam' ,loss = 'mse')\n",
        "\n",
        "\n",
        "history2 = autoencoder.fit(normal_train_data, normal_train_data,\n",
        "                    epochs=50,\n",
        "                    batch_size=32,\n",
        "                    shuffle=True,\n",
        "                    validation_data=(normal_test_data,normal_test_data))"
      ],
      "metadata": {
        "colab": {
          "base_uri": "https://localhost:8080/"
        },
        "id": "bhCK5uOQvlV3",
        "outputId": "22104922-5c89-4ef9-a2c4-cc209fb48a6a"
      },
      "execution_count": null,
      "outputs": [
        {
          "output_type": "stream",
          "name": "stdout",
          "text": [
            "Epoch 1/50\n",
            "79/79 [==============================] - 3s 17ms/step - loss: 0.0617 - val_loss: 0.0430\n",
            "Epoch 2/50\n",
            "79/79 [==============================] - 1s 12ms/step - loss: 0.0332 - val_loss: 0.0330\n",
            "Epoch 3/50\n",
            "79/79 [==============================] - 1s 15ms/step - loss: 0.0257 - val_loss: 0.0256\n",
            "Epoch 4/50\n",
            "79/79 [==============================] - 1s 14ms/step - loss: 0.0214 - val_loss: 0.0227\n",
            "Epoch 5/50\n",
            "79/79 [==============================] - 1s 12ms/step - loss: 0.0193 - val_loss: 0.0211\n",
            "Epoch 6/50\n",
            "79/79 [==============================] - 1s 14ms/step - loss: 0.0178 - val_loss: 0.0190\n",
            "Epoch 7/50\n",
            "79/79 [==============================] - 1s 14ms/step - loss: 0.0166 - val_loss: 0.0183\n",
            "Epoch 8/50\n",
            "79/79 [==============================] - 1s 12ms/step - loss: 0.0158 - val_loss: 0.0175\n",
            "Epoch 9/50\n",
            "79/79 [==============================] - 1s 10ms/step - loss: 0.0153 - val_loss: 0.0172\n",
            "Epoch 10/50\n",
            "79/79 [==============================] - 1s 11ms/step - loss: 0.0148 - val_loss: 0.0163\n",
            "Epoch 11/50\n",
            "79/79 [==============================] - 1s 10ms/step - loss: 0.0144 - val_loss: 0.0160\n",
            "Epoch 12/50\n",
            "79/79 [==============================] - 1s 9ms/step - loss: 0.0141 - val_loss: 0.0157\n",
            "Epoch 13/50\n",
            "79/79 [==============================] - 0s 5ms/step - loss: 0.0137 - val_loss: 0.0155\n",
            "Epoch 14/50\n",
            "79/79 [==============================] - 0s 5ms/step - loss: 0.0134 - val_loss: 0.0148\n",
            "Epoch 15/50\n",
            "79/79 [==============================] - 0s 6ms/step - loss: 0.0130 - val_loss: 0.0146\n",
            "Epoch 16/50\n",
            "79/79 [==============================] - 0s 5ms/step - loss: 0.0128 - val_loss: 0.0142\n",
            "Epoch 17/50\n",
            "79/79 [==============================] - 0s 5ms/step - loss: 0.0125 - val_loss: 0.0142\n",
            "Epoch 18/50\n",
            "79/79 [==============================] - 0s 5ms/step - loss: 0.0123 - val_loss: 0.0140\n",
            "Epoch 19/50\n",
            "79/79 [==============================] - 0s 5ms/step - loss: 0.0119 - val_loss: 0.0132\n",
            "Epoch 20/50\n",
            "79/79 [==============================] - 0s 6ms/step - loss: 0.0116 - val_loss: 0.0130\n",
            "Epoch 21/50\n",
            "79/79 [==============================] - 0s 5ms/step - loss: 0.0112 - val_loss: 0.0126\n",
            "Epoch 22/50\n",
            "79/79 [==============================] - 0s 5ms/step - loss: 0.0109 - val_loss: 0.0125\n",
            "Epoch 23/50\n",
            "79/79 [==============================] - 0s 5ms/step - loss: 0.0107 - val_loss: 0.0124\n",
            "Epoch 24/50\n",
            "79/79 [==============================] - 0s 5ms/step - loss: 0.0104 - val_loss: 0.0122\n",
            "Epoch 25/50\n",
            "79/79 [==============================] - 0s 5ms/step - loss: 0.0103 - val_loss: 0.0118\n",
            "Epoch 26/50\n",
            "79/79 [==============================] - 0s 5ms/step - loss: 0.0101 - val_loss: 0.0115\n",
            "Epoch 27/50\n",
            "79/79 [==============================] - 0s 6ms/step - loss: 0.0099 - val_loss: 0.0113\n",
            "Epoch 28/50\n",
            "79/79 [==============================] - 0s 6ms/step - loss: 0.0098 - val_loss: 0.0113\n",
            "Epoch 29/50\n",
            "79/79 [==============================] - 0s 6ms/step - loss: 0.0096 - val_loss: 0.0112\n",
            "Epoch 30/50\n",
            "79/79 [==============================] - 0s 6ms/step - loss: 0.0097 - val_loss: 0.0110\n",
            "Epoch 31/50\n",
            "79/79 [==============================] - 0s 6ms/step - loss: 0.0094 - val_loss: 0.0108\n",
            "Epoch 32/50\n",
            "79/79 [==============================] - 0s 6ms/step - loss: 0.0093 - val_loss: 0.0108\n",
            "Epoch 33/50\n",
            "79/79 [==============================] - 0s 5ms/step - loss: 0.0092 - val_loss: 0.0109\n",
            "Epoch 34/50\n",
            "79/79 [==============================] - 0s 6ms/step - loss: 0.0092 - val_loss: 0.0107\n",
            "Epoch 35/50\n",
            "79/79 [==============================] - 0s 6ms/step - loss: 0.0090 - val_loss: 0.0107\n",
            "Epoch 36/50\n",
            "79/79 [==============================] - 0s 5ms/step - loss: 0.0090 - val_loss: 0.0106\n",
            "Epoch 37/50\n",
            "79/79 [==============================] - 0s 6ms/step - loss: 0.0089 - val_loss: 0.0107\n",
            "Epoch 38/50\n",
            "79/79 [==============================] - 0s 6ms/step - loss: 0.0089 - val_loss: 0.0106\n",
            "Epoch 39/50\n",
            "79/79 [==============================] - 0s 5ms/step - loss: 0.0088 - val_loss: 0.0104\n",
            "Epoch 40/50\n",
            "79/79 [==============================] - 0s 5ms/step - loss: 0.0086 - val_loss: 0.0105\n",
            "Epoch 41/50\n",
            "79/79 [==============================] - 0s 6ms/step - loss: 0.0087 - val_loss: 0.0104\n",
            "Epoch 42/50\n",
            "79/79 [==============================] - 0s 5ms/step - loss: 0.0086 - val_loss: 0.0100\n",
            "Epoch 43/50\n",
            "79/79 [==============================] - 0s 5ms/step - loss: 0.0085 - val_loss: 0.0100\n",
            "Epoch 44/50\n",
            "79/79 [==============================] - 0s 5ms/step - loss: 0.0084 - val_loss: 0.0100\n",
            "Epoch 45/50\n",
            "79/79 [==============================] - 0s 6ms/step - loss: 0.0085 - val_loss: 0.0100\n",
            "Epoch 46/50\n",
            "79/79 [==============================] - 0s 5ms/step - loss: 0.0083 - val_loss: 0.0101\n",
            "Epoch 47/50\n",
            "79/79 [==============================] - 0s 5ms/step - loss: 0.0083 - val_loss: 0.0099\n",
            "Epoch 48/50\n",
            "79/79 [==============================] - 0s 5ms/step - loss: 0.0082 - val_loss: 0.0098\n",
            "Epoch 49/50\n",
            "79/79 [==============================] - 0s 5ms/step - loss: 0.0082 - val_loss: 0.0096\n",
            "Epoch 50/50\n",
            "79/79 [==============================] - 0s 5ms/step - loss: 0.0080 - val_loss: 0.0098\n"
          ]
        }
      ]
    },
    {
      "cell_type": "code",
      "source": [
        "#X_test = X_test.reshape(738,20,20,1)\n",
        "\n",
        "test_x_predictions = autoencoder.predict(X_test_pca)\n",
        "mse = np.mean(np.abs(X_test_pca-test_x_predictions)**2\n",
        "                    , axis = tuple(range(1,X_test_pca.ndim)))\n",
        "\n",
        "error_df = pd.DataFrame({'Reconstruction_error': mse,\n",
        "                        'True_class': test_labels})"
      ],
      "metadata": {
        "id": "YQIZKB7awP_W"
      },
      "execution_count": null,
      "outputs": []
    },
    {
      "cell_type": "code",
      "source": [
        "groups = error_df.groupby('True_class')\n",
        "fig, ax = plt.subplots()\n",
        "for name, group in groups:\n",
        "    ax.plot(group.index, group.Reconstruction_error, marker='o', ms=3.5, linestyle='',\n",
        "            label= \"Fraud\" if name == 1 else \"Normal\")\n",
        "#ax.hlines(threshold_fixed, ax.get_xlim()[0], ax.get_xlim()[1], colors=\"r\", zorder=100, label='Threshold')\n",
        "ax.legend()\n",
        "threshold =  np.mean( error_df[error_df[\"True_class\"]==True][\"Reconstruction_error\"]) - np.std( error_df[error_df[\"True_class\"]==True][\"Reconstruction_error\"])\n",
        "plt.axhline(y= threshold, color='r', linestyle='-')\n",
        "plt.title(\"Reconstruction error for normal and fraud data PCA + AUTO_AD\" )\n",
        "plt.ylabel(\"Reconstruction error\")\n",
        "plt.xlabel(\"Data point index\")\n",
        "plt.show();"
      ],
      "metadata": {
        "colab": {
          "base_uri": "https://localhost:8080/",
          "height": 295
        },
        "id": "sCnyvws_v3Cn",
        "outputId": "ed0d63ae-117d-4e8d-b4ac-d98e5858ac39"
      },
      "execution_count": null,
      "outputs": [
        {
          "output_type": "display_data",
          "data": {
            "text/plain": [
              "<Figure size 432x288 with 1 Axes>"
            ],
            "image/png": "[encoded data removed]"
          },
          "metadata": {
            "needs_background": "light"
          }
        }
      ]
    },
    {
      "cell_type": "code",
      "source": [
        "print(np.mean(error_df[error_df[\"True_class\"]==False]))\n",
        "print(np.mean(error_df[error_df[\"True_class\"]==True]))\n",
        "\n",
        "teoric_fraud = []\n",
        "teoric_ok = []\n",
        "pred_labels = []\n",
        "for i in range(len(error_df)):\n",
        "  if (error_df.iloc[i,0]>= threshold):\n",
        "    teoric_fraud.append(error_df.iloc[i][[\"Reconstruction_error\",\"True_class\"]])\n",
        "    pred_labels.append(1)\n",
        "  else :\n",
        "    teoric_ok.append(error_df.iloc[i][[\"Reconstruction_error\",\"True_class\"]])\n",
        "    pred_labels.append(0)\n",
        "print(\"threshold: \", threshold)"
      ],
      "metadata": {
        "colab": {
          "base_uri": "https://localhost:8080/"
        },
        "id": "aJNJmSCBzY4K",
        "outputId": "0a5904fc-643c-4189-8d09-a5f1c8151e01"
      },
      "execution_count": null,
      "outputs": [
        {
          "output_type": "stream",
          "name": "stdout",
          "text": [
            "Reconstruction_error    0.009772\n",
            "True_class              0.000000\n",
            "dtype: float64\n",
            "Reconstruction_error    0.165634\n",
            "True_class              1.000000\n",
            "dtype: float64\n",
            "threshold:  0.11413548661640563\n"
          ]
        }
      ]
    },
    {
      "cell_type": "markdown",
      "source": [
        "## Resultado\n",
        "\n",
        "Vamos a describir los haciertos y erroes que hemos cometido:\n",
        "\n",
        "Outliers:"
      ],
      "metadata": {
        "id": "YMAhYEbq_jof"
      }
    },
    {
      "cell_type": "code",
      "source": [
        "print(\"Numero de outliers en el data set original :\",len(error_df[error_df[\"True_class\"]==True]))\n",
        "print(\"Numero de outliers etiquetados como tal :\" , np.sum([i[1]== True for i in teoric_fraud]))\n",
        "\n",
        "print(\"Accuracy: \",np.sum([i[1]== True for i in teoric_fraud])/len(error_df[error_df[\"True_class\"]==True]))"
      ],
      "metadata": {
        "colab": {
          "base_uri": "https://localhost:8080/"
        },
        "id": "vzXUsicf_L4I",
        "outputId": "f935ce08-1b84-452f-b855-b0b5e9c3ccb4"
      },
      "execution_count": null,
      "outputs": [
        {
          "output_type": "stream",
          "name": "stdout",
          "text": [
            "Numero de outliers en el data set original : 21\n",
            "Numero de outliers etiquetados como tal : 19\n",
            "Accuracy:  0.9047619047619048\n"
          ]
        }
      ]
    },
    {
      "cell_type": "markdown",
      "source": [
        "Inliers:"
      ],
      "metadata": {
        "id": "67XEXYpoNsGC"
      }
    },
    {
      "cell_type": "code",
      "source": [
        "print(\"Numero de inliers en el data set probado :\", len(error_df[error_df[\"True_class\"]==False])) \n",
        "print(\"Numero de intliers etiquetados como tal :\",np.sum([i[1]== False for i in teoric_ok]))\n",
        "\n",
        "print(\"Accuracy: \", np.sum([i[1]== False for i in teoric_ok])/len(error_df[error_df[\"True_class\"]==False]))"
      ],
      "metadata": {
        "colab": {
          "base_uri": "https://localhost:8080/"
        },
        "id": "OFeMg5T4_VuR",
        "outputId": "b329bec6-105f-4ff5-e8dc-73b76dd774b5"
      },
      "execution_count": null,
      "outputs": [
        {
          "output_type": "stream",
          "name": "stdout",
          "text": [
            "Numero de inliers en el data set probado : 1069\n",
            "Numero de intliers etiquetados como tal : 1066\n",
            "Accuracy:  0.9971936389148737\n"
          ]
        }
      ]
    },
    {
      "cell_type": "markdown",
      "source": [
        "Errores en el etiquetado"
      ],
      "metadata": {
        "id": "SZQ6NVDZNuRn"
      }
    },
    {
      "cell_type": "code",
      "source": [
        "print(\"Error en el etiquetado de inliers  :\", np.sum([i[1]== True for i in teoric_ok])/len(error_df[error_df[\"True_class\"]==True]),\"%\") \n",
        "print(\"Error en el etiquetado de outliers  :\", np.sum([i[1]== False for i in teoric_fraud])/len(error_df[error_df[\"True_class\"]==False]),\"%\") "
      ],
      "metadata": {
        "colab": {
          "base_uri": "https://localhost:8080/"
        },
        "id": "MlzLLk0c_cZv",
        "outputId": "3bc95397-8875-455c-ffe6-0571696a0c67"
      },
      "execution_count": null,
      "outputs": [
        {
          "output_type": "stream",
          "name": "stdout",
          "text": [
            "Error en el etiquetado de inliers  : 0.09523809523809523 %\n",
            "Error en el etiquetado de outliers  : 0.002806361085126286 %\n"
          ]
        }
      ]
    },
    {
      "cell_type": "markdown",
      "source": [
        "Otro método para medir el acierto:\n",
        "Vemos que llegamos a un **99% de accuracy**"
      ],
      "metadata": {
        "id": "38ageGlFOAEz"
      }
    },
    {
      "cell_type": "code",
      "source": [
        "\n",
        "print(confusion_matrix(test_labels,pred_labels))\n",
        "print(classification_report(test_labels,pred_labels))"
      ],
      "metadata": {
        "colab": {
          "base_uri": "https://localhost:8080/"
        },
        "id": "0_iRbbe4ExES",
        "outputId": "e064b1b1-1848-4422-c9a9-7b73825ebbbb"
      },
      "execution_count": null,
      "outputs": [
        {
          "output_type": "stream",
          "name": "stdout",
          "text": [
            "[[1066    3]\n",
            " [   2   19]]\n",
            "              precision    recall  f1-score   support\n",
            "\n",
            "       False       1.00      1.00      1.00      1069\n",
            "        True       0.86      0.90      0.88        21\n",
            "\n",
            "    accuracy                           1.00      1090\n",
            "   macro avg       0.93      0.95      0.94      1090\n",
            "weighted avg       1.00      1.00      1.00      1090\n",
            "\n"
          ]
        }
      ]
    },
    {
      "cell_type": "markdown",
      "source": [
        " # Resumen de Resultados :\n",
        "![res3.png](data:image/png;base64,iVBORw0KGgoAAAANSUhEUgAAAaEAAAEWCAYAAADPZygPAAAABHNCSVQICAgIfAhkiAAAAAlwSFlzAAALEgAACxIB0t1+/AAAADh0RVh0U29mdHdhcmUAbWF0cGxvdGxpYiB2ZXJzaW9uMy4yLjIsIGh0dHA6Ly9tYXRwbG90bGliLm9yZy+WH4yJAAAgAElEQVR4nOydeZxUxbX4v6d7NvZlQJR9RBEhKuBEBQzighJNXOIS40tcYjRu8UUNiYl5cXnPPGOMyUvic0ejiTFu8fHyi/FhXAirgCAGBIQBYVBAhh2GYbr7/P641c3tnl5npqdnOd/Ppz99b926955bt26dqlOnqkRVMQzDMIxCECi0AIZhGEbHxZSQYRiGUTBMCRmGYRgFw5SQYRiGUTBMCRmGYRgFw5SQYRiGUTBMCRmGYRgFw5RQK0BE/kVE/q/QcuQLEbleRDaLyB4RKS+0PPlERFREjmiB+1wpIrPSHL9ARDa4NB/TAvLcJSK/zyF+i6ST0fppMSUkIutEpNZ9FJtE5GkR6dpS98+FfH4gIjLUXb8oGqaqf1DVM/Nxv0IjIsXAg8CZqtpVVWsKLVMH4QHgJpfmiwstTGNJ9r004hoqIntd2bNRRB4UkaDv+GUistAd/1REXhORkxOucaW7zleb8jxZyJr0PqkqHa5cPcPJvMf96kXkgG//ERe3p4g87MrffSLygYhclaN8b4vIdhEpTQh/2t1zt/v9U0T+U0R6ZLpmS7eEvqyqXYHRwBjghy18/2ahKR9EayXZM+X6nCni9wPKgGWNkElEJG95tD2+Rx9DSJHm7fy5U3GcK3tOBy4DrgEQkVuBXwE/xcurg4H/Bs5LOP8KYBtweS43FZFcp6Rp1H1U9YuuwtEV+ANwf3RfVa8TkRLgDbx8MQ7oAUwF7nNpkBERGQp8AVDg3CRR7lfVbkBf4CrgJGC2iHTJJHyL/IB1wBm+/fuB/+fbPwmYA+wA3gcm+Y71Bp4CPgG2A6/6jl0DrMZ7cdOB/r5jClwHfOSu+xAg7tgRwDvATmAr8CcXPtOdtxfYA3wVmARUAz8ANgHPAlcCsxKeUYEj3HYn4BfAx+4es1zYehdvj/uNS7wWMB5Y4M5bAIz3HXsb+HdgNrAb+D+gT5p0/xKwxD3/HODYhHfyA2ApUOfSRIGrnZwz8SoqP3bPsQV4Bujhzh+aGD/h3sNdOkaf980sn+9e93y10fRMkpe+5+TeCfwJKMshT9zo8sRa37v9vnu+T4HzgbOBVe4aP/KdfwIw16Xnp8BvgZJkeSCJ3FcBH7r3VgV823csKsdtPjmu8h0vd8+yC3jX5YFZSe5R6tI6mofXpHjXRcDtwBonz3LgAt917gJ+79uPvusit1+B9/3sBma4dPh9sud28ae6Z/oE+Cbx38o5wGL3bBuAu3znJftehgFvAjV43+4fgJ5p7h33ToAXnbw93DUvzlB2DQEiwIVACDg0h3JPc4ib8j4kKW+Slasu7GngPxLCrnb5qktC+FddGnTPQr6f4H2XDwJ/yeKe3dw7vyntdbNNoKb+/IkFDAQ+AP7L7Q9wGepsvEJvstvv647/P7yCphdQDJziwk9zmXAs3sf3G3wFoct8fwF64tVwPgOmuGN/BO5w9ysDTk6TaSe5TPEzd59OyTIF8R/WQ3gF6gAgiFfwlpLwMSdmMDyFux34Bl5B8TW3X+6Ov41XcAx3crwN3Jcizce4jHeik+EK9x5Kfe9kCTDIXSsq2zNAFxf2TbwC/XCgK/AK8Kw7v0H8JDLEPW+Wz7ceGOWOF6fIS+8C/d31PgSuyyFPzHDndfK925/g5a1r8PLJc3gf0Sg8ZVjhzj8er8JU5J7tQ+C7qfJOgtzn4BWgApwC7APGJuSxe5wcZ7vjvdzx54EXXDp/DthIkkIpTR6Oe9cu7GKXhgG8wmgvcJg7dhfpldBcvMKoFJiIp4ySKiFgCrDZyd3Fpa3/W5kEHOPkONbFPT/ZfV3YEXhlRClerXsm8Kts0gIYiVeRvNrJFfJfO8X5/wa867Y/AG7LodzTHOKmvA9NV0LPA79Lcn6RS4OzspBvNXAD3jdQD/RLd08X/gyugp/yutkmUFN/LrH2uMyqwN9xtRe8GtqzCfFfxys0D8OrHfRKcs0n8ZqA0f2uLnGG+jKfX7m8ANzuS5zHgIHpMq3vIzlAfG27QaaInuc+plo8E0DaQjnxWniF87sJ58wFrnTbbwM/9h27AfhbijR/GPj3hLCVHFTi64BvJpHtcF/Y34EbfPtHuTQuShY/0/Nm+Xz3ZJGXvu7bvx94JIc8cVrCu60Fgm6/m4tzoi/OIlyhmESW7wJ/TpV3MjzHq8C/Jsjhzxdb8BRe0D3DCN+xnybmvwx5OO5dpzhnCXCe276LFEoIr0IXwlerxlMsqZTQNHwVJbwKVDpl/Svgl6m+lyTxzwcWZ0iLXXiVnTXAf+B9o/8CbMriPX2Eq2jgdSG8n837jd47h7gp70PTldAbpK6sbgL+JYNsJ7s82MftrwBuSXdPF34fMCPdtVu6T+h89WyGk4ARQB8XPgS4WER2RH94D30YXs1tm6puT3K9/nhmIgBUdQ9eC2qAL84m3/Y+vEIJPPOLAO+KyDIR+WYG2T9T1f1ZPCPuucrwMnyuxD2T42Oye6ZEhgC3JaTrIHePKBuSnOcPS5TnY7yCqF+Ga6Qim+fL5nqp0iCbPJF4/RpVDbvtWve/2Xe8Nnp9ERkuIn9xnbu78JRBH7JARL4oIvNEZJt7F2cnnFujqqEkz9UXL839ciemYTbEPbeIXC4iS3x543NZPkt/YLuq7s1Snv6kkV1EThSRt0TkMxHZiWdCTymHiPQTkeedk8Eu4PdZyD1WVXup6jBV/bGqRvDyRZ90fWQiMgHP9Pi8C3oOOEZERqeIf3LC94Z/P9HhIYf7hPBayIkU4ymHTGzFK08T71uEl3ZbM5x/BfB/qhqN95wLy8QAPJN2Sgrioq2q7+Bpzgdc0Aa8llBP36+Lqt7njvUWkZ5JLvUJXkELgOsAK8czVWSSYZOqXqOq/YFvA/+dwSNOE/b3Ap199z7Ud2wrsB/P9JLpOonEPZNjMFk8UxI2APcmpGtnVf1jBnn8YYnyRGvBm1PEz0Q2z5fL9dJeP0WeaMr1H8arBR6pqt2BH+FVZtLivIlexsvz/VS1J/DXbM7FMw+G8CoQUQbnKDf4nltEhgCPAzfhmUJ7Av/0yROXvwF//v4U6JXQ4ZxOnk9JL/tzeP1dg1S1B/CIT45k7+qnLvwY9w6+TnbpmMhcvP6x89PEucJde4mIbALm+8IboKqz/N+bC/N/f6nc6jPdZz0wWERizykinYFDyK5C8gbwxSROAhfipcG8VCeKSCfgEuAUV/naBNwCHCcix6U5rytwBvCPdIIVcpzQr4DJ7iF+D3xZRM4SkaCIlInIJBEZqKqfAq/hKYleIlIsIhPdNf4IXCUio91H/lNgvqquy3RzEblYRAa63e14mTri9jfj9YGk431glLt3GZ75AgBXy5oGPCgi/d0zjXMyfubuk+r6fwWGi+c2WiSeq+ZIvL6tXHkcuM7VNEVEuojIOSLSLYdr/BG4RUQqXKb6KZ6NN5ThvFQ05/OlkrdReSJLuuGZdvaIyAjg+izPK8Hrw/gMCInIF4Gs3PJdK+0V4C4R6SwiI8muFpqOLnh5/jMA8Vx1P+c7vgSYKCKDnZttzJNVVT8GFgJ3i0iJq91/Oc29XgCuFJGRruC8M+F4Nzxrx34ROQHPey1Ksu+lG55pf6eIDMBzesgZVd2J1xf4kIic79K22LVY73ff9SXAtXgevdHfd4DLmsvLMMv7zMer2N7uyscueKauhWSnhJ7Fc3x5UTy392IROQv4NZ4jyM40554PhPG+06hsR+MplwZefCJSKiLH45mbt+M5laWkYEpIVT/D65f5iapuwHOJ/BFeptuAl7Gi8n0Dr8m5As9O/l13jTfwOvNexqttDQMuzVKEzwPzRWQPXi3sX1W1yh27C/idaz5fkkL+VXidyG/g2XITazjfw+tcXIDXHP0ZEFDVfTjvL3f9kxKuW4Pn0XYbnrng+8CXfM3grFHVhXgd7b/Fywyr8WzLuTANLwPPxPMm24/3cTSK5ny+FNdvSp7Ihu/hFZK78ZT8n7KUazdwM16BvN1dY3oO970JzzS3Cc+KkPbDzkKe5Xjem3PxKl3H4Hk+RY/PwHu2pXh9YomVhMvwHF624SmVZ9Lc6zW8SuebeHnwzYQoNwD3iMhuPKXwgu/cZN/L3XiOJzvxnJZeyeHRE2X7BXArngdotOy5Ca8APR/PFPuMs5xsUtVNeN9EEZ5jQ3OQ8T6qWofn2DIJT5lU4Zk5L1HX+ZLhOevwWiUb8BTaLjzHkjtU9ecZTr8CeEpV1yfI91vgX3zK+PvuHdbg5YdFeJ6ve5Nf1kOykN8wDMMw8oJN22MYhmEUjI44ctowDMPwISKD8QYsJ2Okqq7P273NHGcYhmEUinbTEurTp48OHTq00GIYhmG0KRYtWrRVVfsW6v7tRgkNHTqUhQsXFloMwzCMNoWINGbgc7NhjgmGYRhGwTAlZBiGYRQMU0KGYRhGwWg3fUKGYRj19fVUV1ezf3+2cw13HMrKyhg4cCDFxcnmQS0cpoQMw2g3VFdX061bN4YOHYpvrs8Oj6pSU1NDdXU1FRUVhRYnDjPHGYbRbti/fz/l5eWmgBIQEcrLy1tlC9GUUHMSDsEbd8Pjp3v/4cZONG0YRmMxBZSc1pouZo5rTt66F+Y/DPW1sHkZIHDGTwotlWEYRqvFWkLNydqZngICCNXC2ncKK49hGC2OiHDbbbfF9h944AHuuuuuFpVh0qRJbWbwvimh5qRiIhR18raLOkHFKYWVxzCMFqe0tJRXXnmFrVsbt0RWKNSxzPhmjmtOTr0DEK8FVHEKnPqjQktkGEYaQuEID85YxZw1NYwfVs6tk4dTFGxa3byoqIhrr72WX/7yl9x7771xx9atW8c3v/lNtm7dSt++fXnqqacYPHgwV155JWVlZSxevJgJEyawbds2OnXqxOLFi9myZQvTpk3jmWeeYe7cuZx44ok8/fTTAFx//fUsWLCA2tpaLrroIu6+++4myV4ITAk1J8Ei6wMyjDbEgzNWMW32WvbXR1ixaRcCTJ0yosnXvfHGGzn22GP5/ve/Hxf+ne98hyuuuIIrrriCadOmcfPNN/Pqq68Cnnv5nDlzCAaDXHnllWzfvp25c+cyffp0zj33XGbPns0TTzzB5z//eZYsWcLo0aO599576d27N+FwmNNPP52lS5dy7LHHNln+lsTMcYZhdFjmrKlhf30EgP31EWavqWmW63bv3p3LL7+cX//613Hhc+fO5bLLLgPgG9/4BrNmzYodu/jiiwkGg7H9L3/5y4gIxxxzDP369eOYY44hEAgwatQo1q1bB8ALL7zA2LFjGTNmDMuWLWP58lRLArVeTAkZhtFhGT+snLJirxgsKw4wYVh5s137u9/9Lk8++SR79+7NKn6XLl3i9ktLSwEIBAKx7eh+KBRi7dq1PPDAA/z9739n6dKlnHPOOa1yHFAmTAkZhtFhuXXycK6eUMHoQT25ekIFt0we3mzX7t27N5dccglPPvlkLGz8+PE8//zzAPzhD3/gC1/4QqOvv2vXLrp06UKPHj3YvHkzr732WpNlLgTWJ2QYRoelKBhg6pQRTM3T9W+77TZ++9vfxvZ/85vfcNVVV/Hzn/885pjQWI477jjGjBnDiBEjGDRoEBMmTGgOkVucdrO8d2VlpbYVv3jDMPLDhx9+yNFHH11oMVotydJHRBapamWBRDJznGEYhlE4TAkZhmEYBcOUkGEYhlEwTAkZhmEYBcOUkGEYhlEwTAkZhmEYBSOvSkhEpojIShFZLSK3Jzl+nYh8ICJLRGSWiIz0HfuhO2+liJyVTzkNwzCai2AwyOjRo2O/6BQ7zcnQoUMbPUt3ayNvg1VFJAg8BEwGqoEFIjJdVf2TGz2nqo+4+OcCDwJTnDK6FBgF9AfeEJHhqhrOl7yGYRjNQadOnViyZEnSY6qKqhIImBEqSj5T4gRgtapWqeoB4HngPH8EVd3l2+0CREfOngc8r6p1qroWWO2uZxiG0XyEQ/DG3fD46d5/uPnX8lm3bh1HHXUUl19+OZ/73OfYsGED119/PZWVlYwaNYo777wzFtffwlm4cCGTJk0CoKamhjPPPJNRo0bxrW99i/YyyQDkVwkNADb49qtdWBwicqOIrAHuB27O8dxrRWShiCz87LPPmk1wwzA6CG/dC/Mfho0LYd7D8NZPm3zJ2tramCnuggsuAOCjjz7ihhtuYNmyZQwZMoR7772XhQsXsnTpUt555x2WLl2a9pp33303J598MsuWLeOCCy5g/fr1TZaztVDwNqGqPqSqw4AfAD/O8dzHVLVSVSv79u2bHwENw2i/rJ0J9bXedqjWW5CyiUTNcUuWLOHPf/4zAEOGDOGkk06Kxcl1CYaZM2fy9a9/HYBzzjmHXr16NVnO1kI+ldBGYJBvf6ALS8XzwPmNPNcwDCN3KiZCUSdvu6iTtyJyHvAv05BuCYaioiIiEbe+URtclqEx5FMJLQCOFJEKESnBczSY7o8gIkf6ds8BPnLb04FLRaRURCqAI4F38yirYRgdkVPvgJNugAGV3v+pP8r7LdMtwTB06FAWLVoEwMsvvxwLnzhxIs899xwAr732Gtu3b8+7nC1F3rzjVDUkIjcBrwNBYJqqLhORe4CFqjoduElEzgDqge3AFe7cZSLyArAcCAE3mmecYRjNTrAIzvhJi94y3RIMd955J1dffTX/9m//FnNKiIZ/7WtfY9SoUYwfP57Bgwe3qMz5xJZyMAyj3WBLOaTHlnIwDMMwDB+mhAzDMIyCYUrIMIx2RXvpYmhuWmu6mBIyDKPdUFZWRk1NTastcAuFqlJTU0NZWVmhRWlA3rzjDMMwWpqBAwdSXV2NzaDSkLKyMgYOHFhoMRpgSsgwjHZDcXExFRUVhRbDyAEzxxmGYRgFw5SQYRiGUTBMCRmGYRgFw5SQYRiGUTBMCRmGYRgFw5SQYRiGUTBMCRmGYRgFw5SQYRiGUTBMCRmGYRgFw5SQYRiGUTBMCRmGYRgFw5SQYRiGUTBMCRmGYRgFw5SQYRiGUTBMCRmGYRgFI69KSESmiMhKEVktIrcnOX6riCwXkaUi8ncRGeI7FhaRJe43PZ9yGoZhGIUhb4vaiUgQeAiYDFQDC0Rkuqou90VbDFSq6j4RuR64H/iqO1arqqPzJZ9hGIZRePLZEjoBWK2qVap6AHgeOM8fQVXfUtV9bnce0PrWnjUMwzDyRj6V0ABgg2+/2oWl4mrgNd9+mYgsFJF5InJ+shNE5FoXZ6GtKW8YhtH2yJs5LhdE5OtAJXCKL3iIqm4UkcOBN0XkA1Vd4z9PVR8DHgOorKzUFhPYMAzDaBbStoREJCgibzXy2huBQb79gS4s8R5nAHcA56pqXTRcVTe6/yrgbWBMI+UwDMMwWilplZCqhoGIiPRoxLUXAEeKSIWIlACXAnFebiIyBngUTwFt8YX3EpFSt90HmAD4HRoMwzCMdkA25rg9wAciMgPYGw1U1ZvTnaSqIRG5CXgdCALTVHWZiNwDLFTV6cDPga7AiyICsF5VzwWOBh4VkQieorwvwavOMAzDaAeIavquFBG5Ilm4qv4uLxI1ksrKSl24cGGhxTAMw2hTiMgiVa0s1P0ztoRU9XfOnDbcBa1U1fr8imUYhmF0BDIqIRGZBPwOWAcIMEhErlDVmfkVzTAMw2jvZNMn9AvgTFVdCSAiw4E/AsfnU7COSCgc4cEZq5izpobxw8q5dfJwioI2vZ9hGO2XbJRQcVQBAajqKhEpzqNMHZYHZ6xi2uy17K+PsGLTLgSYOmVEocUyDMPIG9lUsxeJyBMiMsn9HgfMAyAPzFlTw/76CAD76yPMXlNTYIkMwzDySzZK6Dq8MTo3u99y4Pp8CtVRGT+snLJi75WUFQeYMKy8wBIZhmHkl7TmODcT9vuqOgJ4sGVEaqOEQ/DWvbB2JlRMhFPvgGBusyLdOnk4AsxeU8OEYeXcMnl4xnMMwzDaMmlLSVUNu/WABqvq+pYSqk3y1r0w/2Gor4XNywCBM36S0yWKggGmThnB1PxIaBiG0erIpqreC1gmIu8SP2PCuXmTqi2ydqangABCtbD2ncLKYxiG0QbIRgn9W96laA9UTPRaQKFaKOoEFadkPscwDKODk02f0KOuT8hIx6l3AOK1gCpOgVN/VGiJDMMwWj3WJ9RcBIty7gMyDMPo6FifkGEYhlEwrE/ISE8zuJ4bhmGkIptZtN8RkSHAkar6hoh0xlsfyOgINIPruWEYRioyzpggItcAL+GtgAowAHg1n0IZrQhzPTcMI49kM23PjXjLa+8CUNWPgEPyKZTRiqiY6Lmcg7meG4bR7GRj3K9T1QNu+W1EpAhIvxyr0X4w13PDMPJINkroHRH5EdBJRCYDNwD/m1+xjFaDuZ4bhpFHsjHH3Q58BnwAfBv4K/DjfAplGIZhdAyy8Y6LAI+7n2EYhmE0G3ldO1pEprgZF1aLyO1Jjt8qIstFZKmI/N25gkePXSEiH7nfFfmU0zAMwygMeVNCbt65h4AvAiOBr4nIyIRoi4FKVT0Wzw38fndub+BO4ETgBOBOEemVL1kNwzCMwpDPltAJwGpVrVLVA8DzwHn+CKr6lqruc7vzgIFu+yxghqpuU9XtwAxgSh5lNQzDMApAxj4hERkOTAWG+OOr6mkZTh0AbPDtV+O1bFJxNfBamnMHJJHtWuBagMGDB2cQxzAMI0taaroqmxYrKxftF4FH8BwTwvkQQkS+DlQCOY2EVNXHgMcAKisrbeySYRjNQ0tNV2XTYmWlhEKq+nAjrr0RGOTbH+jC4hCRM4A7gFNUtc537qSEc99uhAyGYRi501LTVdm0WFn1Cf2viNwgIoeJSO/oL4vzFgBHikiFiJQAlwLT/RFEZAzenHTnquoW36HXgTNFpJdzSDjThRmGYeSflpquyqbFyqolFHWPnuoLU+DwdCepakhEbsJTHkFgmqouE5F7gIWqOh34OdAVeNFNC7ReVc9V1W0i8u94igzgHlXdlvVTGYZhNIWWmq7KpsVCVNtHV0plZaUuXLiw0GIYhmG0KURkkapWFur+2XjHFQPXAxNd0NvAo6pan0e5DMMwjA5ANua4h4Fi4L/d/jdc2LfyJZRhGIbRMchGCX1eVY/z7b8pIu/nSyCjjWDjGwzDaAayKTXCIjJMVdcAiMjh5Gm8kNGGsPENRkfGKmHNRjapNhV4S0SqAMGbOeGqvEpltH5sfIPRkbFKWLORzVIOfxeRI4GjXNBK36BSo6NSMdH7+EK1HXZ8g9GBsUpYs5FSCYnIaar6poh8JeHQESKCqr6SZ9mM1oyNbzA6MlYJazbStYROAd4EvpzkmAKmhDoytuy30ZGxSlizkVIJqeqdbvMeVV3rPyYiFXmVyjAMozVjlbBmI5u5415OEvZScwtiGEYKwiF44254/HTvPxwqtESG0Wyk6xMaAYwCeiT0C3UHyvItmGEYDvPEMtox6fqEjgK+BPQkvl9oN3BNPoUyDMOHeWIZ7Zh0fUL/A/yPiIxT1bktKJNhGH7ME8tox2QzWPU6EflQVXcAuPV9fqGq38yvaEarxkaMtxzmiWW0Y7IpNY6NKiAAVd3uFqMzOjLWT9FytHdPLKvQdGiyedMBEemlqtsB3KqqlkM6OtZPYTQXHblCYwo4K2XyC2CuiLyIN3fcRcC9eZXKaP1YP4XRXHTkCk1HVsCObOaOe0ZEFgKnuaCvqOry/IrVhuioNZmm9FN01DQzktORKzQdWQE7sllZdTCwB5juD1PV9fkUrM3QUWsyTemn6KhpZiSnIztedGQF7Mim+vn/8OaKA+gEVAAr8QayGlaTyR1LM8NPe3e8SEdHVsCObMxxx/j3RWQscEPeJGprWE0mdyzNDMOjIytgR86GeFV9T0ROzCauiEwB/gsIAk+o6n0JxycCvwKOBS5V1Zd8x8LAB253vaqem6usLYLVZHLH0swwDEc2fUK3+nYDwFjgkyzOCwIPAZOBamCBiExPcGpYD1wJfC/JJWpVdXSm+xQcq8nkjqWZYRiObFpC3XzbIbw+omQzaydyArBaVasAROR54DwgpoRUdZ07FslSXsMwOjLmWdnuSPv2XGumm6oma6lkYgCwwbdfDWRlxnOUOdfwEHCfqr6aRL5rgWsBBg8e3AgRDcNoU5hnZbsj7XpCqhoGJrSQLIkMUdVK4DLgVyIyLDGCqj6mqpWqWtm3b9+Wl9AwjJbFPCvbHdm0Y5eIyHTgRWBvNFBVMy3vvREY5Nsf6MKyQlU3uv8qEXkbGAOsyfZ8wzDaIeZZ2e7IRgmVATUcnDEBvHFDmZTQAuBItxT4RuBSvFZNRtxM3ftUtU5E+uC1xu7P5lzDMNox5lnZ7shGCT2hqrP9ASKS0USnqiERuQl4Hc9Fe5qqLhORe4CFqjpdRD4P/BnoBXxZRO5W1VHA0cCjzmEhgNcnZFMFGUZHxzwr2x2iqukjiLynqmMzhRWayspKXbhwYaHFMAzDaFOIyCLX/14QUraERGQcMB7omzBWqDtey8YwDMPIFXMzjyPdk5cAXV0c/1ihXXjLORjtiFA4woMzVjFnTQ3jh5Vz6+ThFAXTOk8afqxgMbLF3MzjSPmVqOo7wDsi8rSqfgwgIgGgq6ruaikBjZbhwRmrmDZ7LfvrI6zYtAsBpk4ZUWix2g5WsBjZYm7mcWRT1f1PEekuIl2AfwLLRWRqnuUyWpg5a2rYX+9NXLG/PsLsNTUFlqiNYQWLkS0VEz33cjA3c7JTQiNdy+d84DW8pRy+kVepjBZn/LByyoq97FBWHGDCsPICS9TGGHoyBJxhIVAEQ79QWHmM1supd8BJN8CASu+/g7uZZ2O0LhaRYjwl9FtVrReR9C51Rpvj1snDEWD2mhomDCvnlsnDCy1S28W+DiMd5mYeRzZK6FFgHfA+MFNEhuA5JxjtiKJggKlTRmB21kaybhZEQt62hmDdPworj2G0ETKa41T116o6QFXPVo+PgVNbQCvUSMoAACAASURBVDbDaB7CIXjjbnj8dO8/HGr+e5id3zAaRTbrCZUCFwJDE+LfkyeZDKN5aQnPNZtOxjAaRTbmuP8BdgKLgLr8imMYeaAlPNfMzm8YjSIbJTRQVafkXRLDyBc287JhtFqyUUJzROQYVf0g79IYRj4wU5lhtFqyUUInA1eKyFo8c5wAqqrH5lWytoJN15J3mjylkJnKDKPVkk1p+cW8S9GWsela8o5NKWQY7ZdsXLQ/BnoCX3a/ntG55AxsupYWwKYUMoz2SzYu2v8KXMPBlVR/LyKPqepv8ipZrqxcCZMmtfx9t6+DXbWgEZAAdK+CPxRAjnbMr7ftY9PO/URUCYhwaI8yeLFzocUyDKMZyMYcdzVwoqruBRCRnwFzgdalhApFzyGAwP4dUNYTeg4utETtjkG9PIWzq7ae7p2KY/uGYbR9slFCAoR9+2EX1ro46ih4++1CS2HkAQFMtRtGnpDCFufZKKGngPki8me3fz7wZP5EMgzDMDoKGZWQqj4oIm/juWoDXKWqi/MqlWEYRlvChmo0mmwcE04Clqnqe26/u4icqKrz8y6dYRhGW8CGajSabEb8PQzs8e3vcWEZEZEpIrJSRFaLyO1Jjk8UkfdEJCQiFyUcu0JEPnK/K7K5n2EYRkGwoRqNJhslJKoaW6ZLVSNk14IKAg/hDXYdCXxNREYmRFsPXAk8l3Bub+BO4ETgBOBOEemVhayGYRgtjy3l0WiyMVpWicjNHGz93ABUZXHeCcBqVa0CEJHngfOA5dEIqrrOHYsknHsWMENVt7njM4ApwB+zuK9hGEbLYvMTNppslNB1wK+BH+MtXPx34NoszhsAbPDtV+O1bLIh2bkDEiOJyLVRWQYPNidewzAKhM1P2Giy8Y7bAlzaArLkjKo+BjwGUFlZqRmi54UmT65pGIbRgcmmb2c4nimun6p+TkSOBc5V1f/IcOpGYJBvf6ALy4aNwKSEc9/O8twWpTkn1zSFZhhGRyObEu5x4IdAPYCqLiW7ltEC4EgRqRCREnfO9Czleh04U0R6OYeEM11Yq6M5J9eMKrQlG3YwbfZafjljFeApp/v/toLzH5rN/X9bQSic2IVmGIbRNslGCXVW1XcTwkKZTlLVEHATnvL4EHhBVZeJyD0ici6AiHxeRKqBi4FHRWSZO3cb8O94imwBcE/USaG1MX5YOWXFXjKWFQeYMKy80ddKpdBSKSfDMIy2TjaOCVtFZBieUwJuPM+n2VxcVf8K/DUh7Ce+7QV4prZk504DpmVzn0Jy6+ThCDB7TQ0ThpVzy+Thjb7W+GHlrNi0i/31kTiFlkw5TW0O4Q3DMApMNkroRrzO/xEishFYC/xLXqVqQxQFA0ydMqJZlEIqhZZKORmGYbR1svGOqwLOEJEueOa7fXj9O7awXTOTSqE1Z2vLMAyjNZFSCYlId7xW0ADgf4A33P5twFLgDy0hYEuSq3daS3mzNWdryzAMozWRriX0LLAdbwG7awA3JJgLVHVJC8jW4uTqbt2c7tktibmCG0bhse/QI50SOlxVjwEQkSfwnBEGq+r+FpGsAOTqANBWHQbaqvI0jPaEfYce6dRufXRDVcNAdXtWQJC7u3Vzumc3hsaOH2rOsU2GYTQO+w490rWEjhORXW5bgE5uXwBV1e55l66FydUBwB9/XEVvwhHl/Idmt1jTurE1qdbkbWcmCaOj0pq+w0KSUgmparAlBWkN5OoA4I9//99W8FSOCiHbAjhVvMaaA1uTt52ZJIyOSmv6DguJrT/bTDRGIWQqgKPK56VF1Wzbe4BQROPiNbYm1Zq87dpqv5phNJXW9B0WElNCjqaahRqjEBIL4Fmrt6J/WxGTIRJRnp67LhYnGi9aUOezJtVSZrIWNUmEQ94yzGtneouQnXqHNwW/YRgFw75AR1PNQo1RCIkFcFAkTobuZcVxCgjiHSDyWZNqKTNZi5ok3roX5j/sLcO8eRkgtgaMYRQYU0KOppqFGqMQEgvgWau3xsnQvcxTOvvrIwQFSouDdC0tIhxRQuFIXjvwW8pM1qImibUzPQUEEKr1VsE0DKOgmBJyNMUs1FjTVWIBrH9bwcrNu2MyXDh2AAERZq+pIQAs37SLLbvreHruOoIByWsHfrv03KmY6LWAQrVQ1MlbhtkwjIJiSshx6+ThqCovv+etu5dLa6O5TFfJTFNFwQBTgfMfmt2iHfjt0nPnVDfpx9p3PAV06o8KLZFhdHhMCTmKggFEhF3769lfH8mptdFcpqt0pqmWbpm0S8+dYJH1ARlGK8OUkI/GKpNkCqK5vcvaZcvEMIwYHXXgtikhH41tbSQz5T3w+sqYe3WuJrpUmbHdtUwMo4Pj/9YDwLJPd1IX0g41cNuUkI/GtjaSmfL87tW5muhsFgHD6Bj4v3XBLV9NdmVGe2k5tT2J80i0tfHSdeNQ4KJH5mY9MWiiKQ9o9OSmNrGhYXQM/N+64k3MCdmVGVEFtmTDDqbNXssvZ6zKr7B5wlpCPjJNk5OORFPehWMGEAhIo/pw2qV7tGEYDUj81kce1p2IklWZ0V6mvDIl5MPfNI6SbbM4ElG6lxXTvQwuHDOA2846KuZenSvmhGAY7Z8G5cbYAdx25lFZm9TaS2U1r0pIRKYA/wUEgSdU9b6E46XAM8DxQA3wVVVdJyJDgQ+BlS7qPFW9Lp+yQnzNIkq2zeKn5qylLqQIMH/ttibJYU4IhtH+eXDGqpjzUllxgIBITn067aWymjclJCJB4CFgMlANLBCR6aq63BftamC7qh4hIpcCPwO+6o6tUdXR+ZIvGSdV9OaD6h2E1bPN9u1WysXHD8yqWVwX8roUFVi8YQe/nLHKnAkMw0hJIaYKa43k0zHhBGC1qlap6gHgeeC8hDjnAb9z2y8Bp4uIUECitw8GhAvHDmDqlBEZayfjh5XjF1qhzToTNHa1VsMwcqPQKzO3FvJpjhsAbPDtVwMnpoqjqiER2QlE30SFiCwGdgE/VtV/JN5ARK4FrgUYPHhwkwWet3YboYjXoglFlLlV2ZnVbp08nHlrali8YQeKl6HGHd6b+33LMmTrPpnO7dJ/7KSK3jGZm9M9M1/u4e3FndQwmov2Yk5rKq3VMeFTYLCq1ojI8cCrIjJKVXf5I6nqY8BjAJWVlZrkOjnRlEXiXrhuHL+csSqWocIR5ak5uRfm6ZTAgzNW8eSsKupCypINOxABVZpVWeTL48Yv+/sbdjBvTQ0vXDfOFJHRYWkv5rSmks8SYCMwyLc/0IUljSMiRUAPoEZV61S1BkBVFwFrgLxXE24+7QhGHtadziVBjj60O/XhSFZmqWgtf7ar5d8yeTjz1m5LO9YnldkrUQm8uKg67li07wk8BRSNN2v11mZJg0QTgQAn3PsGJ9z7Bvf99cNGm+dS9ZsZhtF42oP5PJ8toQXAkSJSgadsLgUuS4gzHbgCmAtcBLypqioifYFtqhoWkcOBI4GqPMoKwK/e+Iil1TsJRZTFG3aweMMOAD78dGfalkay1kumVlWqFs/4YeV8sHEnYWcWrNlbF3NyGD+snPedyS+RYOBgr1Supq+YEl29lYBA15Iggtc/Fk0DgEdmVvHuum288O3cWzCJskf7zZqrFmjmPqMj0h5mV8mbEnJ9PDcBr+O5aE9T1WUicg+wUFWnA08Cz4rIamAbnqICmAjcIyL1QAS4TlWb5vecBa8s3hjrE/JTF9K0BWZi6+XRmWvo3aWUow/tRkTh5CP6NLD3JjN7fedAiLlrtsYUEEA44hXWt7gxBWXFAWrrG9Z2/OckZsxwOMKCddtZsXk3I/p147lrTqSspChp/EwsXt84z79k/WbN2RHbHj5Gw8iV9jBgNa9VRVX9q6oOV9VhqnqvC/uJU0Co6n5VvVhVj1DVE1S1yoW/rKqjVHW0qo5V1f/Np5yZEEhbYPpNWAChCGzZXceSDTsZP6w8qYddMs+Yyx6fz+INO+PiRY9FxxTU1kcIBqBzSZDoJcuKA5x8RJ/YOYkZ85l5H/Pehh3sOxDmvQ07uOyJ+XH3SDY+KhWN9fyL9pvdMGkYowf15OoJFc3aEWtTHRkdkfbgYddaHRMKwlfGDODxWVX4zaoCjBncM22BGfVyeXRmVVxLSoGX39vID754dMpz/J4xT835vwbxrho3lO+cdgQTf/52rJANR7z+oOMG9CSs2qCllWgKrA/Ht+5WbNodt++Pn4gAQYFoV1RAYJzzzMuVfHbEtpfR44aRC+3Bw86UkI/vnXUUwYAwa/VWgiJU76gF4ISh6QvdaOH6pwXr2bq3Pu7Ytr0HuP9vK7jVZY7EfoupUw62kEb068Z7vj4YgHlra3j55xv5bHddXHhtfZjlm3Zx9YSKBmanxIw5Z83WuBbWiEO7NXD3PvrQ7ixJ0t+kQM/OReyoDROKKAERKOhIruS0h4/RMNLRXpd4EdUmeza3CiorK3XhwoXNdr37/7Yi1sdQVhxIWtgncsJ/zGDLngMNwqPnK8Rd86pxQ5GAxDLVDacczuh/n0EoBweX0YN68tJ149KOLbr/byv4/fz11B4IU1Yc4BsnDSEgEjdlSPeyYrYkKLpUHDewBxOO6GNOAIbRgjSmTMoGEVmkqpXNIGKjsJZQChrT4be7Lpw03N9H4b/mS+95s3WHFW+6oEiEkqIgoQPJrwNRLzglHInvL0o3tuiZeR/H7ltbH+Gxf6xtIF/3Ms/sFs5QJwkGPBnMCcAwGk9jvDkTy6RZq7eijRgQ39owJZSCXPoYohmKBGNWdJGqoMAnO2rjrFglQWIKCLzC/9l569mXoICCASEcUYoCQu8uJVw4dgAozF27LWZ2uuiRuSkVZjZOB2XFAS4cO4CX39uYsTUkCBu27Ut5P3OVNozMNMab018mlRYJm3bu5+G316BkHkbSmunwSihVoZlLH0MyF2cBjhvYnZWb91BbH4kr3AXo1bmUzUn6efwEBcq7lADpp3lPpzATxx0lIkLMU01EMrpqhyLKtn31BAPEtcaSpUX047pl8nBTTIbhozGWFn+ZFAAWVx/sw800jKQ10+GVUKoaSTYdfvsPhDy36uodJHatKfDJzrqkBboCu+tCDcMTrhFWz9U73TTvydYy8ivMWycP56VF1SlbOId0LeX6Uw7nkkfm8uGm3fQoK0aojxuLVOQGwkY9/8IR5ZBupfTv2amBgk5mMpi7piaWRi1pvmvrrbK2Ln9Hwz/oOyhCWJUJR/RJ+t4yWVoyOSGc/9DsuPIi0zCS1kyHV0JNGex12ePzG3izRYn67idrf5QVBxjRrxvLU7hFJxKdvueWhMwcCke45JG5sQGgpUVCIBCvrIqCAS46fmDKFs6O2gOc/uDMWKustj5MUeCgGTCVU8XFxw9MqkgSP66gm3Uhmg6pniUftPUBrInyz6uqIaKYQmpl+FdkrtlTF9evunLz7qT5LpOlJVPe9X9n2Qwjac10eCXUlPElKzbHj7eJZoZwxBu7E44oj/2jCr8l7BC3RtF3TjuC37y5mqfmrGvQDwTQuTjAPp/S+Gx3XYOZCh6csSqrJnk0w7/oW7Yc3zlb9sS3kkIRCIrGZI1m7kzmyWStsjlVNQ0UsX8qonzS1keTJ8q/eL33rtuiQm3PpJtxJFW+y2RpyZR3kymxtlop6fBKKJu+n1RN46P6dY0bf3NIt1Je+PY4wMuYc6tqKCsOximZ/j07xQqPqVNGoHiDXBP7bJKN1/nTgvWEIxpbvmH26q0Zm+R+2YEG0xJFTX2JijCscFiPsriCLpN5ssFKkQFhwhF9WLFpV9zEq9GpiJJdq6kmKP/5AbzWYV1I2+QA1sTarr812dYUansmnfNPY/NdpspxexgfFKXDK6FkLzPa1xOda61yaK+Ym7O/Fvr5ob3jlFC0teI3XQXF61MJRZIXhLdOHu71mfjMegJ0Lyumtj6+hbJ1bz2PzPTmcV3x6S56dCqOK5w6lQQJR5RQOBIruP21NL8swQCUdyllYK9O/HNjcpNirpOiJqu9vXTduFgrrGZvXVJnBj9NdWzwn19WHGBU/x5ElDY5gDWuI1pg2Sc726xCbc/4FUbUi3Vgr04xi0iqfJfum8rWMao99Bt2eCWUDH9fz3sbdrBi8+64wnXa7LXMWr2VT3fujzsvAg3GA4UVDulakrQTHzwlmNjqKSsOsHN/PenYH4pQt7sudq4A+w6EefwfVbyyeCMXHT+QWycPj1MMYfXMfCV4syY8960TufTx+aQalpRuUtRk5qCTKnrHPPEE2Lh9H5c8MpdQRBnQoywW78KxA1J+VMkUmZJd304oHOGlRdVx50cUXr1xQtq0bK34K0ihcCRuvaq2plDbM401jaX6phIVS7rrtfV+TzAl1IBQOMLShJbBgVA4biBnbX2E96t3NjhXgHGH90ZE4prSA3qWsXFHLS8uqiYcUb53VryrdWLTu1uWsxdoku2oR92j76zhpUXVDOzZKWaSCgrU1YcJqzcb9ik/f5uIauzZ/K2qTJOipjYHHVwz6LM9B/gsYQaJ0iJhftU2LnpkLuOHlXPzaUfw6zdXxz64kyp68+GnXo1f8GbYnb16a1b3fnDGKmp8/VtFAclbiyGxtZw4M3m2ZFuTbU/ml/ZGsnfTGMvBrNVbCf/1Q56Z93HMPJ5JsbT1fk8wJRTD7+GSOG3O5/p3Z9WWvUkdCPyIQCSihDVCyGksUWXJhp2xwv2JWWsJBiSuxjN79VZGHto9NhlpOKI8OrMqqWcdeMrikG6lfLanjhTDf2LKqGbvAUqLAhzSrQhVjSkFhZhHXFFAOKRrCReOGQACc6u2NahtJyrKZMuXz1u7LW7y12TUhTTOXXteVQ3LP90Vq8ldNW4oow7rEYuzfNMuRh7WnbLiQEbnkTlrauI8k3p3KclbiyGxtXzZE/N55YbcW1ztoSbbVsmnKSub95ps8GnU3B4lmWJpT/2eYEooxgOvr+SJWWsbdNx3LglyQkU5S6p3pTjzIBH11iTauvdAzGGgNhR/vVBEeXFRdWzA2XJfwR6dCyoUjvDuum28tz6+RRYUOGZgTyYMK6c+3HD6nWSEI8q+A2H214c5bmBPtu450EC5hSJK/56d+MHZDWf7jnLr5OFoRHl5sbc4blR5RJcaf2xmFeVdSigJktK8F8W/IuyKTfGmzrlrtzWIE44oV0+oyGiKSlSUFx8/MG/28UTPSP/M5LkUbrnUZNuD/b8QpEq35qoAJLt+Nu812eDTRJI5Gz04YxVPzqqKWQsO6VbKoT3K0vY/tWZMCTlSLWg3ol835q/Nfj29vQfCDQadJrJld10Dc9v++ggvLNwQm8E7FIlQ5FtCAbzWzSc7aqkPR/jz4sSV0tMTUW/MwuhBPeJaZlEEz8T06zdXxwbbhSIRggFh4w6v76t/j7KYi3ei/KGIsnl3HUUBQVA6FQeoD0WoT5IWUbNfWXGAEYd2i7WEojW5qBtyNCz6cSmrYn1EyQrgpsyknWsBnzjjebeyophDSC6FWzIvqHwXmh2NVOnWHKas2Fi9hMHYqbzbkr3bqVMCDQafRkk2/mfOmpqYt2nUojGgV6c266ZtSigDUXNQ4uSeieN4onQtLaL2QDilKS0dWxP6UJKtmLBld11WLaCoF5yffQfCnFRRzvhhfXhx4Ya4Gb8Xb9jBxPvf4jNfKy7ZvTMRvWeytIlySLdSdu0P0b2siPpQmKMP7Ub19lpEvAGy3z3jyJgyGXd4b8IRZfx9b8YGAqYqgJvSb5JrAf/cNSdyygNvs3mXlybb9tRxySNzieBVFNIVbonLaFw1bihzqmoIisRmmFjm+sUyFZq3pFGeHbXllPjcqfoUm2MNqgdnrGowGNvvFZpYIUqVz5JNrzVmUA9e+Pa4Bu/zE7fEjJ/31u/gkkfnxsVvK5gScnxlzICk/TD76yOEwhGOHdgjzh17X8LYDTg4EWgkojw7v+FkpJlINjaoMZQVB+hRVtxgbjrwJj599cYJvLiousGxZMtQ5AP/7Aybd9cRFBDxlObTc9fF+sym4k1f/9Sc+IGA2RTAuZJYwEdNpqmuW1ZSxKHdy2JKqD5CrGWUyS3/gddX8vg/qmKzp1/7hcOZcESfWOGUakzQSRW9vdnW1bvHuIreGWdQ74gtp8TnHnlo8j7F5mg5Pz1nXYPv9NMdtYTCkaQVolStr5tPO4KnEwaub9yxn4semUvlkJ5Mf/8TtuxO/30uXr+jRQaBNzemhHAj/VVjGTUxU32wcVfc8t1REuP16FTMjZOG8d/vVNG1tChnJRSdFLSp1IUi7KxNkWFVue+vH7Jtb8sonGwIK7FOoKiX0C2+jzxxIKDgrfD6wOsrY4NjV2zahaoiIjkppaiX2z837jg463lAqNnrmUzTFd6BZE1VDrrlR6kPR7jvrx/GBhm//F513OzpLy/eSP+enWLPmVixiZro5lUddLyIKERUmb9mW1yh9pQrFLPtl0hFYmsNiMnfEi2qXOZhSzzHn2f210cIa8M+xVzcoKPscVNcbXEVp1CKWuLm3XWc8sDbzP7BaQ2m2QoQb46OKsRfvfFRg/IiarZfkmJqsESU1IPAWzOmhIh29K1NuZaOQtyEnqnYsquOy6ctiJlScmHs4J6cOLQ3T8/9uMFs2rmiCvtT3H9J9U4++GRnRmVXFBBG9OtC1dZ9MdNapxRKurkJBiTlzOTqfss+2Un19niz18vvbWRn7YGYs8TDb69h9KAe/PGakygrKUpasG3auT+uxdi5JEjX0qKY6TFasD81Z12cK/b+AyGWJnHTj9K/R1lsfJnffPrBxp2UFjUs7PxjrPz0KCvmO6cdwYMzVrHEdz8Fnp2/nstPGhK3NPu+A2EeeWcNGtEmmZv86e8vBBOXDEilrFIprsTC3++iHz1nblVNg/cC8fOwJTM1+luYUaJ9iomtkvv++mFca1Qjyg/OPjruuicM7cW7VTX889NdlBQFUdVYOZDp896866B5NirfgzNWsexTrz9WgJGHdY+1vl7JsY83FW3RO85WVsWbkTbb2kaiCS6RziXBnFtAh3QrZc7tXq3p/r+t4L/fXpM0XtQVsyUYM6gHQJwJMhljB/fkmas+z+XTFrB0405KioS6+kjGxfHSURr0zHOpFGkUr2+pPlbIplodtl/3Ug7r0QlRZenGnWll61Qc5Kh+XeMKfD99uxZz4dhB/G7uurQVkyCQKhd0Kg5QH1ZCbp2oa75QQTiiPP6PtUnzVqfiIAdC4aRy+6/lpygAIw/rQTBArL/t/NH9CYjElERElVeXfAIQdyzaj5JsLBxAny7FDOzVmX9+4rU+k8nlX3wxKFDetZSvjBnA/KoalmzciaqnIEYe1j3mmOI3y6YiupLwJY/MjZk/BRgzqCcbtu+L61MNCvTp6vU/Hn1ofAVi1J2vN5C7X7dSIqpx63w1BRFiz3nVuKG89F51nHx9u5ZwWA/PpJvMdJ4rYwf3bFSfUKFXVs2rEhKRKcB/4X2TT6jqfQnHS4FngOOBGuCrqrrOHfshcDXet3yzqr6e7l5NUUL3/20Fj76zplky3thBPeM6KrOhX/fSWNM9FI5wsZsZG7zBmqMH94xNPfPozKq0H2lzUVYcIJSkcEtFNquy5pOgQHEws+LKRKZKRnPhd2w5dkA3Ptq8p4E7v9GQsiLxKhuN6L/sXBLkyvFDmbVyM0s/3ZMH6VLTt2tJ3NANaP68ds3JQ7njS6NyPq/dKiERCQKrgMlANbAA+JqqLvfFuQE4VlWvE5FLgQtU9asiMhL4I3AC0B94AxiuqimbGE1RQqFwhF+8vpKXF2/ksz11GV2skxGdQfu5b52YdomHVNw4aViciSNxipZo7eaCh2ZlbJ00hmQfRKfiQIPafksV0obRlkn0Tm2MhSRXOpcEWX7PlJzPK7QSymfv4gnAalWtUtUDwPPAeQlxzgN+57ZfAk4XEXHhz6tqnaquBVa76+WFomCAH5x9NO/ecQZ9u5bmfH7nkiA3TBrGC98eR1lJES9cN45+3XK7TnTOuag8U6eM4NUbJ8QW2Ivyx2tOyvnaqehUHGTs4J4cN7AHN0waxnUTD485YJQVB7j8pCGMHdyTTsUB+nUv5dgBPbjulMO5fuLhdC4JNosMhtHeiE5i6qdraVHchMCC54jUnBxInOqljZBPx4QBwAbffjVwYqo4qhoSkZ1AuQufl3DugMQbiMi1wLUAgwcPbhahvzJmAI/PqsrKS00Exgzs2WDesKJggHemTuKyJ+azYtNuupUWsXXvgVins+DNeB2tGZUWZT/HWVlJEbNvP41fzljlDWwNCBu27aNm74HYFD6CZ7bYH9JYJ2jfbt6M2f6ZmL85YWic11co7A1OzWYiRglIyr4r8PpOtu8LUVIUoGtpMKN7qWG0B6J9fKrELWty4Viv+Hr5Pc8B4YIx/QkgDfqJmsKxA3s0y3VamjbtHaeqjwGPgWeOa45rfu+so+IK4vpwhCdnr411sB47sAeKZCyky0qKYnOJpZoBubGzIicOyszl+unumctgz1snD6c+FOapOR8TiiidS4J0Lg4QCAS4cMwAbvNN0rr/QCimkI/q15VQOMIHn+zOcAcDnDu6W+W2KCAUByUrT02j5UmceitZhe4HX4yfGuu2s46Kq1DWh8Js2XOAXbX1dC8rJuL6Bgb27ET1jv3sPRACVbqUFnH+6P4sWr+DFZt2x2bFb4vks09oHHCXqp7l9n8IoKr/6YvzuoszV0SKgE1AX+B2f1x/vFT3a0qfUDrS9c8YjSMUjvCz1z6MKbBDupbw5eMO43+XbgK8pR5unDSMy59aEPvApl1xPFc+tTDmtVZWJHQtLWJHbYiwWx+pZ6diLjx+IBFV/jBvfYNZGwJAebcStu725s8LCvTqXMyeulBKh4bSANQllPlFAa/GW+draZYWeaaWgEiD+3YuCXJ4eSeKi4Js2LaPHbX1sUlyPY8wYvvHDujGuMP7gxUz4QAACiFJREFUMH/ddiYMK4+twBvNf8n2f/nGKp6Z+3FMOZUG3TRMrgtCgPKuJew7EI61vg/pVkK/7mVs2V3H1t11iAi9Ohdz/uj+LFi3PZbOntlIGNW/G5/sqOWzPfVxzxUKhTkQiSpL7z+ZVeiQbiWcc8yh/GnhRurqw/TpWko09c477jAWrNvGBxt3IdJ0RVsk0LNzMVv3HpS1KCANPPkS00DVexfRGeWPG9idEyvKmbd2G0ERqt1MBReM7k8E5Q/zN3AgFKG8Swn9upfyhSP7tsnyodB9QvlUQkV4jgmnAxvxHBMuU9Vlvjg3Asf4HBO+oqqXiMgo4DkOOib8HTgyX44JhmEYHZVCK6G8meNcH89NwOt4LtrTVHWZiNwDLFTV6cCTwLMishrYBlzqzl0mIi8Ay4EQcGM6BWQYhmG0TWywqmEYRgem0C2htmW8NAzDMNoVpoQMwzCMgmFKyDAMwygYpoQMwzCMgtFuHBNE5DPg4yZcog+wtZnEaW5MtsbRmmWD1i2fydZ4WrN8yWQboqp9CyEMtCMl1FREZGEhPUTSYbI1jtYsG7Ru+Uy2xtOa5WuNspk5zjAMwygYpoQMwzCMgmFK6CCPFVqANJhsjaM1ywatWz6TrfG0ZvlanWzWJ2QYhmEUDGsJGYZhGAXDlJBhGIZRMDq8EhKRKSKyUkRWi8jtBZJhnYh8ICJLRGShC+stIjNE5CP338uFi4j82sm7VETG5kGeaSKyRUT+6QvLWR4RucLF/0hErsijbHeJyEaXfktE5GzfsR862VaKyFm+8GZ/7yIySETeEpHlIrJMRP7VhRc87dLI1lrSrkxE3hWR9518d7vwChGZ7+71JxEpceGlbn+1Oz40k9x5kO1pEVnrS7vRLrxFvwl33aCILBaRv7j9gqdb1qhqh/3hLTGxBjgcKAHeB0YWQI51QJ+EsPuB29327cDP3PbZwGt4626dBMzPgzwTgbHAPxsrD9AbqHL/vdx2rzzJdhfwvSRxR7p3WgpUuHcdzNd7Bw4DxrrtbnjraY1sDWmXRrbWknYCdHXbxcB8lyYvAJe68EeA6932DcAjbvtS4E/p5M6TbE8DFyWJ36LfhLv2rXhrsP3F7Rc83bL9dfSW0AnAalWtUtUDwPPAeQWWKcp5wO/c9u+A833hz6jHPKCniBzWnDdW1Zl46zs1RZ6zgBmquk1VtwMzgCl5ki0V5wHPq2qdqq4FVuO987y8d1X9VFXfc9u7gQ+BAbSCtEsjWypaOu1UVfe43WL3U+A04CUXnph20TR9CThdRCSN3PmQLRUt+k2IyEDgHOAJty+0gnTLlo6uhAYAG3z71aT/MPOFAv8nIotE5FoX1k9VP3Xbm4B+brtQMucqT0vLeZMzfUyLmrsKKZszc4zBqzW3qrRLkA1aSdo5k9ISYAteAb0G2KGqoST3isnhju8EyvMlX6JsqhpNu3td2v1SREoTZUuQIV9p9yvg+0B0TfRyWkm6ZUNHV0KthZNVdSzwReBGEZnoP6hee7nV+NK3NnmAh4FhwGjgU+AXhRRGRLoCLwPfVdVd/mOFTrsksrWatFPVsKqOBgbi1cJHFEqWRBJlE5HPAT/Ek/HzeCa2H7S0XCLyJWCLqi5q6Xs3Fx1dCW0EBvn2B7qwFkVVN7r/LcCf8T7AzVEzm/vf4qIXSuZc5WkxOVV1syskIsDjHDQjtLhsIlKMV8j/QVVfccGtIu2Sydaa0i6Kqu4A3gLG4ZmyipLcKyaHO94DqMm3fD7ZpjgTp6pqHfAUhUm7CcC5IrIOzzR6GvBftLJ0S0tLdDy11h9QhNc5WMHBTtZRLSxDF6Cbb3sOnp3458R3Zt/vts8hvtPz3TzJNZT4zv+c5MGrGa7F64Dt5bZ750m2w3zbt+DZtgFGEd/ZWoXXsZ6X9+7S4BngVwnhBU+7NLK1lrTrC/R0252AfwBfAl4kvoP9Brd9I/Ed7C+kkztPsh3mS9tfAfcV6ptw15/EQceEgqdb1nK3xE1a8w/Pk2UVnv35jgLc/3D38t8HlkVlwLPT/h34CHgjmlldxn7IyfsBUJkHmf6IZ5qpx7MNX90YeYBv4nVwrgauyqNsz7p7LwWmE1+w3uFkWwl8MZ/vHTgZz9S2FFjifme3hrRLI1trSbtjgcVOjn8CP/F9H++6dHgRKHXhZW5/tTt+eCa58yDbmy7t/gn8noMedC36TfiuPYmDSqjg6Zbtz6btMQzDMApGR+8TMgzDMAqIKSHDMAyjYJgSMgzDMAqGKSHDMAyjYJgSMgzDMAqGKSGjzSMiYTeL8TI30/FtIpI2b4vIUBG5rAVke0JERmaIc36qOCJynYhcnuM93xaRylzOMYxCUZQ5imG0emrVm1IFETkEbzbh7sCdac4ZClzm4uYNVf1WFtHOB/4CLE9y/iPNLpRhtCKsJWS0K9Sb+uhavEk5xbV4/iEi77nfeBf1PuALrgX1/9u7fxCpriiO49+fJKhxJY2aRmKIEmPwHwgBCdEiiWVaURC1ENTKTRQsRBPBYkkRENktYiO4KBiwsbKLiXELLbKC/0BELETsEhOMYXMszhldRnd3ZlUeDL9PNXPfvfvOY5i5e++8Oad/kn7PVJ8bkoYlXZf0s6R36tgXVc/laiUCnVntz1Ylkh5JOlKrtRFJ79V5vgZ+qFgWt53zO0l7x/2tAWVtm1uSPq/22ZJOV0xnyV/1t8ZvkHSprumMpD5Ji5T1bOZJmlHXveE1vxRmHfEkZD0nIlopZhaQedq+ikwQuxE4Wt32A79GxOqI+HGSfu2WAoMRsQz4E9gtaRZZW2ZjRKwgdxh2vWTsHGAkIlYBF4AdEfE7malgX8Vye4rLeysiPgX28Hyltwv4p2I6BKwBkDQPOAB8Wdd1GfgmIu4CA2Ty0m+BaxFxforzmr0RnoSs170N/CTpKpmuZKLvZzrtdy8iLtbjk2Q6nKXAnYi4Ve0nyOJ77Z6Q224AV8gtwW61kqKOH7+uYiEiRsn0MpB5yz4BLlYZgq3Aoup3nNyy3AnsnUYcZq+FvxOyniPpQ2CMXN0cAh4Aq8h/uh5PMKy/w37tea66yXv1XzzPkzXG9N5//3YxXmTtm00vHMhtxIX1tA/4axqxmL0yr4Ssp0iaT2YNPlYf+O8C9yNLFWwht+kgP3Tnjhs6Ub9270taW483A7+RCR8/kLSk2rcAv3QRdnss3bpQsVB1blZW+wjwWSsuSXMkfVTHBoBh4CBZwsGsEZ6ErBfMbt2iTWapPg98X8cGga2S/iALkP1d7aPAWN0k0D9Jv3Y3ycKD18l0/EMR8RjYDpyp7bz/yYmwU6eBfXVjw+Ipe79oCOirmA6TW3VExENgG3BK0ihwCfhY0nqyENtARAwDTyRtn8Z5zV6Zs2ibdUhZFvtcRCxvOBSznuGVkJmZNcYrITMza4xXQmZm1hhPQmZm1hhPQmZm1hhPQmZm1hhPQmZm1pinK5JC1wyi/2IAAAAASUVORK5CYII=)![res2.png](data:image/png;base64,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)![res1.png](data:image/png;base64,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)"
      ],
      "metadata": {
        "id": "rkklByEWencP"
      }
    },
    {
      "cell_type": "markdown",
      "source": [
        "## Conclusión : \n",
        "\n",
        "Hemos realizado da detección de datos anómalos con tres estructuras diferentes : \n",
        "\n",
        "*   Autoencoder porfundo\n",
        "*   Autoencoder reducion de dimensionalidad + Autoencoder detector anomalias\n",
        "*   PCA y  Autoencoder detector anomalias\n",
        "\n",
        "\n",
        "Donde mejores resultados hemos obtenido es en la PCA + Autoencoder. Esto puede deberse a que la reducción de la dimensionalidad mediante PCA ha conseguido encontrar las direcciones de máxima varianza de los datos  normales, separando aún mas los anómalos. \n",
        "\n",
        "Puede que nuestro autoencoder de reducción de la dimensionalidad, debido a su carácter altamente no lineal, no haya podido separar los dos tipos de datos, sino que ha encontrado direcciones no lineales lo que hacían era juntar más los datos. Esto último podemos verlo :\n",
        "\n",
        "La primera estructura utilizada, el autoencoder profundo, ha dado unos resultados notables, pesee a partir de todo el data set entero. No obstante, vemos que una simpe reducción de dimension mediante PCA a mejorado significativamente los resultados.\n",
        "\n",
        "Cabe también destacar la función final de activación `tanh` que ha mejorado las prestaciones, pese a no tener datos negativos en el data set en los dos primeros modelos.\n",
        "\n",
        "\n",
        "\n"
      ],
      "metadata": {
        "id": "ntwsaRjtOISb"
      }
    },
    {
      "cell_type": "code",
      "source": [
        "\n",
        "plt.scatter(test_codificado[:,0], test_codificado[:,1], c= test_labels, alpha = 0.5)\n",
        "plt.title(\"Distribucion de las dos primeras dimensiones en el espacio transformado por el autoencoder\")"
      ],
      "metadata": {
        "id": "o5U07kPhFbLS",
        "colab": {
          "base_uri": "https://localhost:8080/",
          "height": 299
        },
        "outputId": "2130d84c-07ce-4534-cf51-41666dc6af95"
      },
      "execution_count": null,
      "outputs": [
        {
          "output_type": "execute_result",
          "data": {
            "text/plain": [
              "Text(0.5, 1.0, 'Distribucion de las dos primeras dimensiones en el espacio transformado por el autoencoder')"
            ]
          },
          "metadata": {},
          "execution_count": 51
        },
        {
          "output_type": "display_data",
          "data": {
            "text/plain": [
              "<Figure size 432x288 with 1 Axes>"
            ],
            "image/png": "[encoded data removed]"
          },
          "metadata": {
            "needs_background": "light"
          }
        }
      ]
    },
    {
      "cell_type": "markdown",
      "source": [
        "Vemos que pese a si estar separados los outliers del los conjuntos mas densos, hay muchos datos *normales* situados en zonas más alejadas, es por eso que nuestro autoencoder genera un gran error en la reconsruccón de  muchos inliers."
      ],
      "metadata": {
        "id": "mQ5D5s2rSjWT"
      }
    },
    {
      "cell_type": "code",
      "source": [
        ""
      ],
      "metadata": {
        "id": "dD6NDG4yS-4S"
      },
      "execution_count": null,
      "outputs": []
    }
  ]
}